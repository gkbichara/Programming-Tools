{
 "cells": [
  {
   "cell_type": "markdown",
   "id": "c2245acc",
   "metadata": {
    "id": "c2245acc"
   },
   "source": [
    "### Question 01\n",
    "\n",
    "- Using the following URL, you can get the weather data of any place, by specifing the place latitude and longitude or its name:\n",
    "\n",
    "https://rapidapi.com/worldapi/api/open-weather13/\n",
    "\n",
    "- Signup, login then subscribe to `(Open Weather)` then select `3-hour Forecast 5 days` API (be sure to choose the basic free plan)\n",
    "- Follow the provided instuction to be able to fetch data from their website.\n",
    "- Fetch data for the following cities:\n",
    "\n",
    "    `cities=['New York', 'San Francisco', 'Washington DC', 'Buffalo']`\n",
    "    \n",
    "    where (You will need to use the coordinates in order to fetch the data):\n",
    "    \n",
    "    `coordinates = {'New York':{'Latitude':40.712776,'Longitude': -74.005974}, 'San Francisco': {'Latitude':37.774929,'Longitude': -122.419418}, 'Washington DC':{'Latitude':38.907192,'Longitude': -77.036873},'Buffalo':{'Latitude':42.886448,'Longitude': -78.878372}}`\n",
    "    \n",
    "    \n",
    "- For each city make a Dataframe that looks as follows:\n",
    "\n",
    "|| dt |\thumidity |\tpressure |\ttemp_min |\tfeels_like |\n",
    "|---|---|---|---|---|---|\n",
    "| 0 |\t1635984000 |\t54.55 |\t1024.79 |\t282.73 |\t285.93 |\n",
    "| 1 |\t1636070400 |\t69.28 |\t1025.25 |\t284.13 |\t282.33 |\n",
    "|2 |\t1636156800 |\t73.19 |\t1017.72 |\t285.40 |\t282.71 |\n",
    "|3 |\t1636243200 |\t62.23 |\t1018.62 |\t283.74 |\t280.72 |\n",
    "|4 |\t1636329600 |\t57.89 |\t1020.54 |\t281.01 |\t281.73 |\n",
    "|5 |\t1636416000 |\t61.58 |\t1021.16 |\t280.58 |\t282.13 |\n",
    "|6 |\t1636502400 |\t60.40 |\t1017.86 |\t281.93 |\t282.22 |\n",
    "|7 |\t1636588800 |\t61.60 |\t1019.52 |\t281.80 |\t283.47 |\n",
    "|.. |\t.......... |\t..... |\t....... |\t...... |\t.... |\n",
    "|29 |\t1638489600 |\t73.70 |\t1014.98 |\t279.25 |\t280.06 |\n",
    "\n",
    "- Save each dataFrame (without the index) in a file that has the same name of the city with extension `csv` (for example: `New York.csv`). "
   ]
  },
  {
   "cell_type": "code",
   "execution_count": 1,
   "id": "81713e4e",
   "metadata": {
    "executionInfo": {
     "elapsed": 209,
     "status": "ok",
     "timestamp": 1636242726464,
     "user": {
      "displayName": "Anish Mahishi",
      "photoUrl": "https://lh3.googleusercontent.com/a/default-user=s64",
      "userId": "00202228449866507459"
     },
     "user_tz": 240
    },
    "id": "81713e4e"
   },
   "outputs": [],
   "source": [
    "# Your code here"
   ]
  },
  {
   "cell_type": "markdown",
   "id": "1ece47e3",
   "metadata": {
    "id": "1ece47e3"
   },
   "source": [
    "### Question 02\n",
    "- Combine all previous dataframes in one with additional column that's the city name. This should look as follows:\n",
    "\n",
    "\n",
    "| |dt| \thumidity |\tpressure |\ttemp_min |\tfeels_like |\tcity_name |\n",
    "|---|---|---|---|---|---|---|\n",
    "| 0 |\t1635984000 |\t54.55 |\t1024.79 |\t282.73 |\t285.93 |\tNew York |\n",
    "| 1 | \t1636070400 | 69.28 |\t1025.25 |\t284.13 |\t282.33 |\tNew York |\n",
    "| 2 |\t1636156800 |\t73.19 |\t1017.72 |\t285.40 |\t282.71 |\tNew York |\n",
    "| ... |\t... |\t... |\t... |\t... |\t... |\t... |\n",
    "| 28 |\t1638403200 |\t77.29 |\t1016.95 |\t278.76 |\t280.81 |\tWashington DC |\n",
    "| 29 |\t1638489600 |\t70.03 |\t1017.47 |\t279.89 |\t289.94 |\tWashington DC |\n",
    "\n",
    "**Hint:**\n",
    "You can add column to a dataFrame df using: `df['col_name']=value`\n",
    "\n",
    "- Set the index in the new data frame to be the city_name\n",
    "- Save this data frame as (all.csv)"
   ]
  },
  {
   "cell_type": "code",
   "execution_count": 5,
   "id": "4b0a2dd9",
   "metadata": {
    "colab": {
     "base_uri": "https://localhost:8080/",
     "height": 204
    },
    "executionInfo": {
     "elapsed": 201,
     "status": "ok",
     "timestamp": 1636243025149,
     "user": {
      "displayName": "Anish Mahishi",
      "photoUrl": "https://lh3.googleusercontent.com/a/default-user=s64",
      "userId": "00202228449866507459"
     },
     "user_tz": 240
    },
    "id": "4b0a2dd9",
    "outputId": "884b61d1-1974-4f63-cc34-753dbdd63044"
   },
   "outputs": [],
   "source": [
    "# Your code here"
   ]
  },
  {
   "cell_type": "code",
   "execution_count": 6,
   "id": "c3b7236e",
   "metadata": {
    "colab": {
     "base_uri": "https://localhost:8080/",
     "height": 450
    },
    "executionInfo": {
     "elapsed": 193,
     "status": "ok",
     "timestamp": 1636243028703,
     "user": {
      "displayName": "Anish Mahishi",
      "photoUrl": "https://lh3.googleusercontent.com/a/default-user=s64",
      "userId": "00202228449866507459"
     },
     "user_tz": 240
    },
    "id": "c3b7236e",
    "outputId": "8b4b2964-78f0-43a1-e108-f3c479a8e7ea"
   },
   "outputs": [],
   "source": [
    "# Your code here"
   ]
  },
  {
   "cell_type": "markdown",
   "id": "0d0b5aae",
   "metadata": {
    "id": "0d0b5aae"
   },
   "source": [
    "### Question 03\n",
    "- Using the data you had from previous question, find the following:\n",
    "    - The city that has the highest feels_like\n",
    "    - The city that has the lowest pressure\n",
    "    - The highest humidity in each city"
   ]
  },
  {
   "cell_type": "code",
   "execution_count": 2,
   "id": "44eae7dc",
   "metadata": {
    "colab": {
     "base_uri": "https://localhost:8080/"
    },
    "executionInfo": {
     "elapsed": 179,
     "status": "ok",
     "timestamp": 1636242874240,
     "user": {
      "displayName": "Anish Mahishi",
      "photoUrl": "https://lh3.googleusercontent.com/a/default-user=s64",
      "userId": "00202228449866507459"
     },
     "user_tz": 240
    },
    "id": "44eae7dc",
    "outputId": "8719209b-9dc7-419e-e02c-f16af47feffe"
   },
   "outputs": [],
   "source": [
    "# Your code here"
   ]
  },
  {
   "cell_type": "code",
   "execution_count": 3,
   "id": "4dbf7ddc",
   "metadata": {
    "colab": {
     "base_uri": "https://localhost:8080/"
    },
    "executionInfo": {
     "elapsed": 227,
     "status": "ok",
     "timestamp": 1636243295365,
     "user": {
      "displayName": "Anish Mahishi",
      "photoUrl": "https://lh3.googleusercontent.com/a/default-user=s64",
      "userId": "00202228449866507459"
     },
     "user_tz": 240
    },
    "id": "4dbf7ddc",
    "outputId": "c6754d26-9da9-437c-84f0-5846ba454243"
   },
   "outputs": [],
   "source": [
    "# Your code here"
   ]
  },
  {
   "cell_type": "code",
   "execution_count": 4,
   "id": "992600a6",
   "metadata": {
    "colab": {
     "base_uri": "https://localhost:8080/"
    },
    "executionInfo": {
     "elapsed": 224,
     "status": "ok",
     "timestamp": 1636242916374,
     "user": {
      "displayName": "Anish Mahishi",
      "photoUrl": "https://lh3.googleusercontent.com/a/default-user=s64",
      "userId": "00202228449866507459"
     },
     "user_tz": 240
    },
    "id": "992600a6",
    "outputId": "9985c29a-57ec-4510-8462-dbe90a9987a0"
   },
   "outputs": [],
   "source": [
    "# Your code here"
   ]
  },
  {
   "cell_type": "markdown",
   "id": "b2ea74d9-630f-478e-98a1-8c81ecbd585e",
   "metadata": {},
   "source": [
    "### Question 04\n",
    "- Using the data you had from previous question, find the following:\n",
    "    - Visualize How does temperature vary over time in each city? (use sns.lineplot,  make sure to convert dt into time as mentioned in the hint first)\n",
    "    - Visualize the Average Humidity in each city\n",
    "    - Compare (visually) the Pressure Distribution among the given Cities\n",
    "\n",
    "\n",
    "**hint:**\n",
    "- dt is a field that contains timestamp. This can be converted into readable format using:\n",
    "<code>\n",
    "from datetime import date\n",
    "from datetime import date\n",
    "df['dt'] = df['dt'].apply(date.fromtimestamp)\n",
    "</code>"
   ]
  },
  {
   "cell_type": "code",
   "execution_count": null,
   "id": "f61be435-1139-44ac-9e09-12a28bec58fe",
   "metadata": {},
   "outputs": [],
   "source": []
  }
 ],
 "metadata": {
  "colab": {
   "name": "Workshop01Solution.ipynb",
   "provenance": []
  },
  "kernelspec": {
   "display_name": "projectenv",
   "language": "python",
   "name": "python3"
  },
  "language_info": {
   "codemirror_mode": {
    "name": "ipython",
    "version": 3
   },
   "file_extension": ".py",
   "mimetype": "text/x-python",
   "name": "python",
   "nbconvert_exporter": "python",
   "pygments_lexer": "ipython3",
   "version": "3.10.16"
  }
 },
 "nbformat": 4,
 "nbformat_minor": 5
}
