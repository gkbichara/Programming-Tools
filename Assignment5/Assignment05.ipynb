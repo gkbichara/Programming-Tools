{
 "cells": [
  {
   "cell_type": "markdown",
   "metadata": {},
   "source": [
    "## Question 1\n",
    "- Read data from `Crime.csv` then print the names of the columns which have missing values.\n",
    "- Drop any row that has missing values.\n",
    "- Which three subcategories have the top three event counts?"
   ]
  },
  {
   "cell_type": "code",
   "execution_count": null,
   "metadata": {},
   "outputs": [],
   "source": [
    "#Your Code Here"
   ]
  },
  {
   "cell_type": "code",
   "execution_count": null,
   "metadata": {},
   "outputs": [],
   "source": [
    "#Your Code Here"
   ]
  },
  {
   "cell_type": "code",
   "execution_count": null,
   "metadata": {},
   "outputs": [],
   "source": [
    "#Your Code Here"
   ]
  },
  {
   "cell_type": "markdown",
   "metadata": {},
   "source": [
    "## Question 2\n",
    "- Create two new columns (these two columns should be datetime objects):\n",
    "    - `Occurred DateTime`= `Occurred Date` + `Occurred Time` \n",
    "    - `Reported DateTime` = `Reported Date` + `Reported Time` \n",
    "- Delete the following columns: `Occurred Date`, `Occurred Time`, `Reported Date`, `Reported Time`\n",
    "\n",
    "- **Hints**: \n",
    "    - The panadas function **pd.to_datetime** can help\n",
    "    - The loaded Occurred/Reported Time appears to be a float like '1930.0'. This should be interpreted as '19:30:00' eventually"
   ]
  },
  {
   "cell_type": "code",
   "execution_count": null,
   "metadata": {},
   "outputs": [],
   "source": [
    "#Your Code Here"
   ]
  },
  {
   "cell_type": "code",
   "execution_count": null,
   "metadata": {},
   "outputs": [],
   "source": [
    "#Your Code Here"
   ]
  },
  {
   "cell_type": "markdown",
   "metadata": {},
   "source": [
    "## Question 3\n",
    "\n",
    "- The crime subcategories are too fine-grained for our analysis. So regroup several subcategories together into 8 major categories: `[Thefts, Burglary, Robbery, Alcohol_Drug, Sex_Related, Homicide, Misc]`\n",
    "\n",
    "- Construct a mapping dictionary from the subcategories to the corresponding major crime types, then use it by creating a new column called `crime_type`.\n",
    "mapping dictionary.:\n",
    "    - For example, we would like to map `CAR PROWL`, `MOTOR VEHICLE THEFT`, ... to `thefts`.\n",
    "    - We would like to map `ROBBERY-STREET`, `ROBBERY-RESIDENTIAL`,... to `robbery`, etc.\n",
    "    \n",
    "**hint**: you can use df[col].map to map a column to values in a dictionary"
   ]
  },
  {
   "cell_type": "code",
   "execution_count": null,
   "metadata": {},
   "outputs": [],
   "source": [
    "#Your Code Here\n",
    "mappingDict={\n",
    "    'MOTOR VEHICLE THEFT': 'Thefts',\n",
    "    'THEFT-ALL OTHER': 'Thefts',\n",
    "    'THEFT-BUILDING': 'Thefts',\n",
    "    'THEFT-BICYCLE': 'Thefts',\n",
    "    'THEFT-SHOPLIFT': 'Thefts',\n",
    "    'BURGLARY-COMMERCIAL': 'Burglary',\n",
    "    'BURGLARY-RESIDENTIAL-SECURE PARKING': 'Burglary',\n",
    "    'BURGLARY-COMMERCIAL-SECURE PARKING': 'Burglary',\n",
    "    'BURGLARY-RESIDENTIAL': 'Burglary',\n",
    "    'ROBBERY-STREET': 'Robbery',\n",
    "    'ROBBERY-RESIDENTIAL': 'Robbery',\n",
    "    'ROBBERY-COMMERCIAL': 'Robbery',\n",
    "    'LIQUOR LAW VIOLATION': 'Alcohol_Drug',\n",
    "    'DUI': 'Alcohol_Drug',\n",
    "    'RAPE': 'Sex_Related',\n",
    "    'PROSTITUTION': 'Sex_Related',\n",
    "    'SEX OFFENSE-OTHER': 'Sex_Related',\n",
    "    'AGGRAVATED ASSAULT-DV': 'Sex_Related',\n",
    "    'AGGRAVATED ASSAULT': 'Sex_Related',\n",
    "    'PORNOGRAPHY': 'Sex_Related',\n",
    "    'HOMICIDE': 'Homicide',\n",
    "    'CAR PROWL': 'Misc',\n",
    "    'WEAPON': 'Misc',\n",
    "    'ARSON': 'Misc',\n",
    "    'GAMBLE': 'Misc',\n",
    "    'DISORDERLY CONDUCT': 'Misc',\n",
    "    'FAMILY OFFENSE-NONVIOLENT': 'Misc',\n",
    "    'LOITERING': 'Misc'\n",
    "}\n",
    "#Your Code Here"
   ]
  },
  {
   "cell_type": "markdown",
   "metadata": {},
   "source": [
    "## Question 4\n",
    "- Compare `visually` the average time gap between **Reported DateTime** vs **Occurred DateTime** of different crimes types.\n",
    "\n",
    "**Hints**: \n",
    "- You can get the time in seconds from datetime column using `df[col_name].dt.total_seconds()`.\n",
    "- You can convert seconds to datetime usine `pd.to_timedelta(df[\"sec\"], unit='s')`"
   ]
  },
  {
   "cell_type": "code",
   "execution_count": null,
   "metadata": {},
   "outputs": [],
   "source": [
    "#Your Code Here"
   ]
  },
  {
   "cell_type": "markdown",
   "metadata": {},
   "source": [
    "## Question 5\n",
    "- Show `visually` the top 5 most dangerous neighorhood in the EAST Precinct (with number of crime events in each neighorhood)"
   ]
  },
  {
   "cell_type": "code",
   "execution_count": null,
   "metadata": {},
   "outputs": [],
   "source": [
    "#Your Code Here"
   ]
  },
  {
   "cell_type": "markdown",
   "metadata": {},
   "source": [
    "## Question 6\n",
    "- Create column called **year** that shows the year of the crime. Which year has the lowest and highest crime event counts, respectively?\n",
    "- Plot the number of `Thefts` crimes in the last ten years"
   ]
  },
  {
   "cell_type": "code",
   "execution_count": null,
   "metadata": {},
   "outputs": [],
   "source": [
    "#Your Code Here"
   ]
  },
  {
   "cell_type": "code",
   "execution_count": null,
   "metadata": {},
   "outputs": [],
   "source": [
    "#Your Code Here"
   ]
  },
  {
   "cell_type": "markdown",
   "metadata": {},
   "source": [
    "## Question 7\n",
    "- keep only crime events occurred in-between **2008-2018** (remove all other crimes).\n",
    "- Show `visually` which crime type has the highest percentage of events"
   ]
  },
  {
   "cell_type": "code",
   "execution_count": null,
   "metadata": {},
   "outputs": [],
   "source": [
    "#Your Code Here"
   ]
  },
  {
   "cell_type": "code",
   "execution_count": null,
   "metadata": {},
   "outputs": [],
   "source": [
    "#Your Code Here"
   ]
  },
  {
   "cell_type": "markdown",
   "metadata": {},
   "source": [
    "## Question 8\n",
    "- Analyze the crime prevalence in terms of week days (create column called `day` that specifies the day of the crime).\n",
    "- Which weekday (Sunday, Monday, ....Saturday) has highest/lowest daily Homicide crime count? (Visualize your findings)\n",
    "\n",
    "**Hint:** use `.day_name()` with time object to get the day"
   ]
  },
  {
   "cell_type": "code",
   "execution_count": null,
   "metadata": {},
   "outputs": [],
   "source": [
    "#Your Code Here"
   ]
  },
  {
   "cell_type": "code",
   "execution_count": null,
   "metadata": {
    "scrolled": true
   },
   "outputs": [],
   "source": [
    "#Your Code Here"
   ]
  },
  {
   "cell_type": "markdown",
   "metadata": {},
   "source": [
    "## Extra Credit Questions\n",
    "\n",
    "- Consider the 24 hours window into 6 frames '12am-4am', '4am-8am', '8am-12pm', '12pm-4pm', '4pm-8pm', '8pm-12am'. Create a column called `Occured TimeFrame` that contains the crime occurred time frame.\n",
    "\n",
    "- Compare `visually` time-frames in term of the number of crimes.\n",
    "- Print the name of the most dangerous neighborhood in the WEST Precinct, Then Show `visually` the percentages of crimes during different TimeFrames in that neighborhood"
   ]
  },
  {
   "cell_type": "code",
   "execution_count": null,
   "metadata": {},
   "outputs": [],
   "source": [
    "# Your Code Here"
   ]
  },
  {
   "cell_type": "code",
   "execution_count": null,
   "metadata": {
    "scrolled": true
   },
   "outputs": [],
   "source": [
    "#Your Code Here"
   ]
  },
  {
   "cell_type": "code",
   "execution_count": null,
   "metadata": {},
   "outputs": [],
   "source": [
    "#Your Code Here"
   ]
  },
  {
   "cell_type": "code",
   "execution_count": null,
   "metadata": {
    "scrolled": true
   },
   "outputs": [],
   "source": [
    "#Your Code Here"
   ]
  }
 ],
 "metadata": {
  "kernelspec": {
   "display_name": "Python 3 (ipykernel)",
   "language": "python",
   "name": "python3"
  },
  "language_info": {
   "codemirror_mode": {
    "name": "ipython",
    "version": 3
   },
   "file_extension": ".py",
   "mimetype": "text/x-python",
   "name": "python",
   "nbconvert_exporter": "python",
   "pygments_lexer": "ipython3",
   "version": "3.11.7"
  }
 },
 "nbformat": 4,
 "nbformat_minor": 4
}
