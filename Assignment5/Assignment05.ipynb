{
 "cells": [
  {
   "cell_type": "markdown",
   "metadata": {},
   "source": [
    "## Question 1\n",
    "- Read data from `Crime.csv` then print the names of the columns which have missing values.\n",
    "- Drop any row that has missing values.\n",
    "- Which three subcategories have the top three event counts?"
   ]
  },
  {
   "cell_type": "code",
   "execution_count": 10,
   "metadata": {},
   "outputs": [
    {
     "data": {
      "text/plain": [
       "['Occurred Date',\n",
       " 'Occurred Time',\n",
       " 'Reported Time',\n",
       " 'Crime Subcategory',\n",
       " 'Precinct',\n",
       " 'Sector',\n",
       " 'Beat']"
      ]
     },
     "execution_count": 10,
     "metadata": {},
     "output_type": "execute_result"
    }
   ],
   "source": [
    "#Your Code Here\n",
    "import pandas as pd\n",
    "\n",
    "df = pd.read_csv('Crime.csv')\n",
    "list(df.columns[df.isna().sum() > 0])"
   ]
  },
  {
   "cell_type": "code",
   "execution_count": 11,
   "metadata": {},
   "outputs": [],
   "source": [
    "#Your Code Here\n",
    "\n",
    "dropped = df.dropna(axis = 0)"
   ]
  },
  {
   "cell_type": "code",
   "execution_count": 12,
   "metadata": {},
   "outputs": [
    {
     "data": {
      "text/plain": [
       "Crime Subcategory\n",
       "CAR PROWL          144128\n",
       "THEFT-ALL OTHER     52389\n",
       "THEFT-SHOPLIFT      47227\n",
       "Name: count, dtype: int64"
      ]
     },
     "execution_count": 12,
     "metadata": {},
     "output_type": "execute_result"
    }
   ],
   "source": [
    "#Your Code Here\n",
    "\n",
    "dropped[\"Crime Subcategory\"].value_counts().head(3)"
   ]
  },
  {
   "cell_type": "markdown",
   "metadata": {},
   "source": [
    "## Question 2\n",
    "- Create two new columns (these two columns should be datetime objects):\n",
    "    - `Occurred DateTime`= `Occurred Date` + `Occurred Time` \n",
    "    - `Reported DateTime` = `Reported Date` + `Reported Time` \n",
    "- Delete the following columns: `Occurred Date`, `Occurred Time`, `Reported Date`, `Reported Time`\n",
    "\n",
    "- **Hints**: \n",
    "    - The panadas function **pd.to_datetime** can help\n",
    "    - The loaded Occurred/Reported Time appears to be a float like '1930.0'. This should be interpreted as '19:30:00' eventually"
   ]
  },
  {
   "cell_type": "code",
   "execution_count": 13,
   "metadata": {},
   "outputs": [
    {
     "name": "stderr",
     "output_type": "stream",
     "text": [
      "/var/folders/kx/58cjbwzx5jjgn5w_sjz3qk0w0000gn/T/ipykernel_13488/2101154760.py:3: SettingWithCopyWarning: \n",
      "A value is trying to be set on a copy of a slice from a DataFrame.\n",
      "Try using .loc[row_indexer,col_indexer] = value instead\n",
      "\n",
      "See the caveats in the documentation: https://pandas.pydata.org/pandas-docs/stable/user_guide/indexing.html#returning-a-view-versus-a-copy\n",
      "  dropped['Occurred Time'] = dropped['Occurred Time'].apply(lambda x: f\"{int(x/100):02d}:{int(x)%100:02d}:00\" if pd.notna(x) else None)\n",
      "/var/folders/kx/58cjbwzx5jjgn5w_sjz3qk0w0000gn/T/ipykernel_13488/2101154760.py:4: SettingWithCopyWarning: \n",
      "A value is trying to be set on a copy of a slice from a DataFrame.\n",
      "Try using .loc[row_indexer,col_indexer] = value instead\n",
      "\n",
      "See the caveats in the documentation: https://pandas.pydata.org/pandas-docs/stable/user_guide/indexing.html#returning-a-view-versus-a-copy\n",
      "  dropped['Reported Time'] = dropped['Reported Time'].apply(lambda x: f\"{int(x/100):02d}:{int(x)%100:02d}:00\" if pd.notna(x) else None)\n",
      "/var/folders/kx/58cjbwzx5jjgn5w_sjz3qk0w0000gn/T/ipykernel_13488/2101154760.py:6: SettingWithCopyWarning: \n",
      "A value is trying to be set on a copy of a slice from a DataFrame.\n",
      "Try using .loc[row_indexer,col_indexer] = value instead\n",
      "\n",
      "See the caveats in the documentation: https://pandas.pydata.org/pandas-docs/stable/user_guide/indexing.html#returning-a-view-versus-a-copy\n",
      "  dropped['Occurred DateTime'] = pd.to_datetime(dropped['Occurred Date'] + ' ' + dropped['Occurred Time'])\n",
      "/var/folders/kx/58cjbwzx5jjgn5w_sjz3qk0w0000gn/T/ipykernel_13488/2101154760.py:7: SettingWithCopyWarning: \n",
      "A value is trying to be set on a copy of a slice from a DataFrame.\n",
      "Try using .loc[row_indexer,col_indexer] = value instead\n",
      "\n",
      "See the caveats in the documentation: https://pandas.pydata.org/pandas-docs/stable/user_guide/indexing.html#returning-a-view-versus-a-copy\n",
      "  dropped['Reported DateTime'] = pd.to_datetime(dropped['Reported Date'] + ' ' + dropped['Reported Time'])\n"
     ]
    },
    {
     "data": {
      "application/vnd.microsoft.datawrangler.viewer.v0+json": {
       "columns": [
        {
         "name": "index",
         "rawType": "int64",
         "type": "integer"
        },
        {
         "name": "Report Number",
         "rawType": "int64",
         "type": "integer"
        },
        {
         "name": "Occurred Date",
         "rawType": "object",
         "type": "string"
        },
        {
         "name": "Occurred Time",
         "rawType": "object",
         "type": "string"
        },
        {
         "name": "Reported Date",
         "rawType": "object",
         "type": "string"
        },
        {
         "name": "Reported Time",
         "rawType": "object",
         "type": "string"
        },
        {
         "name": "Crime Subcategory",
         "rawType": "object",
         "type": "string"
        },
        {
         "name": "Primary Offense Description",
         "rawType": "object",
         "type": "string"
        },
        {
         "name": "Precinct",
         "rawType": "object",
         "type": "string"
        },
        {
         "name": "Sector",
         "rawType": "object",
         "type": "string"
        },
        {
         "name": "Beat",
         "rawType": "object",
         "type": "string"
        },
        {
         "name": "Neighborhood",
         "rawType": "object",
         "type": "string"
        },
        {
         "name": "Occurred DateTime",
         "rawType": "datetime64[ns]",
         "type": "datetime"
        },
        {
         "name": "Reported DateTime",
         "rawType": "datetime64[ns]",
         "type": "datetime"
        }
       ],
       "conversionMethod": "pd.DataFrame",
       "ref": "0ef2f5cc-afa0-4d01-a559-9c3f8507284a",
       "rows": [
        [
         "0",
         "20110000389222",
         "11/29/2001",
         "12:00:00",
         "12/03/2011",
         "13:14:00",
         "CAR PROWL",
         "THEFT-CARPROWL",
         "SOUTHWEST",
         "W",
         "W1",
         "ALKI",
         "2001-11-29 12:00:00",
         "2011-12-03 13:14:00"
        ],
        [
         "1",
         "20160000201733",
         "06/01/2004",
         "00:00:00",
         "06/07/2016",
         "11:26:00",
         "THEFT-ALL OTHER",
         "THEFT-OTH",
         "WEST",
         "D",
         "D1",
         "BELLTOWN",
         "2004-06-01 00:00:00",
         "2016-06-07 11:26:00"
        ],
        [
         "2",
         "20060000308915",
         "07/25/2006",
         "15:36:00",
         "07/25/2006",
         "15:36:00",
         "RAPE",
         "RAPE-STRONGARM",
         "NORTH",
         "L",
         "L1",
         "NORTHGATE",
         "2006-07-25 15:36:00",
         "2006-07-25 15:36:00"
        ],
        [
         "3",
         "2009000018704",
         "09/30/2007",
         "15:30:00",
         "01/15/2009",
         "18:20:00",
         "THEFT-ALL OTHER",
         "THEFT-OTH",
         "NORTH",
         "N",
         "N3",
         "NORTHGATE",
         "2007-09-30 15:30:00",
         "2009-01-15 18:20:00"
        ],
        [
         "4",
         "2008000054923",
         "09/30/2007",
         "00:00:00",
         "02/11/2008",
         "15:32:00",
         "THEFT-ALL OTHER",
         "THEFT-BOAT",
         "WEST",
         "Q",
         "Q2",
         "QUEEN ANNE",
         "2007-09-30 00:00:00",
         "2008-02-11 15:32:00"
        ],
        [
         "5",
         "2008000026238",
         "12/14/2007",
         "23:00:00",
         "01/20/2008",
         "15:02:00",
         "CAR PROWL",
         "THEFT-CARPROWL",
         "NORTH",
         "J",
         "J3",
         "GREENWOOD",
         "2007-12-14 23:00:00",
         "2008-01-20 15:02:00"
        ],
        [
         "6",
         "200800003211",
         "12/19/2007",
         "22:00:00",
         "01/03/2008",
         "15:45:00",
         "CAR PROWL",
         "THEFT-AUTOACC",
         "NORTH",
         "N",
         "N2",
         "NORTHGATE",
         "2007-12-19 22:00:00",
         "2008-01-03 15:45:00"
        ],
        [
         "7",
         "200800001000",
         "12/29/2007",
         "16:00:00",
         "01/01/2008",
         "19:15:00",
         "THEFT-ALL OTHER",
         "THEFT-OTH",
         "WEST",
         "Q",
         "Q3",
         "SLU/CASCADE",
         "2007-12-29 16:00:00",
         "2008-01-01 19:15:00"
        ],
        [
         "8",
         "200800003064",
         "12/29/2007",
         "15:00:00",
         "01/03/2008",
         "13:32:00",
         "CAR PROWL",
         "THEFT-AUTOACC",
         "NORTH",
         "L",
         "L1",
         "LAKECITY",
         "2007-12-29 15:00:00",
         "2008-01-03 13:32:00"
        ],
        [
         "10",
         "20080000725",
         "12/31/2007",
         "20:30:00",
         "01/01/2008",
         "15:24:00",
         "THEFT-ALL OTHER",
         "THEFT-OTH",
         "WEST",
         "Q",
         "Q3",
         "QUEEN ANNE",
         "2007-12-31 20:30:00",
         "2008-01-01 15:24:00"
        ],
        [
         "11",
         "2008000013991",
         "01/01/2008",
         "00:30:00",
         "01/11/2008",
         "17:53:00",
         "CAR PROWL",
         "THEFT-CARPROWL",
         "NORTH",
         "N",
         "N1",
         "BITTERLAKE",
         "2008-01-01 00:30:00",
         "2008-01-11 17:53:00"
        ],
        [
         "12",
         "20080000474",
         "01/01/2008",
         "00:30:00",
         "01/01/2008",
         "09:13:00",
         "THEFT-BUILDING",
         "THEFT-BUILDING",
         "EAST",
         "E",
         "E1",
         "CAPITOL HILL",
         "2008-01-01 00:30:00",
         "2008-01-01 09:13:00"
        ],
        [
         "13",
         "2008000060",
         "01/01/2008",
         "00:10:00",
         "01/01/2008",
         "00:10:00",
         "DUI",
         "DUI-LIQUOR",
         "WEST",
         "Q",
         "Q3",
         "SLU/CASCADE",
         "2008-01-01 00:10:00",
         "2008-01-01 00:10:00"
        ],
        [
         "14",
         "200800002278",
         "01/02/2008",
         "20:00:00",
         "01/02/2008",
         "20:00:00",
         "NARCOTIC",
         "NARC-POSSESS-COCAINE",
         "WEST",
         "D",
         "D1",
         "BELLTOWN",
         "2008-01-02 20:00:00",
         "2008-01-02 20:00:00"
        ],
        [
         "15",
         "200800008276",
         "01/04/2008",
         "11:00:00",
         "01/07/2008",
         "16:02:00",
         "CAR PROWL",
         "THEFT-AUTOACC",
         "WEST",
         "Q",
         "Q2",
         "QUEEN ANNE",
         "2008-01-04 11:00:00",
         "2008-01-07 16:02:00"
        ],
        [
         "16",
         "200800004281",
         "01/04/2008",
         "10:30:00",
         "01/04/2008",
         "10:30:00",
         "NARCOTIC",
         "NARC-POSSESS-COCAINE",
         "WEST",
         "D",
         "D1",
         "BELLTOWN",
         "2008-01-04 10:30:00",
         "2008-01-04 10:30:00"
        ],
        [
         "17",
         "200800007622",
         "01/06/2008",
         "17:00:00",
         "01/06/2008",
         "22:04:00",
         "CAR PROWL",
         "THEFT-CARPROWL",
         "WEST",
         "Q",
         "Q3",
         "QUEEN ANNE",
         "2008-01-06 17:00:00",
         "2008-01-06 22:04:00"
        ],
        [
         "18",
         "200800007877",
         "01/06/2008",
         "16:30:00",
         "01/07/2008",
         "05:00:00",
         "CAR PROWL",
         "THEFT-CARPROWL",
         "NORTH",
         "B",
         "B2",
         "BALLARD SOUTH",
         "2008-01-06 16:30:00",
         "2008-01-07 05:00:00"
        ],
        [
         "19",
         "200800007317",
         "01/06/2008",
         "16:15:00",
         "01/06/2008",
         "16:15:00",
         "CAR PROWL",
         "THEFT-CARPROWL",
         "NORTH",
         "B",
         "B1",
         "BALLARD SOUTH",
         "2008-01-06 16:15:00",
         "2008-01-06 16:15:00"
        ],
        [
         "20",
         "200800006757",
         "01/06/2008",
         "02:50:00",
         "01/06/2008",
         "02:50:00",
         "DUI",
         "DUI-LIQUOR",
         "SOUTHWEST",
         "W",
         "W2",
         "ALASKA JUNCTION",
         "2008-01-06 02:50:00",
         "2008-01-06 02:50:00"
        ],
        [
         "21",
         "200800006754",
         "01/06/2008",
         "02:40:00",
         "01/06/2008",
         "02:44:00",
         "CAR PROWL",
         "THEFT-CARPROWL",
         "NORTH",
         "B",
         "B3",
         "WALLINGFORD",
         "2008-01-06 02:40:00",
         "2008-01-06 02:44:00"
        ],
        [
         "22",
         "200800008169",
         "01/07/2008",
         "11:32:00",
         "01/07/2008",
         "11:32:00",
         "TRESPASS",
         "TRESPASS",
         "WEST",
         "M",
         "M1",
         "DOWNTOWN COMMERCIAL",
         "2008-01-07 11:32:00",
         "2008-01-07 11:32:00"
        ],
        [
         "23",
         "200800008610",
         "01/07/2008",
         "11:30:00",
         "01/07/2008",
         "17:41:00",
         "THEFT-BUILDING",
         "THEFT-BUILDING",
         "WEST",
         "M",
         "M1",
         "BELLTOWN",
         "2008-01-07 11:30:00",
         "2008-01-07 17:41:00"
        ],
        [
         "24",
         "2008000010622",
         "01/08/2008",
         "21:00:00",
         "01/09/2008",
         "09:30:00",
         "CAR PROWL",
         "THEFT-CARPROWL",
         "NORTH",
         "B",
         "B3",
         "WALLINGFORD",
         "2008-01-08 21:00:00",
         "2008-01-09 09:30:00"
        ],
        [
         "25",
         "2008000010570",
         "01/08/2008",
         "21:00:00",
         "01/09/2008",
         "08:29:00",
         "CAR PROWL",
         "THEFT-CARPROWL",
         "WEST",
         "Q",
         "Q1",
         "MAGNOLIA",
         "2008-01-08 21:00:00",
         "2008-01-09 08:29:00"
        ],
        [
         "26",
         "200800009428",
         "01/08/2008",
         "09:30:00",
         "01/08/2008",
         "12:35:00",
         "CAR PROWL",
         "THEFT-CARPROWL",
         "SOUTH",
         "R",
         "R2",
         "MOUNT BAKER",
         "2008-01-08 09:30:00",
         "2008-01-08 12:35:00"
        ],
        [
         "27",
         "2008000010947",
         "01/08/2008",
         "09:30:00",
         "01/09/2008",
         "14:01:00",
         "CAR PROWL",
         "THEFT-CARPROWL",
         "EAST",
         "G",
         "G3",
         "MADRONA/LESCHI",
         "2008-01-08 09:30:00",
         "2008-01-09 14:01:00"
        ],
        [
         "28",
         "200800009454",
         "01/08/2008",
         "09:30:00",
         "01/08/2008",
         "13:25:00",
         "TRESPASS",
         "TRESPASS",
         "NORTH",
         "N",
         "N2",
         "NORTHGATE",
         "2008-01-08 09:30:00",
         "2008-01-08 13:25:00"
        ],
        [
         "29",
         "200800009373",
         "01/08/2008",
         "09:15:00",
         "01/08/2008",
         "11:14:00",
         "CAR PROWL",
         "THEFT-CARPROWL",
         "SOUTH",
         "R",
         "R2",
         "MOUNT BAKER",
         "2008-01-08 09:15:00",
         "2008-01-08 11:14:00"
        ],
        [
         "30",
         "2008000013852",
         "01/09/2008",
         "18:30:00",
         "01/11/2008",
         "15:39:00",
         "THEFT-ALL OTHER",
         "THEFT-OTH",
         "NORTH",
         "U",
         "U3",
         "SANDPOINT",
         "2008-01-09 18:30:00",
         "2008-01-11 15:39:00"
        ],
        [
         "31",
         "2008000020578",
         "01/09/2008",
         "18:30:00",
         "01/16/2008",
         "13:50:00",
         "CAR PROWL",
         "THEFT-CARPROWL",
         "WEST",
         "Q",
         "Q3",
         "QUEEN ANNE",
         "2008-01-09 18:30:00",
         "2008-01-16 13:50:00"
        ],
        [
         "32",
         "2008000011435",
         "01/09/2008",
         "18:20:00",
         "01/09/2008",
         "20:45:00",
         "CAR PROWL",
         "THEFT-CARPROWL",
         "WEST",
         "D",
         "D1",
         "BELLTOWN",
         "2008-01-09 18:20:00",
         "2008-01-09 20:45:00"
        ],
        [
         "33",
         "2008000045704",
         "01/09/2008",
         "08:00:00",
         "02/04/2008",
         "13:44:00",
         "THEFT-ALL OTHER",
         "THEFT-OTH",
         "WEST",
         "Q",
         "Q1",
         "MAGNOLIA",
         "2008-01-09 08:00:00",
         "2008-02-04 13:44:00"
        ],
        [
         "34",
         "2008000016379",
         "01/10/2008",
         "21:00:00",
         "01/13/2008",
         "14:15:00",
         "CAR PROWL",
         "THEFT-CARPROWL",
         "NORTH",
         "N",
         "N3",
         "GREENWOOD",
         "2008-01-10 21:00:00",
         "2008-01-13 14:15:00"
        ],
        [
         "35",
         "2008000016505",
         "01/11/2008",
         "22:30:00",
         "01/13/2008",
         "14:34:00",
         "CAR PROWL",
         "THEFT-CARPROWL",
         "NORTH",
         "L",
         "L3",
         "LAKECITY",
         "2008-01-11 22:30:00",
         "2008-01-13 14:34:00"
        ],
        [
         "36",
         "2008000014406",
         "01/11/2008",
         "22:25:00",
         "01/11/2008",
         "22:25:00",
         "DUI",
         "DUI-LIQUOR",
         "EAST",
         "G",
         "G3",
         "MADRONA/LESCHI",
         "2008-01-11 22:25:00",
         "2008-01-11 22:25:00"
        ],
        [
         "37",
         "2008000014403",
         "01/11/2008",
         "22:18:00",
         "01/11/2008",
         "22:18:00",
         "DUI",
         "DUI-LIQUOR",
         "NORTH",
         "B",
         "B1",
         "BALLARD SOUTH",
         "2008-01-11 22:18:00",
         "2008-01-11 22:18:00"
        ],
        [
         "39",
         "2008000015720",
         "01/12/2008",
         "22:08:00",
         "01/12/2008",
         "22:08:00",
         "PROSTITUTION",
         "PROSTITUTION",
         "NORTH",
         "N",
         "N2",
         "BITTERLAKE",
         "2008-01-12 22:08:00",
         "2008-01-12 22:08:00"
        ],
        [
         "40",
         "2008000015463",
         "01/12/2008",
         "09:30:00",
         "01/12/2008",
         "18:17:00",
         "CAR PROWL",
         "THEFT-CARPROWL",
         "WEST",
         "Q",
         "Q1",
         "MAGNOLIA",
         "2008-01-12 09:30:00",
         "2008-01-12 18:17:00"
        ],
        [
         "41",
         "2008000016756",
         "01/13/2008",
         "03:00:00",
         "01/13/2008",
         "18:15:00",
         "CAR PROWL",
         "THEFT-CARPROWL",
         "NORTH",
         "B",
         "B3",
         "FREMONT",
         "2008-01-13 03:00:00",
         "2008-01-13 18:15:00"
        ],
        [
         "42",
         "2008000021282",
         "01/16/2008",
         "22:35:00",
         "01/16/2008",
         "22:35:00",
         "THEFT-BICYCLE",
         "THEFT-BICYCLE",
         "NORTH",
         "L",
         "L3",
         "LAKECITY",
         "2008-01-16 22:35:00",
         "2008-01-16 22:35:00"
        ],
        [
         "43",
         "2008000021276",
         "01/16/2008",
         "22:32:00",
         "01/16/2008",
         "22:32:00",
         "DUI",
         "DUI-LIQUOR",
         "SOUTHWEST",
         "W",
         "W3",
         "MORGAN",
         "2008-01-16 22:32:00",
         "2008-01-16 22:32:00"
        ],
        [
         "44",
         "2008000022683",
         "01/16/2008",
         "11:00:00",
         "01/17/2008",
         "21:43:00",
         "CAR PROWL",
         "THEFT-AUTOACC",
         "NORTH",
         "N",
         "N3",
         "GREENWOOD",
         "2008-01-16 11:00:00",
         "2008-01-17 21:43:00"
        ],
        [
         "45",
         "2008000023874",
         "01/16/2008",
         "10:30:00",
         "01/18/2008",
         "20:15:00",
         "CAR PROWL",
         "THEFT-CARPROWL",
         "NORTH",
         "L",
         "L2",
         "NORTHGATE",
         "2008-01-16 10:30:00",
         "2008-01-18 20:15:00"
        ],
        [
         "46",
         "2008000023155",
         "01/17/2008",
         "18:30:00",
         "01/18/2008",
         "09:50:00",
         "CAR PROWL",
         "THEFT-CARPROWL",
         "NORTH",
         "U",
         "U3",
         "SANDPOINT",
         "2008-01-17 18:30:00",
         "2008-01-18 09:50:00"
        ],
        [
         "47",
         "2008000022431",
         "01/17/2008",
         "18:29:00",
         "01/17/2008",
         "18:29:00",
         "NARCOTIC",
         "NARC-SELL-OTHER",
         "EAST",
         "G",
         "G1",
         "FIRST HILL",
         "2008-01-17 18:29:00",
         "2008-01-17 18:29:00"
        ],
        [
         "48",
         "2008000021511",
         "01/17/2008",
         "04:05:00",
         "01/17/2008",
         "04:05:00",
         "DUI",
         "DUI-LIQUOR",
         "WEST",
         "D",
         "D2",
         "SLU/CASCADE",
         "2008-01-17 04:05:00",
         "2008-01-17 04:05:00"
        ],
        [
         "49",
         "2008000030275",
         "01/23/2008",
         "16:15:00",
         "01/23/2008",
         "18:46:00",
         "CAR PROWL",
         "THEFT-CARPROWL",
         "WEST",
         "D",
         "D3",
         "SLU/CASCADE",
         "2008-01-23 16:15:00",
         "2008-01-23 18:46:00"
        ],
        [
         "50",
         "2008000030430",
         "01/23/2008",
         "11:00:00",
         "01/23/2008",
         "19:39:00",
         "CAR PROWL",
         "THEFT-CARPROWL",
         "WEST",
         "D",
         "D1",
         "BELLTOWN",
         "2008-01-23 11:00:00",
         "2008-01-23 19:39:00"
        ],
        [
         "51",
         "2008000031712",
         "01/24/2008",
         "16:00:00",
         "01/24/2008",
         "18:15:00",
         "THEFT-ALL OTHER",
         "THEFT-OTH",
         "NORTH",
         "N",
         "N1",
         "BITTERLAKE",
         "2008-01-24 16:00:00",
         "2008-01-24 18:15:00"
        ]
       ],
       "shape": {
        "columns": 13,
        "rows": 505727
       }
      },
      "text/html": [
       "<div>\n",
       "<style scoped>\n",
       "    .dataframe tbody tr th:only-of-type {\n",
       "        vertical-align: middle;\n",
       "    }\n",
       "\n",
       "    .dataframe tbody tr th {\n",
       "        vertical-align: top;\n",
       "    }\n",
       "\n",
       "    .dataframe thead th {\n",
       "        text-align: right;\n",
       "    }\n",
       "</style>\n",
       "<table border=\"1\" class=\"dataframe\">\n",
       "  <thead>\n",
       "    <tr style=\"text-align: right;\">\n",
       "      <th></th>\n",
       "      <th>Report Number</th>\n",
       "      <th>Occurred Date</th>\n",
       "      <th>Occurred Time</th>\n",
       "      <th>Reported Date</th>\n",
       "      <th>Reported Time</th>\n",
       "      <th>Crime Subcategory</th>\n",
       "      <th>Primary Offense Description</th>\n",
       "      <th>Precinct</th>\n",
       "      <th>Sector</th>\n",
       "      <th>Beat</th>\n",
       "      <th>Neighborhood</th>\n",
       "      <th>Occurred DateTime</th>\n",
       "      <th>Reported DateTime</th>\n",
       "    </tr>\n",
       "  </thead>\n",
       "  <tbody>\n",
       "    <tr>\n",
       "      <th>0</th>\n",
       "      <td>20110000389222</td>\n",
       "      <td>11/29/2001</td>\n",
       "      <td>12:00:00</td>\n",
       "      <td>12/03/2011</td>\n",
       "      <td>13:14:00</td>\n",
       "      <td>CAR PROWL</td>\n",
       "      <td>THEFT-CARPROWL</td>\n",
       "      <td>SOUTHWEST</td>\n",
       "      <td>W</td>\n",
       "      <td>W1</td>\n",
       "      <td>ALKI</td>\n",
       "      <td>2001-11-29 12:00:00</td>\n",
       "      <td>2011-12-03 13:14:00</td>\n",
       "    </tr>\n",
       "    <tr>\n",
       "      <th>1</th>\n",
       "      <td>20160000201733</td>\n",
       "      <td>06/01/2004</td>\n",
       "      <td>00:00:00</td>\n",
       "      <td>06/07/2016</td>\n",
       "      <td>11:26:00</td>\n",
       "      <td>THEFT-ALL OTHER</td>\n",
       "      <td>THEFT-OTH</td>\n",
       "      <td>WEST</td>\n",
       "      <td>D</td>\n",
       "      <td>D1</td>\n",
       "      <td>BELLTOWN</td>\n",
       "      <td>2004-06-01 00:00:00</td>\n",
       "      <td>2016-06-07 11:26:00</td>\n",
       "    </tr>\n",
       "    <tr>\n",
       "      <th>2</th>\n",
       "      <td>20060000308915</td>\n",
       "      <td>07/25/2006</td>\n",
       "      <td>15:36:00</td>\n",
       "      <td>07/25/2006</td>\n",
       "      <td>15:36:00</td>\n",
       "      <td>RAPE</td>\n",
       "      <td>RAPE-STRONGARM</td>\n",
       "      <td>NORTH</td>\n",
       "      <td>L</td>\n",
       "      <td>L1</td>\n",
       "      <td>NORTHGATE</td>\n",
       "      <td>2006-07-25 15:36:00</td>\n",
       "      <td>2006-07-25 15:36:00</td>\n",
       "    </tr>\n",
       "    <tr>\n",
       "      <th>3</th>\n",
       "      <td>2009000018704</td>\n",
       "      <td>09/30/2007</td>\n",
       "      <td>15:30:00</td>\n",
       "      <td>01/15/2009</td>\n",
       "      <td>18:20:00</td>\n",
       "      <td>THEFT-ALL OTHER</td>\n",
       "      <td>THEFT-OTH</td>\n",
       "      <td>NORTH</td>\n",
       "      <td>N</td>\n",
       "      <td>N3</td>\n",
       "      <td>NORTHGATE</td>\n",
       "      <td>2007-09-30 15:30:00</td>\n",
       "      <td>2009-01-15 18:20:00</td>\n",
       "    </tr>\n",
       "    <tr>\n",
       "      <th>4</th>\n",
       "      <td>2008000054923</td>\n",
       "      <td>09/30/2007</td>\n",
       "      <td>00:00:00</td>\n",
       "      <td>02/11/2008</td>\n",
       "      <td>15:32:00</td>\n",
       "      <td>THEFT-ALL OTHER</td>\n",
       "      <td>THEFT-BOAT</td>\n",
       "      <td>WEST</td>\n",
       "      <td>Q</td>\n",
       "      <td>Q2</td>\n",
       "      <td>QUEEN ANNE</td>\n",
       "      <td>2007-09-30 00:00:00</td>\n",
       "      <td>2008-02-11 15:32:00</td>\n",
       "    </tr>\n",
       "    <tr>\n",
       "      <th>...</th>\n",
       "      <td>...</td>\n",
       "      <td>...</td>\n",
       "      <td>...</td>\n",
       "      <td>...</td>\n",
       "      <td>...</td>\n",
       "      <td>...</td>\n",
       "      <td>...</td>\n",
       "      <td>...</td>\n",
       "      <td>...</td>\n",
       "      <td>...</td>\n",
       "      <td>...</td>\n",
       "      <td>...</td>\n",
       "      <td>...</td>\n",
       "    </tr>\n",
       "    <tr>\n",
       "      <th>509229</th>\n",
       "      <td>20190000900500</td>\n",
       "      <td>01/14/2019</td>\n",
       "      <td>02:00:00</td>\n",
       "      <td>01/14/2019</td>\n",
       "      <td>09:33:00</td>\n",
       "      <td>CAR PROWL</td>\n",
       "      <td>THEFT-CARPROWL</td>\n",
       "      <td>WEST</td>\n",
       "      <td>Q</td>\n",
       "      <td>Q2</td>\n",
       "      <td>QUEEN ANNE</td>\n",
       "      <td>2019-01-14 02:00:00</td>\n",
       "      <td>2019-01-14 09:33:00</td>\n",
       "    </tr>\n",
       "    <tr>\n",
       "      <th>509230</th>\n",
       "      <td>2019000017935</td>\n",
       "      <td>01/14/2019</td>\n",
       "      <td>01:43:00</td>\n",
       "      <td>01/14/2019</td>\n",
       "      <td>09:22:00</td>\n",
       "      <td>BURGLARY-COMMERCIAL</td>\n",
       "      <td>BURGLARY-FORCE-NONRES</td>\n",
       "      <td>NORTH</td>\n",
       "      <td>B</td>\n",
       "      <td>B3</td>\n",
       "      <td>WALLINGFORD</td>\n",
       "      <td>2019-01-14 01:43:00</td>\n",
       "      <td>2019-01-14 09:22:00</td>\n",
       "    </tr>\n",
       "    <tr>\n",
       "      <th>509231</th>\n",
       "      <td>2019000017609</td>\n",
       "      <td>01/14/2019</td>\n",
       "      <td>00:53:00</td>\n",
       "      <td>01/14/2019</td>\n",
       "      <td>00:54:00</td>\n",
       "      <td>NARCOTIC</td>\n",
       "      <td>NARC-SELL-COCAINE</td>\n",
       "      <td>WEST</td>\n",
       "      <td>D</td>\n",
       "      <td>D1</td>\n",
       "      <td>SLU/CASCADE</td>\n",
       "      <td>2019-01-14 00:53:00</td>\n",
       "      <td>2019-01-14 00:54:00</td>\n",
       "    </tr>\n",
       "    <tr>\n",
       "      <th>509232</th>\n",
       "      <td>2019000017601</td>\n",
       "      <td>01/14/2019</td>\n",
       "      <td>00:45:00</td>\n",
       "      <td>01/14/2019</td>\n",
       "      <td>00:45:00</td>\n",
       "      <td>NARCOTIC</td>\n",
       "      <td>NARC-POSSESS-COCAINE</td>\n",
       "      <td>WEST</td>\n",
       "      <td>K</td>\n",
       "      <td>K3</td>\n",
       "      <td>CHINATOWN/INTERNATIONAL DISTRICT</td>\n",
       "      <td>2019-01-14 00:45:00</td>\n",
       "      <td>2019-01-14 00:45:00</td>\n",
       "    </tr>\n",
       "    <tr>\n",
       "      <th>509233</th>\n",
       "      <td>2019000017906</td>\n",
       "      <td>01/14/2019</td>\n",
       "      <td>00:00:00</td>\n",
       "      <td>01/14/2019</td>\n",
       "      <td>09:40:00</td>\n",
       "      <td>CAR PROWL</td>\n",
       "      <td>THEFT-CARPROWL</td>\n",
       "      <td>NORTH</td>\n",
       "      <td>U</td>\n",
       "      <td>U3</td>\n",
       "      <td>SANDPOINT</td>\n",
       "      <td>2019-01-14 00:00:00</td>\n",
       "      <td>2019-01-14 09:40:00</td>\n",
       "    </tr>\n",
       "  </tbody>\n",
       "</table>\n",
       "<p>505727 rows × 13 columns</p>\n",
       "</div>"
      ],
      "text/plain": [
       "         Report Number Occurred Date Occurred Time Reported Date  \\\n",
       "0       20110000389222    11/29/2001      12:00:00    12/03/2011   \n",
       "1       20160000201733    06/01/2004      00:00:00    06/07/2016   \n",
       "2       20060000308915    07/25/2006      15:36:00    07/25/2006   \n",
       "3        2009000018704    09/30/2007      15:30:00    01/15/2009   \n",
       "4        2008000054923    09/30/2007      00:00:00    02/11/2008   \n",
       "...                ...           ...           ...           ...   \n",
       "509229  20190000900500    01/14/2019      02:00:00    01/14/2019   \n",
       "509230   2019000017935    01/14/2019      01:43:00    01/14/2019   \n",
       "509231   2019000017609    01/14/2019      00:53:00    01/14/2019   \n",
       "509232   2019000017601    01/14/2019      00:45:00    01/14/2019   \n",
       "509233   2019000017906    01/14/2019      00:00:00    01/14/2019   \n",
       "\n",
       "       Reported Time    Crime Subcategory Primary Offense Description  \\\n",
       "0           13:14:00            CAR PROWL              THEFT-CARPROWL   \n",
       "1           11:26:00      THEFT-ALL OTHER                   THEFT-OTH   \n",
       "2           15:36:00                 RAPE              RAPE-STRONGARM   \n",
       "3           18:20:00      THEFT-ALL OTHER                   THEFT-OTH   \n",
       "4           15:32:00      THEFT-ALL OTHER                  THEFT-BOAT   \n",
       "...              ...                  ...                         ...   \n",
       "509229      09:33:00            CAR PROWL              THEFT-CARPROWL   \n",
       "509230      09:22:00  BURGLARY-COMMERCIAL       BURGLARY-FORCE-NONRES   \n",
       "509231      00:54:00             NARCOTIC           NARC-SELL-COCAINE   \n",
       "509232      00:45:00             NARCOTIC        NARC-POSSESS-COCAINE   \n",
       "509233      09:40:00            CAR PROWL              THEFT-CARPROWL   \n",
       "\n",
       "         Precinct Sector Beat                      Neighborhood  \\\n",
       "0       SOUTHWEST      W   W1                              ALKI   \n",
       "1            WEST      D   D1                          BELLTOWN   \n",
       "2           NORTH      L   L1                         NORTHGATE   \n",
       "3           NORTH      N   N3                         NORTHGATE   \n",
       "4            WEST      Q   Q2                        QUEEN ANNE   \n",
       "...           ...    ...  ...                               ...   \n",
       "509229       WEST      Q   Q2                        QUEEN ANNE   \n",
       "509230      NORTH      B   B3                       WALLINGFORD   \n",
       "509231       WEST      D   D1                       SLU/CASCADE   \n",
       "509232       WEST      K   K3  CHINATOWN/INTERNATIONAL DISTRICT   \n",
       "509233      NORTH      U   U3                         SANDPOINT   \n",
       "\n",
       "         Occurred DateTime   Reported DateTime  \n",
       "0      2001-11-29 12:00:00 2011-12-03 13:14:00  \n",
       "1      2004-06-01 00:00:00 2016-06-07 11:26:00  \n",
       "2      2006-07-25 15:36:00 2006-07-25 15:36:00  \n",
       "3      2007-09-30 15:30:00 2009-01-15 18:20:00  \n",
       "4      2007-09-30 00:00:00 2008-02-11 15:32:00  \n",
       "...                    ...                 ...  \n",
       "509229 2019-01-14 02:00:00 2019-01-14 09:33:00  \n",
       "509230 2019-01-14 01:43:00 2019-01-14 09:22:00  \n",
       "509231 2019-01-14 00:53:00 2019-01-14 00:54:00  \n",
       "509232 2019-01-14 00:45:00 2019-01-14 00:45:00  \n",
       "509233 2019-01-14 00:00:00 2019-01-14 09:40:00  \n",
       "\n",
       "[505727 rows x 13 columns]"
      ]
     },
     "execution_count": 13,
     "metadata": {},
     "output_type": "execute_result"
    }
   ],
   "source": [
    "#Your Code Here\n",
    "\n",
    "dropped['Occurred Time'] = dropped['Occurred Time'].apply(lambda x: f\"{int(x/100):02d}:{int(x)%100:02d}:00\" if pd.notna(x) else None)\n",
    "dropped['Reported Time'] = dropped['Reported Time'].apply(lambda x: f\"{int(x/100):02d}:{int(x)%100:02d}:00\" if pd.notna(x) else None)\n",
    "\n",
    "dropped['Occurred DateTime'] = pd.to_datetime(dropped['Occurred Date'] + ' ' + dropped['Occurred Time'])\n",
    "dropped['Reported DateTime'] = pd.to_datetime(dropped['Reported Date'] + ' ' + dropped['Reported Time'])\n",
    "\n",
    "dropped"
   ]
  },
  {
   "cell_type": "code",
   "execution_count": 14,
   "metadata": {},
   "outputs": [],
   "source": [
    "#Your Code Here\n",
    "\n",
    "dropped = dropped.drop(columns=['Occurred Date', 'Occurred Time', 'Reported Date', 'Reported Time'])"
   ]
  },
  {
   "cell_type": "markdown",
   "metadata": {},
   "source": [
    "## Question 3\n",
    "\n",
    "- The crime subcategories are too fine-grained for our analysis. So regroup several subcategories together into 8 major categories: `[Thefts, Burglary, Robbery, Alcohol_Drug, Sex_Related, Homicide, Misc]`\n",
    "\n",
    "- Construct a mapping dictionary from the subcategories to the corresponding major crime types, then use it by creating a new column called `crime_type`.\n",
    "mapping dictionary.:\n",
    "    - For example, we would like to map `CAR PROWL`, `MOTOR VEHICLE THEFT`, ... to `thefts`.\n",
    "    - We would like to map `ROBBERY-STREET`, `ROBBERY-RESIDENTIAL`,... to `robbery`, etc.\n",
    "    \n",
    "**hint**: you can use df[col].map to map a column to values in a dictionary"
   ]
  },
  {
   "cell_type": "code",
   "execution_count": 16,
   "metadata": {},
   "outputs": [
    {
     "data": {
      "text/plain": [
       "\"\\nCould have used this\\ndropped['crime_type'] = dropped['Crime Subcategory'].map(mapping_dict)\\nBut just added the last 2 in the dictionary manyally\\n\""
      ]
     },
     "execution_count": 16,
     "metadata": {},
     "output_type": "execute_result"
    }
   ],
   "source": [
    "#Your Code Here\n",
    "mappingDict={\n",
    "    'MOTOR VEHICLE THEFT': 'Thefts',\n",
    "    'THEFT-ALL OTHER': 'Thefts',\n",
    "    'THEFT-BUILDING': 'Thefts',\n",
    "    'THEFT-BICYCLE': 'Thefts',\n",
    "    'THEFT-SHOPLIFT': 'Thefts',\n",
    "    'BURGLARY-COMMERCIAL': 'Burglary',\n",
    "    'BURGLARY-RESIDENTIAL-SECURE PARKING': 'Burglary',\n",
    "    'BURGLARY-COMMERCIAL-SECURE PARKING': 'Burglary',\n",
    "    'BURGLARY-RESIDENTIAL': 'Burglary',\n",
    "    'ROBBERY-STREET': 'Robbery',\n",
    "    'ROBBERY-RESIDENTIAL': 'Robbery',\n",
    "    'ROBBERY-COMMERCIAL': 'Robbery',\n",
    "    'LIQUOR LAW VIOLATION': 'Alcohol_Drug',\n",
    "    'DUI': 'Alcohol_Drug',\n",
    "    'RAPE': 'Sex_Related',\n",
    "    'PROSTITUTION': 'Sex_Related',\n",
    "    'SEX OFFENSE-OTHER': 'Sex_Related',\n",
    "    'AGGRAVATED ASSAULT-DV': 'Sex_Related',\n",
    "    'AGGRAVATED ASSAULT': 'Sex_Related',\n",
    "    'PORNOGRAPHY': 'Sex_Related',\n",
    "    'HOMICIDE': 'Homicide',\n",
    "    'CAR PROWL': 'Misc',\n",
    "    'WEAPON': 'Misc',\n",
    "    'ARSON': 'Misc',\n",
    "    'GAMBLE': 'Misc',\n",
    "    'DISORDERLY CONDUCT': 'Misc',\n",
    "    'FAMILY OFFENSE-NONVIOLENT': 'Misc',\n",
    "    'LOITERING': 'Misc',\n",
    "    'TRESPASS': 'Misc',\n",
    "    'NARCOTIC': 'Alcohol_Drug'\n",
    "}\n",
    "#Your Code Here\n",
    "\n",
    "dropped['crime_type'] = dropped['Crime Subcategory'].map(lambda x: mappingDict[x])\n",
    "\n",
    "\n",
    "\"\"\"\n",
    "Could have used this\n",
    "dropped['crime_type'] = dropped['Crime Subcategory'].map(mapping_dict)\n",
    "But just added the last 2 in the dictionary manyally\n",
    "\"\"\"\n",
    "\n"
   ]
  },
  {
   "cell_type": "markdown",
   "metadata": {},
   "source": [
    "## Question 4\n",
    "- Compare `visually` the average time gap between **Reported DateTime** vs **Occurred DateTime** of different crimes types.\n",
    "\n",
    "**Hints**: \n",
    "- You can get the time in seconds from datetime column using `df[col_name].dt.total_seconds()`.\n",
    "- You can convert seconds to datetime usine `pd.to_timedelta(df[\"sec\"], unit='s')`"
   ]
  },
  {
   "cell_type": "code",
   "execution_count": 17,
   "metadata": {},
   "outputs": [
    {
     "data": {
      "text/plain": [
       "<Axes: xlabel='crime_type', ylabel='time_gap_hours'>"
      ]
     },
     "execution_count": 17,
     "metadata": {},
     "output_type": "execute_result"
    },
    {
     "data": {
      "image/png": "[encoded data removed]",
      "text/plain": [
       "<Figure size 640x480 with 1 Axes>"
      ]
     },
     "metadata": {},
     "output_type": "display_data"
    }
   ],
   "source": [
    "#Your Code Here\n",
    "import seaborn as sns\n",
    "import matplotlib.pyplot as plt\n",
    "\n",
    "dropped['time_gap_seconds'] = (dropped['Reported DateTime'] - dropped['Occurred DateTime']).dt.total_seconds()\n",
    "dropped['time_gap_hours'] = pd.to_timedelta(dropped['time_gap_seconds'], unit='s') / pd.Timedelta(hours=1)\n",
    "time_gap_by_crime = dropped.groupby('crime_type')['time_gap_hours'].mean().sort_values()\n",
    "\n",
    "sns.barplot(x='crime_type', y='time_gap_hours', data=dropped, estimator='mean', errorbar=None)\n"
   ]
  },
  {
   "cell_type": "markdown",
   "metadata": {},
   "source": [
    "## Question 5\n",
    "- Show `visually` the top 5 most dangerous neighorhood in the EAST Precinct (with number of crime events in each neighorhood)"
   ]
  },
  {
   "cell_type": "code",
   "execution_count": 8,
   "metadata": {},
   "outputs": [
    {
     "data": {
      "image/png": "[encoded data removed]",
      "text/plain": [
       "<Figure size 1000x600 with 1 Axes>"
      ]
     },
     "metadata": {},
     "output_type": "display_data"
    }
   ],
   "source": [
    "#Your Code Here\n",
    "\n",
    "eastDf = dropped[dropped['Precinct'] == 'EAST']\n",
    "\n",
    "\n",
    "neighborhood_counts = eastDf['Neighborhood'].value_counts().head(5)\n",
    "\n",
    "plt.figure(figsize=(10, 6))  # Set figure size for better visibility\n",
    "sns.barplot(x=neighborhood_counts.index, y=neighborhood_counts.values)\n",
    "\n",
    "# Customize the plot\n",
    "plt.title('Top 5 Most Dangerous Neighborhoods in EAST Precinct')\n",
    "plt.xlabel('Neighborhood')\n",
    "plt.ylabel('Number of Crime Events')\n",
    "plt.xticks(rotation=45, ha='right')  # Rotate labels for better readability\n",
    "plt.tight_layout()  # Adjust layout to prevent label cutoff\n",
    "# sns.barplot(x = neighborhood_counts.index, y = neighborhood_counts.values)"
   ]
  },
  {
   "cell_type": "markdown",
   "metadata": {},
   "source": [
    "## Question 6\n",
    "- Create column called **year** that shows the year of the crime. Which year has the lowest and highest crime event counts, respectively?\n",
    "- Plot the number of `Thefts` crimes in the last ten years"
   ]
  },
  {
   "cell_type": "code",
   "execution_count": 23,
   "metadata": {},
   "outputs": [
    {
     "data": {
      "text/plain": [
       "year\n",
       "2018    50675\n",
       "2017    49948\n",
       "2014    49096\n",
       "dtype: int64"
      ]
     },
     "execution_count": 23,
     "metadata": {},
     "output_type": "execute_result"
    }
   ],
   "source": [
    "#Your Code Here\n",
    "\n",
    "\n",
    "dropped['year'] = dropped['Occurred DateTime'].dt.year\n",
    "dropped.groupby('year').size().nlargest(3)"
   ]
  },
  {
   "cell_type": "code",
   "execution_count": 24,
   "metadata": {},
   "outputs": [
    {
     "data": {
      "text/plain": [
       "<Axes: xlabel='year'>"
      ]
     },
     "execution_count": 24,
     "metadata": {},
     "output_type": "execute_result"
    },
    {
     "data": {
      "image/png": "[encoded data removed]",
      "text/plain": [
       "<Figure size 640x480 with 1 Axes>"
      ]
     },
     "metadata": {},
     "output_type": "display_data"
    }
   ],
   "source": [
    "#Your Code Here\n",
    "\n",
    "grouped = dropped.groupby('year').size()[-10:]\n",
    "sns.barplot(x = grouped.index, y = grouped.values)"
   ]
  },
  {
   "cell_type": "markdown",
   "metadata": {},
   "source": [
    "## Question 7\n",
    "- keep only crime events occurred in-between **2008-2018** (remove all other crimes).\n",
    "- Show `visually` which crime type has the highest percentage of events"
   ]
  },
  {
   "cell_type": "code",
   "execution_count": 25,
   "metadata": {},
   "outputs": [],
   "source": [
    "#Your Code Here\n",
    "\n",
    "filtered_df = dropped[(dropped['year'] >= 2008) & (dropped['year'] <= 2018)]"
   ]
  },
  {
   "cell_type": "code",
   "execution_count": 26,
   "metadata": {},
   "outputs": [
    {
     "data": {
      "text/plain": [
       "<Axes: xlabel='crime_type'>"
      ]
     },
     "execution_count": 26,
     "metadata": {},
     "output_type": "execute_result"
    },
    {
     "data": {
      "image/png": "[encoded data removed]",
      "text/plain": [
       "<Figure size 640x480 with 1 Axes>"
      ]
     },
     "metadata": {},
     "output_type": "display_data"
    }
   ],
   "source": [
    "#Your Code Here\n",
    "\n",
    "crime_counts = filtered_df['crime_type'].value_counts()\n",
    "crime_percentages = crime_counts / crime_counts.sum() * 100\n",
    "\n",
    "sns.barplot(x=crime_percentages.index, y=crime_percentages.values)"
   ]
  },
  {
   "cell_type": "markdown",
   "metadata": {},
   "source": [
    "## Question 8\n",
    "- Analyze the crime prevalence in terms of week days (create column called `day` that specifies the day of the crime).\n",
    "- Which weekday (Sunday, Monday, ....Saturday) has highest/lowest daily Homicide crime count? (Visualize your findings)\n",
    "\n",
    "**Hint:** use `.day_name()` with time object to get the day"
   ]
  },
  {
   "cell_type": "code",
   "execution_count": 27,
   "metadata": {},
   "outputs": [],
   "source": [
    "#Your Code Here\n",
    "\n",
    "dropped['day'] = dropped['Occurred DateTime'].dt.day_name()"
   ]
  },
  {
   "cell_type": "code",
   "execution_count": 30,
   "metadata": {
    "scrolled": true
   },
   "outputs": [
    {
     "data": {
      "text/plain": [
       "<Axes: xlabel='day'>"
      ]
     },
     "execution_count": 30,
     "metadata": {},
     "output_type": "execute_result"
    },
    {
     "data": {
      "image/png": "[encoded data removed]",
      "text/plain": [
       "<Figure size 640x480 with 1 Axes>"
      ]
     },
     "metadata": {},
     "output_type": "display_data"
    }
   ],
   "source": [
    "#Your Code Here\n",
    "\n",
    "homicideData = dropped[dropped['crime_type'] == 'Homicide']\n",
    "homicideByDay = homicideData['day'].value_counts()\n",
    "\n",
    "sns.barplot(x=homicideByDay.index, y=homicideByDay.values)"
   ]
  },
  {
   "cell_type": "markdown",
   "metadata": {},
   "source": [
    "## Extra Credit Questions\n",
    "\n",
    "- Consider the 24 hours window into 6 frames '12am-4am', '4am-8am', '8am-12pm', '12pm-4pm', '4pm-8pm', '8pm-12am'. Create a column called `Occured TimeFrame` that contains the crime occurred time frame.\n",
    "\n",
    "- Compare `visually` time-frames in term of the number of crimes.\n",
    "- Print the name of the most dangerous neighborhood in the WEST Precinct, Then Show `visually` the percentages of crimes during different TimeFrames in that neighborhood"
   ]
  },
  {
   "cell_type": "code",
   "execution_count": 15,
   "metadata": {},
   "outputs": [],
   "source": [
    "# Your Code Here"
   ]
  },
  {
   "cell_type": "code",
   "execution_count": 16,
   "metadata": {
    "scrolled": true
   },
   "outputs": [],
   "source": [
    "#Your Code Here"
   ]
  },
  {
   "cell_type": "code",
   "execution_count": 17,
   "metadata": {},
   "outputs": [],
   "source": [
    "#Your Code Here"
   ]
  },
  {
   "cell_type": "code",
   "execution_count": 18,
   "metadata": {
    "scrolled": true
   },
   "outputs": [],
   "source": [
    "#Your Code Here"
   ]
  }
 ],
 "metadata": {
  "kernelspec": {
   "display_name": "projectenv",
   "language": "python",
   "name": "python3"
  },
  "language_info": {
   "codemirror_mode": {
    "name": "ipython",
    "version": 3
   },
   "file_extension": ".py",
   "mimetype": "text/x-python",
   "name": "python",
   "nbconvert_exporter": "python",
   "pygments_lexer": "ipython3",
   "version": "3.10.16"
  }
 },
 "nbformat": 4,
 "nbformat_minor": 4
}
