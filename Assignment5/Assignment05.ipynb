{
 "cells": [
  {
   "cell_type": "markdown",
   "metadata": {},
   "source": [
    "## Question 1\n",
    "- Read data from `Crime.csv` then print the names of the columns which have missing values.\n",
    "- Drop any row that has missing values.\n",
    "- Which three subcategories have the top three event counts?"
   ]
  },
  {
   "cell_type": "code",
   "execution_count": 1,
   "metadata": {},
   "outputs": [
    {
     "data": {
      "text/plain": [
       "['Occurred Date',\n",
       " 'Occurred Time',\n",
       " 'Reported Time',\n",
       " 'Crime Subcategory',\n",
       " 'Precinct',\n",
       " 'Sector',\n",
       " 'Beat']"
      ]
     },
     "execution_count": 1,
     "metadata": {},
     "output_type": "execute_result"
    }
   ],
   "source": [
    "#Your Code Here\n",
    "import pandas as pd\n",
    "\n",
    "df = pd.read_csv('Crime.csv')\n",
    "list(df.columns[df.isna().sum() > 0])"
   ]
  },
  {
   "cell_type": "code",
   "execution_count": 2,
   "metadata": {},
   "outputs": [],
   "source": [
    "#Your Code Here\n",
    "\n",
    "dropped = df.dropna(axis = 0)"
   ]
  },
  {
   "cell_type": "code",
   "execution_count": 3,
   "metadata": {},
   "outputs": [
    {
     "data": {
      "text/plain": [
       "Crime Subcategory\n",
       "CAR PROWL          144128\n",
       "THEFT-ALL OTHER     52389\n",
       "THEFT-SHOPLIFT      47227\n",
       "Name: count, dtype: int64"
      ]
     },
     "execution_count": 3,
     "metadata": {},
     "output_type": "execute_result"
    }
   ],
   "source": [
    "#Your Code Here\n",
    "\n",
    "dropped[\"Crime Subcategory\"].value_counts().head(3)"
   ]
  },
  {
   "cell_type": "markdown",
   "metadata": {},
   "source": [
    "## Question 2\n",
    "- Create two new columns (these two columns should be datetime objects):\n",
    "    - `Occurred DateTime`= `Occurred Date` + `Occurred Time` \n",
    "    - `Reported DateTime` = `Reported Date` + `Reported Time` \n",
    "- Delete the following columns: `Occurred Date`, `Occurred Time`, `Reported Date`, `Reported Time`\n",
    "\n",
    "- **Hints**: \n",
    "    - The panadas function **pd.to_datetime** can help\n",
    "    - The loaded Occurred/Reported Time appears to be a float like '1930.0'. This should be interpreted as '19:30:00' eventually"
   ]
  },
  {
   "cell_type": "code",
   "execution_count": 4,
   "metadata": {},
   "outputs": [
    {
     "data": {
      "text/plain": [
       "Report Number                    int64\n",
       "Occurred Date                   object\n",
       "Occurred Time                  float64\n",
       "Reported Date                   object\n",
       "Reported Time                  float64\n",
       "Crime Subcategory               object\n",
       "Primary Offense Description     object\n",
       "Precinct                        object\n",
       "Sector                          object\n",
       "Beat                            object\n",
       "Neighborhood                    object\n",
       "dtype: object"
      ]
     },
     "execution_count": 4,
     "metadata": {},
     "output_type": "execute_result"
    }
   ],
   "source": [
    "#Your Code Here\n",
    "'''\n",
    "dropped['Occurred Date'] = pd.to_datetime(dropped['Occured Date'])\n",
    "dropped['Occurred Time'] = pd.to_datetime(dropped['Occured Time'])\n",
    "dropped['Occurred DateTome'] = dropped['Occurred Date'] + dropped['Occurred Time']\n",
    "\n",
    "dropped\n",
    "'''\n",
    "\n",
    "dropped.dtypes"
   ]
  },
  {
   "cell_type": "code",
   "execution_count": 5,
   "metadata": {},
   "outputs": [],
   "source": [
    "#Your Code Here"
   ]
  },
  {
   "cell_type": "markdown",
   "metadata": {},
   "source": [
    "## Question 3\n",
    "\n",
    "- The crime subcategories are too fine-grained for our analysis. So regroup several subcategories together into 8 major categories: `[Thefts, Burglary, Robbery, Alcohol_Drug, Sex_Related, Homicide, Misc]`\n",
    "\n",
    "- Construct a mapping dictionary from the subcategories to the corresponding major crime types, then use it by creating a new column called `crime_type`.\n",
    "mapping dictionary.:\n",
    "    - For example, we would like to map `CAR PROWL`, `MOTOR VEHICLE THEFT`, ... to `thefts`.\n",
    "    - We would like to map `ROBBERY-STREET`, `ROBBERY-RESIDENTIAL`,... to `robbery`, etc.\n",
    "    \n",
    "**hint**: you can use df[col].map to map a column to values in a dictionary"
   ]
  },
  {
   "cell_type": "code",
   "execution_count": 6,
   "metadata": {},
   "outputs": [
    {
     "name": "stderr",
     "output_type": "stream",
     "text": [
      "/var/folders/kx/58cjbwzx5jjgn5w_sjz3qk0w0000gn/T/ipykernel_3950/2831600459.py:36: SettingWithCopyWarning: \n",
      "A value is trying to be set on a copy of a slice from a DataFrame.\n",
      "Try using .loc[row_indexer,col_indexer] = value instead\n",
      "\n",
      "See the caveats in the documentation: https://pandas.pydata.org/pandas-docs/stable/user_guide/indexing.html#returning-a-view-versus-a-copy\n",
      "  dropped['crime_type'] = dropped['Crime Subcategory'].map(lambda x: mappingDict[x])\n"
     ]
    }
   ],
   "source": [
    "#Your Code Here\n",
    "mappingDict={\n",
    "    'MOTOR VEHICLE THEFT': 'Thefts',\n",
    "    'THEFT-ALL OTHER': 'Thefts',\n",
    "    'THEFT-BUILDING': 'Thefts',\n",
    "    'THEFT-BICYCLE': 'Thefts',\n",
    "    'THEFT-SHOPLIFT': 'Thefts',\n",
    "    'BURGLARY-COMMERCIAL': 'Burglary',\n",
    "    'BURGLARY-RESIDENTIAL-SECURE PARKING': 'Burglary',\n",
    "    'BURGLARY-COMMERCIAL-SECURE PARKING': 'Burglary',\n",
    "    'BURGLARY-RESIDENTIAL': 'Burglary',\n",
    "    'ROBBERY-STREET': 'Robbery',\n",
    "    'ROBBERY-RESIDENTIAL': 'Robbery',\n",
    "    'ROBBERY-COMMERCIAL': 'Robbery',\n",
    "    'LIQUOR LAW VIOLATION': 'Alcohol_Drug',\n",
    "    'DUI': 'Alcohol_Drug',\n",
    "    'RAPE': 'Sex_Related',\n",
    "    'PROSTITUTION': 'Sex_Related',\n",
    "    'SEX OFFENSE-OTHER': 'Sex_Related',\n",
    "    'AGGRAVATED ASSAULT-DV': 'Sex_Related',\n",
    "    'AGGRAVATED ASSAULT': 'Sex_Related',\n",
    "    'PORNOGRAPHY': 'Sex_Related',\n",
    "    'HOMICIDE': 'Homicide',\n",
    "    'CAR PROWL': 'Misc',\n",
    "    'WEAPON': 'Misc',\n",
    "    'ARSON': 'Misc',\n",
    "    'GAMBLE': 'Misc',\n",
    "    'DISORDERLY CONDUCT': 'Misc',\n",
    "    'FAMILY OFFENSE-NONVIOLENT': 'Misc',\n",
    "    'LOITERING': 'Misc',\n",
    "    'TRESPASS': 'Misc',\n",
    "    'NARCOTIC': 'Alcohol_Drug'\n",
    "}\n",
    "#Your Code Here\n",
    "\n",
    "dropped['crime_type'] = dropped['Crime Subcategory'].map(lambda x: mappingDict[x])\n",
    "\n"
   ]
  },
  {
   "cell_type": "markdown",
   "metadata": {},
   "source": [
    "## Question 4\n",
    "- Compare `visually` the average time gap between **Reported DateTime** vs **Occurred DateTime** of different crimes types.\n",
    "\n",
    "**Hints**: \n",
    "- You can get the time in seconds from datetime column using `df[col_name].dt.total_seconds()`.\n",
    "- You can convert seconds to datetime usine `pd.to_timedelta(df[\"sec\"], unit='s')`"
   ]
  },
  {
   "cell_type": "code",
   "execution_count": 7,
   "metadata": {},
   "outputs": [],
   "source": [
    "#Your Code Here\n",
    "import seaborn as sns\n",
    "import matplotlib.pyplot as plt"
   ]
  },
  {
   "cell_type": "markdown",
   "metadata": {},
   "source": [
    "## Question 5\n",
    "- Show `visually` the top 5 most dangerous neighorhood in the EAST Precinct (with number of crime events in each neighorhood)"
   ]
  },
  {
   "cell_type": "code",
   "execution_count": 8,
   "metadata": {},
   "outputs": [
    {
     "data": {
      "image/png": "[encoded data removed]",
      "text/plain": [
       "<Figure size 1000x600 with 1 Axes>"
      ]
     },
     "metadata": {},
     "output_type": "display_data"
    }
   ],
   "source": [
    "#Your Code Here\n",
    "\n",
    "eastDf = dropped[dropped['Precinct'] == 'EAST']\n",
    "\n",
    "\n",
    "neighborhood_counts = eastDf['Neighborhood'].value_counts().head(5)\n",
    "\n",
    "plt.figure(figsize=(10, 6))  # Set figure size for better visibility\n",
    "sns.barplot(x=neighborhood_counts.index, y=neighborhood_counts.values)\n",
    "\n",
    "# Customize the plot\n",
    "plt.title('Top 5 Most Dangerous Neighborhoods in EAST Precinct')\n",
    "plt.xlabel('Neighborhood')\n",
    "plt.ylabel('Number of Crime Events')\n",
    "plt.xticks(rotation=45, ha='right')  # Rotate labels for better readability\n",
    "plt.tight_layout()  # Adjust layout to prevent label cutoff\n",
    "# sns.barplot(x = neighborhood_counts.index, y = neighborhood_counts.values)"
   ]
  },
  {
   "cell_type": "markdown",
   "metadata": {},
   "source": [
    "## Question 6\n",
    "- Create column called **year** that shows the year of the crime. Which year has the lowest and highest crime event counts, respectively?\n",
    "- Plot the number of `Thefts` crimes in the last ten years"
   ]
  },
  {
   "cell_type": "code",
   "execution_count": 27,
   "metadata": {},
   "outputs": [
    {
     "name": "stderr",
     "output_type": "stream",
     "text": [
      "/var/folders/kx/58cjbwzx5jjgn5w_sjz3qk0w0000gn/T/ipykernel_3950/3771889307.py:4: SettingWithCopyWarning: \n",
      "A value is trying to be set on a copy of a slice from a DataFrame.\n",
      "Try using .loc[row_indexer,col_indexer] = value instead\n",
      "\n",
      "See the caveats in the documentation: https://pandas.pydata.org/pandas-docs/stable/user_guide/indexing.html#returning-a-view-versus-a-copy\n",
      "  dropped['year'] = dropped['Occurred Date'].str.split('/').str[-1]\n"
     ]
    },
    {
     "data": {
      "text/plain": [
       "year\n",
       "2018    50675\n",
       "2017    49948\n",
       "2014    49096\n",
       "dtype: int64"
      ]
     },
     "execution_count": 27,
     "metadata": {},
     "output_type": "execute_result"
    }
   ],
   "source": [
    "#Your Code Here\n",
    "\n",
    "\n",
    "dropped['year'] = dropped['Occurred Date'].str.split('/').str[-1]\n",
    "dropped.groupby('year').size().nlargest(3)"
   ]
  },
  {
   "cell_type": "code",
   "execution_count": 30,
   "metadata": {},
   "outputs": [
    {
     "data": {
      "text/plain": [
       "<Axes: xlabel='year'>"
      ]
     },
     "execution_count": 30,
     "metadata": {},
     "output_type": "execute_result"
    },
    {
     "data": {
      "image/png": "[encoded data removed]",
      "text/plain": [
       "<Figure size 640x480 with 1 Axes>"
      ]
     },
     "metadata": {},
     "output_type": "display_data"
    }
   ],
   "source": [
    "#Your Code Here\n",
    "\n",
    "grouped = dropped.groupby('year').size()[-10:]\n",
    "sns.barplot(x = grouped.index, y = grouped.values)"
   ]
  },
  {
   "cell_type": "markdown",
   "metadata": {},
   "source": [
    "## Question 7\n",
    "- keep only crime events occurred in-between **2008-2018** (remove all other crimes).\n",
    "- Show `visually` which crime type has the highest percentage of events"
   ]
  },
  {
   "cell_type": "code",
   "execution_count": 11,
   "metadata": {},
   "outputs": [],
   "source": [
    "#Your Code Here"
   ]
  },
  {
   "cell_type": "code",
   "execution_count": 12,
   "metadata": {},
   "outputs": [],
   "source": [
    "#Your Code Here"
   ]
  },
  {
   "cell_type": "markdown",
   "metadata": {},
   "source": [
    "## Question 8\n",
    "- Analyze the crime prevalence in terms of week days (create column called `day` that specifies the day of the crime).\n",
    "- Which weekday (Sunday, Monday, ....Saturday) has highest/lowest daily Homicide crime count? (Visualize your findings)\n",
    "\n",
    "**Hint:** use `.day_name()` with time object to get the day"
   ]
  },
  {
   "cell_type": "code",
   "execution_count": 13,
   "metadata": {},
   "outputs": [],
   "source": [
    "#Your Code Here"
   ]
  },
  {
   "cell_type": "code",
   "execution_count": 14,
   "metadata": {
    "scrolled": true
   },
   "outputs": [],
   "source": [
    "#Your Code Here"
   ]
  },
  {
   "cell_type": "markdown",
   "metadata": {},
   "source": [
    "## Extra Credit Questions\n",
    "\n",
    "- Consider the 24 hours window into 6 frames '12am-4am', '4am-8am', '8am-12pm', '12pm-4pm', '4pm-8pm', '8pm-12am'. Create a column called `Occured TimeFrame` that contains the crime occurred time frame.\n",
    "\n",
    "- Compare `visually` time-frames in term of the number of crimes.\n",
    "- Print the name of the most dangerous neighborhood in the WEST Precinct, Then Show `visually` the percentages of crimes during different TimeFrames in that neighborhood"
   ]
  },
  {
   "cell_type": "code",
   "execution_count": 15,
   "metadata": {},
   "outputs": [],
   "source": [
    "# Your Code Here"
   ]
  },
  {
   "cell_type": "code",
   "execution_count": 16,
   "metadata": {
    "scrolled": true
   },
   "outputs": [],
   "source": [
    "#Your Code Here"
   ]
  },
  {
   "cell_type": "code",
   "execution_count": 17,
   "metadata": {},
   "outputs": [],
   "source": [
    "#Your Code Here"
   ]
  },
  {
   "cell_type": "code",
   "execution_count": 18,
   "metadata": {
    "scrolled": true
   },
   "outputs": [],
   "source": [
    "#Your Code Here"
   ]
  }
 ],
 "metadata": {
  "kernelspec": {
   "display_name": "Python 3",
   "language": "python",
   "name": "python3"
  },
  "language_info": {
   "codemirror_mode": {
    "name": "ipython",
    "version": 3
   },
   "file_extension": ".py",
   "mimetype": "text/x-python",
   "name": "python",
   "nbconvert_exporter": "python",
   "pygments_lexer": "ipython3",
   "version": "3.12.4"
  }
 },
 "nbformat": 4,
 "nbformat_minor": 4
}
