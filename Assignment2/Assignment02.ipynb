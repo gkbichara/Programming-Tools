{
 "cells": [
  {
   "cell_type": "markdown",
   "metadata": {},
   "source": [
    "**Important Note**: <u>Please be sure to use instructions explained in the class ONLY (Do NOT use any non-explained library)</u>"
   ]
  },
  {
   "cell_type": "markdown",
   "metadata": {},
   "source": [
    "### Question 1\n",
    "\n",
    "There are 12 files in the folder `sales-data`: (1.txt, 2.txt, 3.txt, .. 12.txt). Each one of these files contains sales amount of three different items (item1, item2 items) in 30 days (each line represents one day). "
   ]
  },
  {
   "cell_type": "markdown",
   "metadata": {},
   "source": [
    "**a.**  Write python code to create a new file `totals.txt` that contains the total sale of each item in each month. The content of the file should look like this:\n",
    "\n",
    "```\n",
    "item1,item2,item3\n",
    "164714,171778,153696\n",
    "162723,181867,166487\n",
    "172914,149516,155791\n",
    "179961,153297,173636\n",
    "159424,174871,149985\n",
    "181047,157718,155231\n",
    "153844,155137,181145\n",
    "175812,175479,169075\n",
    "177620,167257,167605\n",
    "180829,178063,170401\n",
    "172265,176444,152275\n",
    "151173,159185,139130\n",
    "```"
   ]
  },
  {
   "cell_type": "code",
   "execution_count": 35,
   "metadata": {},
   "outputs": [],
   "source": [
    "## Your code here\n",
    "\n",
    "file = open('totals.txt', 'w')\n",
    "file.write('item1,item2,item3\\n')\n",
    "file.close()\n",
    "\n",
    "for i in range(1, 13):\n",
    "    f = open(f'sales-data/{i}.txt', 'r')\n",
    "    sum1 = 0\n",
    "    sum2 = 0\n",
    "    sum3 = 0\n",
    "    f.readline()\n",
    "    for line in f:\n",
    "        s = line.split(',')\n",
    "        sum1 += int(s[0])\n",
    "        sum2 += int(s[1])\n",
    "        sum3 += int(s[2])\n",
    "    with open('totals.txt', 'a') as temp:\n",
    "        print(sum1, sum2, sum3, file = temp)\n",
    "    f.close()"
   ]
  },
  {
   "cell_type": "markdown",
   "metadata": {},
   "source": [
    "**b.** use the created file `totals.txt` to print a list of items names sorted by their total sales (form largest to smallest). The output should look like this:\n",
    "\n",
    "```\n",
    "['item0', 'item1', 'item2']\n",
    "```"
   ]
  },
  {
   "cell_type": "code",
   "execution_count": 36,
   "metadata": {},
   "outputs": [],
   "source": [
    "## Your code here\n"
   ]
  },
  {
   "cell_type": "markdown",
   "metadata": {},
   "source": [
    "### Question 2.\n",
    " \n",
    "**a.** Define a python class `Book`, so that each book should have:\n",
    "- The following attributes:\n",
    "    - `title`\n",
    "    - `authors_lastnames` (list of authors_lastnames)\n",
    "    - `publisher_name`\n",
    "    - `publishing_year`\n",
    "- One method called `get_citation()` returns a string that contains the book citation in the following format : \n",
    "\n",
    "    ```authors_lastnames (publishing_year). title, publisher.```\n",
    "    \n",
    "For example:\n",
    "    `Meysman, Cielen (2016). Introducing Data Science, manning`\n",
    "\n",
    "**Notes:** \n",
    "- If there is more than one author be sure to add `,` between their lastnames.\n"
   ]
  },
  {
   "cell_type": "code",
   "execution_count": 37,
   "metadata": {},
   "outputs": [],
   "source": [
    "## Your code here\n",
    "\n",
    "class Book:\n",
    "    def __init__(self, title, authors_lastnames, publisher_name, publishing_year):\n",
    "        self.title = title\n",
    "        self.authors_lastnames = authors_lastnames\n",
    "        self.publisher_name = publisher_name\n",
    "        self.publishing_year = publishing_year\n",
    "    \n",
    "    def get_citations(self):\n",
    "        authors = ', '.join(self.authors_lastnames)\n",
    "        return f\"{authors} ({self.publishing_year}). {self.title}, {self.publisher_name}\"\n",
    "    \n"
   ]
  },
  {
   "cell_type": "markdown",
   "metadata": {},
   "source": [
    "**b.** Use the created class to create a list of books call it `list_of_books`  using the data in file `booksdata.txt`"
   ]
  },
  {
   "cell_type": "code",
   "execution_count": 38,
   "metadata": {},
   "outputs": [],
   "source": [
    "## Your code here\n",
    "list_of_books = []\n",
    "f = open(\"booksdata.txt\", \"r\")\n",
    "for line in f:\n",
    "    temp = line.split(',')\n",
    "    temp[0] = temp[0].split('|')\n",
    "    \n",
    "    curPerson = Book(temp[2], temp[0], temp[3], temp[1])\n",
    "    \n",
    "\n",
    "    list_of_books.append(curPerson)"
   ]
  },
  {
   "cell_type": "markdown",
   "metadata": {},
   "source": [
    "**c.** Loop through the books in the `list_of_books` then find the latest 3 books (recently published) and show their citation.\n",
    "\n",
    "The output should be like this:\n",
    "\n",
    "```\n",
    "Chojecki (2021). Data Science Job: How To Become A Data Scientist, Przemek\n",
    "Robinson, Nolis (2020). Build A Career In Data Science, Manning\n",
    "Carter (2020). Data Science For Mathematicians, CRC Press\n",
    "\n",
    "```\n"
   ]
  },
  {
   "cell_type": "code",
   "execution_count": 39,
   "metadata": {},
   "outputs": [
    {
     "data": {
      "text/plain": [
       "['Chojecki (2021). Data Science Job: How to become a Data Scientist, Przemek\\n',\n",
       " 'Robinson, Nolis (2020). Build a Career in Data Science, Manning\\n',\n",
       " 'Carter (2020). Data Science for Mathematicians, CRC Press\\n']"
      ]
     },
     "execution_count": 39,
     "metadata": {},
     "output_type": "execute_result"
    }
   ],
   "source": [
    "## Your code here\n",
    "\n",
    "temp = sorted(list_of_books, key = lambda n: n.publishing_year, reverse=True)\n",
    "\n",
    "[i.get_citations() for i in temp[0:3]]"
   ]
  },
  {
   "cell_type": "markdown",
   "metadata": {},
   "source": [
    "**d.** Write <u>shell code</u> to read the data from `booksdata.txt` then extract book titles only and save result in `bookstitles.txt` sorted from a-z"
   ]
  },
  {
   "cell_type": "code",
   "execution_count": 40,
   "metadata": {
    "scrolled": true
   },
   "outputs": [
    {
     "data": {
      "text/plain": [
       "[]"
      ]
     },
     "execution_count": 40,
     "metadata": {},
     "output_type": "execute_result"
    }
   ],
   "source": [
    "%%!\n",
    "## Your code here\n",
    "cut -d',' -f3 'booksdata.txt' | sort > bookstitles.txt\n"
   ]
  },
  {
   "cell_type": "code",
   "execution_count": null,
   "metadata": {},
   "outputs": [],
   "source": []
  }
 ],
 "metadata": {
  "kernelspec": {
   "display_name": "projectenv",
   "language": "python",
   "name": "python3"
  },
  "language_info": {
   "codemirror_mode": {
    "name": "ipython",
    "version": 3
   },
   "file_extension": ".py",
   "mimetype": "text/x-python",
   "name": "python",
   "nbconvert_exporter": "python",
   "pygments_lexer": "ipython3",
   "version": "3.10.16"
  }
 },
 "nbformat": 4,
 "nbformat_minor": 2
}
