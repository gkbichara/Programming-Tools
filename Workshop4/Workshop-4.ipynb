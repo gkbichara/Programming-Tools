{
 "cells": [
  {
   "cell_type": "markdown",
   "id": "ee59c11d",
   "metadata": {},
   "source": [
    "## Mini Project"
   ]
  },
  {
   "cell_type": "markdown",
   "id": "cf491537",
   "metadata": {},
   "source": [
    "### Introduction\n",
    "\n",
    "Apple provides an api to get some useful information from iTunes and Apple Book Store content. \n",
    "You can read more details about this service <a href=\"https://affiliate.itunes.apple.com/resources/documentation/itunes-store-web-service-search-api/\">here</a>. In this mini project, we will use the mentioned service to get info. about the first 50 audio books that talks about data from Apple store."
   ]
  },
  {
   "cell_type": "markdown",
   "id": "112c117d",
   "metadata": {},
   "source": [
    "### Step .1\n",
    "- Fetch the data from using the following URL: https://itunes.apple.com/search?term=data&country=us&entity=audiobook&limit=50"
   ]
  },
  {
   "cell_type": "code",
   "execution_count": null,
   "id": "5dd642bb",
   "metadata": {},
   "outputs": [],
   "source": [
    "# Your Code Here\n"
   ]
  },
  {
   "cell_type": "markdown",
   "id": "21af3c4f",
   "metadata": {},
   "source": [
    "### Step .2\n",
    "- Save these data into a DataFrame that should look as follows (extract the required data only):\n",
    "\n",
    "|    | artistName    | collectionName                                                                                         | releaseDate          | primaryGenreName            |   collectionPrice | collectionViewUrl                                                                                         |\n",
    "|---:|:--------------|:-------------------------------------------------------------------------------------------------------|:---------------------|:----------------------------|------------------:|:----------------------------------------------------------------------------------------------------------|\n",
    "|  0 | Emily Oster   | Cribsheet: A Data-Driven Guide to Better, More Relaxed Parenting, from Birth to Preschool (Unabridged) | 2019-04-23T07:00:00Z | Nonfiction                  |             14.99 | https://books.apple.com/us/audiobook/cribsheet-a-data-driven-guide-to-better-more/id1459654300?uo=4       |\n",
    "|  1 | George Gilder | Life After Google: The Fall of Big Data and the Rise of the Blockchain Economy                         | 2018-07-17T07:00:00Z | Business & Personal Finance |             14.99 | https://books.apple.com/us/audiobook/life-after-google-the-fall-of-big-data-and/id1454667331?uo=4         |\n",
    "|  .. | ...  | ...    | ... | ...  | ... | ... |\n",
    "| 49 | William Sullivan | SQL Data Warehouse Database Management, SQL Server, Structured Query Language, Business Intelligence, Data Models: Master SQL Programming (Unabridged) | 2018-05-14T07:00:00Z | Science & Nature   |              5.99 | https://books.apple.com/us/audiobook/sql-data-warehouse-database-management-sql-server-structured/id1385009049?uo=4 |"
   ]
  },
  {
   "cell_type": "code",
   "execution_count": null,
   "id": "73049472",
   "metadata": {},
   "outputs": [],
   "source": [
    "# Your Code Here\n"
   ]
  },
  {
   "cell_type": "markdown",
   "id": "aed16fbb",
   "metadata": {},
   "source": [
    "### Step .3\n",
    "- Rename the dataframe columns to be: `'author','collectionName','date','genre','price','url'`"
   ]
  },
  {
   "cell_type": "code",
   "execution_count": null,
   "id": "a268162e",
   "metadata": {},
   "outputs": [],
   "source": [
    "# Your Code Here\n"
   ]
  },
  {
   "cell_type": "markdown",
   "id": "cdf24c53",
   "metadata": {},
   "source": [
    "### Step .4\n",
    "- Your dataFrame doesn't contain some importat data. such as (`the name of the narrator`, and `the length of the audiobook`).\n",
    "So add this data to each book in the dataframe, by fetching and extracting it from the audiobook `url` that exist in your dataframe for each book\n",
    "\n",
    "**Hints:** \n",
    "   - Write code to visit each url, find the div with the class `book-badge__value` in that url, then you will get all these values in a list.\n",
    "   - You can use `df[col_name].apply(function_name)` to apply certain function on each value in a certain column\n"
   ]
  },
  {
   "cell_type": "code",
   "execution_count": null,
   "id": "3b2a4ef9",
   "metadata": {},
   "outputs": [],
   "source": [
    "# Your Code Here\n"
   ]
  },
  {
   "cell_type": "markdown",
   "id": "c354ee54",
   "metadata": {},
   "source": [
    "### Step .5\n",
    "- In the column date keep only the year\n",
    "- Convert `year` into `int` datatype and `price` to `float` datatype\n",
    "- Remove the column `url` from the dataframe as it is not required anymore\n",
    "\n",
    "Your dataFrame should look as follows:\n",
    "\n",
    "|    | author        | collectionName                                                                                         |   date | genre                       |   price | narrator   | length   |\n",
    "|---:|:--------------|:-------------------------------------------------------------------------------------------------------|-------:|:----------------------------|--------:|:-----------|:---------|\n",
    "|  0 | Emily Oster   | Cribsheet: A Data-Driven Guide to Better, More Relaxed Parenting, from Birth to Preschool (Unabridged) |   2019 | Nonfiction                  |   14.99 | KV         | 10:36    |\n",
    "|  1 | George Gilder | Life After Google: The Fall of Big Data and the Rise of the Blockchain Economy                         |   2018 | Business & Personal Finance |   14.99 | EMS        | 09:38    |\n",
    "|  .. | ...  | ...    | ... | ...  | ... | \n",
    "| 49 | William Sullivan | SQL Data Warehouse Database Management, SQL Server, Structured Query Language, Business Intelligence, Data Models: Master SQL Programming (Unabridged) |   2018 | Science & Nature |    5.99 | LH         | 02:49    |"
   ]
  },
  {
   "cell_type": "code",
   "execution_count": null,
   "id": "309144c2",
   "metadata": {},
   "outputs": [],
   "source": [
    "# Your Code Here\n"
   ]
  },
  {
   "cell_type": "markdown",
   "id": "b0153aae",
   "metadata": {},
   "source": [
    "### Step .6\n",
    "- Find the number of audiobooks pubished before year 2015\n"
   ]
  },
  {
   "cell_type": "code",
   "execution_count": null,
   "id": "75a7a37a",
   "metadata": {},
   "outputs": [],
   "source": [
    "# Your Code Here\n"
   ]
  },
  {
   "cell_type": "markdown",
   "id": "bbef0a55",
   "metadata": {},
   "source": [
    "### Step .7\n",
    "- Find the name of the author who has the largest number of audiobooks\n",
    "- Find the all audiobooks of that author and show their genre"
   ]
  },
  {
   "cell_type": "code",
   "execution_count": null,
   "id": "a58a3225",
   "metadata": {},
   "outputs": [],
   "source": [
    "# Your Code Here\n"
   ]
  },
  {
   "cell_type": "markdown",
   "id": "0ce995bd",
   "metadata": {},
   "source": [
    "### Step .8\n",
    "- Find the title of the most expensive collection\n",
    "- Find the name of the narrator who has the longest audiobook\n",
    "- Find the number of diffenet genres"
   ]
  },
  {
   "cell_type": "code",
   "execution_count": null,
   "id": "0e848c28",
   "metadata": {},
   "outputs": [],
   "source": [
    "# Your Code Here\n"
   ]
  },
  {
   "cell_type": "markdown",
   "id": "ad90ee7e",
   "metadata": {},
   "source": [
    "### Step .9\n",
    "- Compare the mean price of different genre\n",
    "- Compare the mean price of different years"
   ]
  },
  {
   "cell_type": "code",
   "execution_count": null,
   "id": "c25a5c78",
   "metadata": {},
   "outputs": [],
   "source": [
    "# Your Code Here\n"
   ]
  },
  {
   "cell_type": "markdown",
   "id": "4b6c2cc8",
   "metadata": {},
   "source": [
    "### Step .10\n",
    "- Find the year that has the highest number of Nonfiction audiobooks"
   ]
  },
  {
   "cell_type": "code",
   "execution_count": null,
   "id": "58b22e85",
   "metadata": {},
   "outputs": [],
   "source": [
    "# Your Code Here\n"
   ]
  },
  {
   "cell_type": "markdown",
   "id": "13a2aaa2",
   "metadata": {},
   "source": [
    "### Step .11\n",
    "- Compare (visually) between the number of books in different genre (make sure that your chart is meaningful)"
   ]
  },
  {
   "cell_type": "code",
   "execution_count": null,
   "id": "4d7ebe3a",
   "metadata": {},
   "outputs": [],
   "source": [
    "# Your Code Here\n"
   ]
  },
  {
   "cell_type": "markdown",
   "id": "ed37b23c",
   "metadata": {},
   "source": [
    "### Step .12\n",
    "- Compare (visually) between the number of books published in different years (make sure that your chart is meaningful)"
   ]
  },
  {
   "cell_type": "code",
   "execution_count": null,
   "id": "d78d3600",
   "metadata": {
    "scrolled": true
   },
   "outputs": [],
   "source": [
    "# Your Code Here\n"
   ]
  }
 ],
 "metadata": {
  "kernelspec": {
   "display_name": "Python 3",
   "language": "python",
   "name": "python3"
  },
  "language_info": {
   "codemirror_mode": {
    "name": "ipython",
    "version": 3
   },
   "file_extension": ".py",
   "mimetype": "text/x-python",
   "name": "python",
   "nbconvert_exporter": "python",
   "pygments_lexer": "ipython3",
   "version": "3.8.8"
  }
 },
 "nbformat": 4,
 "nbformat_minor": 5
}
