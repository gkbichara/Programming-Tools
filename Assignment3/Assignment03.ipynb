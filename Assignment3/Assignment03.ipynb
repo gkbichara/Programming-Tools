{
 "cells": [
  {
   "cell_type": "markdown",
   "id": "4d9331f8",
   "metadata": {},
   "source": [
    "## Exercise 01\n",
    "\n",
    "Write code to read data from: https://data.giss.nasa.gov/gistemp/tabledata_v3/GLB.Ts+dSST.txt . \n",
    "\n",
    "Keep all monthly temperatures (from Jan to Dec) between 1980 and 2015 ONLY (ignore any other data), then:\n",
    "\n",
    "- Find minimum temperature in Jan between 1980 - 2015\n",
    "- Find average temperature in each year between 1980 - 2015\n",
    "- Find temperature in Jan 2000\n",
    "- Find temperature in Jun 2009"
   ]
  },
  {
   "cell_type": "code",
   "execution_count": null,
   "id": "d1efb0aa",
   "metadata": {},
   "outputs": [],
   "source": [
    "# Find minimum temperature in Jan between 1980 - 2015\n",
    "# Your code here\n"
   ]
  },
  {
   "cell_type": "code",
   "execution_count": null,
   "id": "3ff88d03",
   "metadata": {},
   "outputs": [],
   "source": [
    "# Find average temperature in each year between 1980 - 2015\n",
    "# Your code here\n"
   ]
  },
  {
   "cell_type": "code",
   "execution_count": null,
   "id": "0c8e9872",
   "metadata": {},
   "outputs": [],
   "source": [
    "# Find temperature in Jan 2000\n",
    "# Your code here\n"
   ]
  },
  {
   "cell_type": "code",
   "execution_count": null,
   "id": "c79dd043",
   "metadata": {},
   "outputs": [],
   "source": [
    "# Find temperature in Jun 2009\n",
    "# Your code here\n"
   ]
  },
  {
   "cell_type": "markdown",
   "id": "d7650e32",
   "metadata": {},
   "source": [
    "## Extra Credit  (Optional)\n",
    "\n",
    "`answers.txt` contains students answers of exam questions (each line contains student_id, then answers made by that student)\n",
    "\n",
    "- The first number is the student’s ID number. The following 25 letters are the student responses to the exam. If there is no letter following a comma, this means the student skipped answering the question.\n",
    "\n",
    "- Write code to read the data from the file, compare students answers to answers key (1 point for each correct answer), then find: \n",
    "\n",
    "    - The grade for each student.\n",
    "    - Id of student of the highest score.\n",
    "    - Id of student of the lowest score.\n",
    "\n",
    "`answerkey = \"B,A,D,D,C,B,D,A,C,C,D,B,A,B,A,C,B,D,A,C,A,A,B,D,D\"`"
   ]
  },
  {
   "cell_type": "code",
   "execution_count": null,
   "id": "75126dfa",
   "metadata": {},
   "outputs": [],
   "source": [
    "answerkey = \"B,A,D,D,C,B,D,A,C,C,D,B,A,B,A,C,B,D,A,C,A,A,B,D,D\""
   ]
  },
  {
   "cell_type": "code",
   "execution_count": null,
   "id": "0901b22d",
   "metadata": {},
   "outputs": [],
   "source": [
    "# The grade for each student\n",
    "# Your code here"
   ]
  },
  {
   "cell_type": "code",
   "execution_count": null,
   "id": "a04c7db3",
   "metadata": {},
   "outputs": [],
   "source": [
    "# Id of student of the highest score\n",
    "# Your code here"
   ]
  },
  {
   "cell_type": "code",
   "execution_count": null,
   "id": "c6486051",
   "metadata": {},
   "outputs": [],
   "source": [
    "# Id of student of the lowest score\n",
    "# Your code here"
   ]
  }
 ],
 "metadata": {
  "kernelspec": {
   "display_name": "Python 3",
   "language": "python",
   "name": "python3"
  },
  "language_info": {
   "codemirror_mode": {
    "name": "ipython",
    "version": 3
   },
   "file_extension": ".py",
   "mimetype": "text/x-python",
   "name": "python",
   "nbconvert_exporter": "python",
   "pygments_lexer": "ipython3",
   "version": "3.8.8"
  }
 },
 "nbformat": 4,
 "nbformat_minor": 5
}
