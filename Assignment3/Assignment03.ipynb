{
 "cells": [
  {
   "cell_type": "markdown",
   "id": "4d9331f8",
   "metadata": {},
   "source": [
    "## Exercise 01\n",
    "\n",
    "Write code to read data from: https://data.giss.nasa.gov/gistemp/tabledata_v3/GLB.Ts+dSST.txt . \n",
    "\n",
    "Keep all monthly temperatures (from Jan to Dec) between 1980 and 2015 ONLY (ignore any other data), then:\n",
    "\n",
    "- Find minimum temperature in Jan between 1980 - 2015\n",
    "- Find average temperature in each year between 1980 - 2015\n",
    "- Find temperature in Jan 2000\n",
    "- Find temperature in Jun 2009"
   ]
  },
  {
   "cell_type": "code",
   "execution_count": 28,
   "id": "d1efb0aa",
   "metadata": {},
   "outputs": [
    {
     "data": {
      "text/plain": [
       "0.1"
      ]
     },
     "execution_count": 28,
     "metadata": {},
     "output_type": "execute_result"
    }
   ],
   "source": [
    "# Find minimum temperature in Jan between 1980 - 2015\n",
    "# Your code here\n",
    "\n",
    "import pandas as pd\n",
    "\n",
    "url = \"https://data.giss.nasa.gov/gistemp/tabledata_v3/GLB.Ts+dSST.txt\"\n",
    "df = pd.read_csv(url, sep='\\s+', skiprows=7, header=0, na_values=\"****\")\n",
    "df = df.apply(pd.to_numeric, errors='coerce')\n",
    "\n",
    "\n",
    "df2 = df[(df['Year'] >= 1980) & (df['Year'] <= 2015)]\n",
    "\n",
    "int(df2['Jan'].min()) / 100"
   ]
  },
  {
   "cell_type": "code",
   "execution_count": 29,
   "id": "3ff88d03",
   "metadata": {},
   "outputs": [
    {
     "data": {
      "text/plain": [
       "104    0.270833\n",
       "106    0.330833\n",
       "107    0.132500\n",
       "108    0.315000\n",
       "109    0.160833\n",
       "110    0.118333\n",
       "111    0.180000\n",
       "112    0.332500\n",
       "113    0.407500\n",
       "114    0.289167\n",
       "115    0.440833\n",
       "116    0.414167\n",
       "117    0.223333\n",
       "118    0.238333\n",
       "119    0.307500\n",
       "120    0.445000\n",
       "121    0.335000\n",
       "122    0.468333\n",
       "123    0.622500\n",
       "124    0.396667\n",
       "125    0.399167\n",
       "127    0.529167\n",
       "128    0.620833\n",
       "129    0.605000\n",
       "130    0.531667\n",
       "131    0.666667\n",
       "132    0.616667\n",
       "133    0.637500\n",
       "134    0.515833\n",
       "135    0.631667\n",
       "136    0.696667\n",
       "137    0.582500\n",
       "138    0.617500\n",
       "139    0.646667\n",
       "140    0.731667\n",
       "141    0.865833\n",
       "dtype: float64"
      ]
     },
     "execution_count": 29,
     "metadata": {},
     "output_type": "execute_result"
    }
   ],
   "source": [
    "# Find average temperature in each year between 1980 - 2015\n",
    "# Your code here\n",
    "\n",
    "months = [\"Jan\",\"Feb\",\"Mar\",\"Apr\",\"May\",\"Jun\",\"Jul\",\"Aug\",\"Sep\",\"Oct\",\"Nov\",\"Dec\"]\n",
    "df2[months].mean(axis=1) / 100"
   ]
  },
  {
   "cell_type": "code",
   "execution_count": 44,
   "id": "0c8e9872",
   "metadata": {},
   "outputs": [
    {
     "data": {
      "text/plain": [
       "0.23"
      ]
     },
     "execution_count": 44,
     "metadata": {},
     "output_type": "execute_result"
    }
   ],
   "source": [
    "# Find temperature in Jan 2000\n",
    "# Your code here\n",
    "\n",
    "float( df.loc[df[\"Year\"] == 2000, \"Jan\"].iloc[0] / 100 )"
   ]
  },
  {
   "cell_type": "code",
   "execution_count": 45,
   "id": "c79dd043",
   "metadata": {},
   "outputs": [
    {
     "data": {
      "text/plain": [
       "0.65"
      ]
     },
     "execution_count": 45,
     "metadata": {},
     "output_type": "execute_result"
    }
   ],
   "source": [
    "# Find temperature in Jun 2009\n",
    "# Your code here\n",
    "\n",
    "float( df.loc[df[\"Year\"] == 2009, \"Jun\"].iloc[0] / 100 )"
   ]
  },
  {
   "cell_type": "markdown",
   "id": "d7650e32",
   "metadata": {},
   "source": [
    "## Extra Credit  (Optional)\n",
    "\n",
    "`answers.txt` contains students answers of exam questions (each line contains student_id, then answers made by that student)\n",
    "\n",
    "- The first number is the student’s ID number. The following 25 letters are the student responses to the exam. If there is no letter following a comma, this means the student skipped answering the question.\n",
    "\n",
    "- Write code to read the data from the file, compare students answers to answers key (1 point for each correct answer), then find: \n",
    "\n",
    "    - The grade for each student.\n",
    "    - Id of student of the highest score.\n",
    "    - Id of student of the lowest score.\n",
    "\n",
    "`answerkey = \"B,A,D,D,C,B,D,A,C,C,D,B,A,B,A,C,B,D,A,C,A,A,B,D,D\"`"
   ]
  },
  {
   "cell_type": "code",
   "execution_count": 32,
   "id": "75126dfa",
   "metadata": {},
   "outputs": [],
   "source": [
    "answerkey = \"B,A,D,D,C,B,D,A,C,C,D,B,A,B,A,C,B,D,A,C,A,A,B,D,D\""
   ]
  },
  {
   "cell_type": "code",
   "execution_count": null,
   "id": "0901b22d",
   "metadata": {},
   "outputs": [],
   "source": [
    "# The grade for each student\n",
    "# Your code here\n",
    "\n",
    "students = cs"
   ]
  },
  {
   "cell_type": "code",
   "execution_count": 34,
   "id": "a04c7db3",
   "metadata": {},
   "outputs": [],
   "source": [
    "# Id of student of the highest score\n",
    "# Your code here"
   ]
  },
  {
   "cell_type": "code",
   "execution_count": 35,
   "id": "c6486051",
   "metadata": {},
   "outputs": [],
   "source": [
    "# Id of student of the lowest score\n",
    "# Your code here"
   ]
  }
 ],
 "metadata": {
  "kernelspec": {
   "display_name": "projectenv",
   "language": "python",
   "name": "python3"
  },
  "language_info": {
   "codemirror_mode": {
    "name": "ipython",
    "version": 3
   },
   "file_extension": ".py",
   "mimetype": "text/x-python",
   "name": "python",
   "nbconvert_exporter": "python",
   "pygments_lexer": "ipython3",
   "version": "3.10.16"
  }
 },
 "nbformat": 4,
 "nbformat_minor": 5
}
