{
 "cells": [
  {
   "cell_type": "code",
   "execution_count": 15,
   "metadata": {},
   "outputs": [],
   "source": [
    "# shell\n",
    "\n",
    "# cd, mkdir, rm, ls, touch, cat, mv, chmod, nano, vim\n",
    "# wc, sort, cut, grep, uniq, paste, tr, sed\n",
    "# if, for, while\n",
    "# |, >, >>\n"
   ]
  },
  {
   "cell_type": "code",
   "execution_count": 16,
   "metadata": {},
   "outputs": [
    {
     "name": "stdout",
     "output_type": "stream",
     "text": [
      "       5 data.txt\n"
     ]
    }
   ],
   "source": [
    "#!!\n",
    "\n",
    "# Count the total number of lines in the file\n",
    "# sort the file by scores in descending order\n",
    "# extract names and display only the top names based on their score\n",
    "\n",
    "! wc -l 'data.txt'\n",
    "\n"
   ]
  },
  {
   "cell_type": "code",
   "execution_count": 17,
   "metadata": {},
   "outputs": [
    {
     "name": "stdout",
     "output_type": "stream",
     "text": [
      "Alice 92\n",
      "Eve 91\n",
      "Alice 90\n",
      "Bob 88\n",
      "John 85\n",
      "Bob 72\n"
     ]
    }
   ],
   "source": [
    "! sort -t' ' -k2 -nr 'data.txt'"
   ]
  },
  {
   "cell_type": "code",
   "execution_count": 18,
   "metadata": {},
   "outputs": [
    {
     "name": "stdout",
     "output_type": "stream",
     "text": [
      "Alice\n",
      "Eve\n",
      "Alice\n"
     ]
    }
   ],
   "source": [
    "# there are duplicates\n",
    "! sort -t' ' -k2 -nr 'data.txt' | cut -d' ' -f1 | head -n3"
   ]
  },
  {
   "cell_type": "code",
   "execution_count": 22,
   "metadata": {},
   "outputs": [
    {
     "name": "stdout",
     "output_type": "stream",
     "text": [
      "Alice\n",
      "Eve\n",
      "Alice\n"
     ]
    }
   ],
   "source": [
    "# without duplicates\n",
    "! sort -t' ' -k2,2 -nr 'data.txt' | cut -d' ' -f1 | head -n3 "
   ]
  },
  {
   "cell_type": "code",
   "execution_count": 23,
   "metadata": {},
   "outputs": [],
   "source": [
    "### python"
   ]
  },
  {
   "cell_type": "code",
   "execution_count": null,
   "metadata": {},
   "outputs": [],
   "source": [
    "# data types: int, str, float, bool\n",
    "# data structures: list, tuple, set, dict\n",
    "# iterator, generators\n",
    "# lambda, functionsm sum, max, sorted, min, filter, map"
   ]
  },
  {
   "cell_type": "code",
   "execution_count": 27,
   "metadata": {},
   "outputs": [
    {
     "data": {
      "text/plain": [
       "['alb3', 'b4a', 'm2n3', 'x2z5', 'c9d']"
      ]
     },
     "execution_count": 27,
     "metadata": {},
     "output_type": "execute_result"
    }
   ],
   "source": [
    "### exercise\n",
    "data = ['alb3', 'x2z5', 'c9d', 'b4a', 'm2n3']\n",
    "# sort data based on the digits\n",
    "\n",
    "sorted(data, key = lambda t: sum([int(c) for c in t if c.isdigit()]))"
   ]
  },
  {
   "cell_type": "code",
   "execution_count": 35,
   "metadata": {},
   "outputs": [
    {
     "data": {
      "text/plain": [
       "12"
      ]
     },
     "execution_count": 35,
     "metadata": {},
     "output_type": "execute_result"
    }
   ],
   "source": [
    "# given this list:\n",
    "L = [10, 7, 8, 8, 9, 12, 14, 5]\n",
    "# find the second largest value\n",
    "\n",
    "sorted(set(L), reverse = True)[1]"
   ]
  },
  {
   "cell_type": "code",
   "execution_count": 38,
   "metadata": {},
   "outputs": [
    {
     "data": {
      "text/plain": [
       "[1, 2, 3, 4, 5, 6, 7, 8]"
      ]
     },
     "execution_count": 38,
     "metadata": {},
     "output_type": "execute_result"
    }
   ],
   "source": [
    "# flatten the following list\n",
    "L = [[1,2,3], [4,5,6], [7,8]]\n",
    "\n",
    "[i for s in L for i in s]"
   ]
  },
  {
   "cell_type": "code",
   "execution_count": 46,
   "metadata": {},
   "outputs": [
    {
     "data": {
      "text/plain": [
       "{10: 'james', 20: 'mike', 500: 112, 70: 'sarah'}"
      ]
     },
     "execution_count": 46,
     "metadata": {},
     "output_type": "execute_result"
    }
   ],
   "source": [
    "# reverse the following dictinonary (swap keys and values)\n",
    "\n",
    "d = {'james': 10, 'mike': 20, 112: 500, 'sarah': 70}\n",
    "\n",
    "\n",
    "dict([(v,k) for k,v in d.items()])\n",
    "# or\n",
    "{v:k for k,v in d.items()}"
   ]
  },
  {
   "cell_type": "code",
   "execution_count": null,
   "metadata": {},
   "outputs": [],
   "source": []
  },
  {
   "cell_type": "code",
   "execution_count": null,
   "metadata": {},
   "outputs": [],
   "source": []
  },
  {
   "cell_type": "code",
   "execution_count": null,
   "metadata": {},
   "outputs": [],
   "source": []
  },
  {
   "cell_type": "code",
   "execution_count": null,
   "metadata": {},
   "outputs": [],
   "source": []
  },
  {
   "cell_type": "code",
   "execution_count": null,
   "metadata": {},
   "outputs": [],
   "source": []
  }
 ],
 "metadata": {
  "kernelspec": {
   "display_name": "projectenv",
   "language": "python",
   "name": "python3"
  },
  "language_info": {
   "codemirror_mode": {
    "name": "ipython",
    "version": 3
   },
   "file_extension": ".py",
   "mimetype": "text/x-python",
   "name": "python",
   "nbconvert_exporter": "python",
   "pygments_lexer": "ipython3",
   "version": "3.10.16"
  }
 },
 "nbformat": 4,
 "nbformat_minor": 2
}
