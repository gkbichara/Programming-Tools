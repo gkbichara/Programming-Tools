{
 "cells": [
  {
   "cell_type": "code",
   "execution_count": 53,
   "metadata": {},
   "outputs": [],
   "source": [
    "# shell\n",
    "\n",
    "# cd, mkdir, rm, ls, touch, cat, mv, chmod, nano, vim\n",
    "# wc, sort, cut, grep, uniq, paste, tr, sed\n",
    "# if, for, while\n",
    "# |, >, >>\n"
   ]
  },
  {
   "cell_type": "code",
   "execution_count": 54,
   "metadata": {},
   "outputs": [
    {
     "name": "stdout",
     "output_type": "stream",
     "text": [
      "       5 data.txt\n"
     ]
    }
   ],
   "source": [
    "#!!\n",
    "\n",
    "# Count the total number of lines in the file\n",
    "# sort the file by scores in descending order\n",
    "# extract names and display only the top names based on their score\n",
    "\n",
    "! wc -l 'data.txt'\n",
    "\n"
   ]
  },
  {
   "cell_type": "code",
   "execution_count": 55,
   "metadata": {},
   "outputs": [
    {
     "name": "stdout",
     "output_type": "stream",
     "text": [
      "Alice 92\n",
      "Eve 91\n",
      "Alice 90\n",
      "Bob 88\n",
      "John 85\n",
      "Bob 72\n"
     ]
    }
   ],
   "source": [
    "! sort -t' ' -k2 -nr 'data.txt'"
   ]
  },
  {
   "cell_type": "code",
   "execution_count": 56,
   "metadata": {},
   "outputs": [
    {
     "name": "stdout",
     "output_type": "stream",
     "text": [
      "Alice\n",
      "Eve\n",
      "Alice\n"
     ]
    }
   ],
   "source": [
    "# there are duplicates\n",
    "! sort -t' ' -k2 -nr 'data.txt' | cut -d' ' -f1 | head -n3"
   ]
  },
  {
   "cell_type": "code",
   "execution_count": 57,
   "metadata": {},
   "outputs": [
    {
     "name": "stdout",
     "output_type": "stream",
     "text": [
      "Alice\n",
      "Eve\n",
      "Alice\n"
     ]
    }
   ],
   "source": [
    "# without duplicates\n",
    "! sort -t' ' -k2,2 -nr 'data.txt' | cut -d' ' -f1 | head -n3 "
   ]
  },
  {
   "cell_type": "code",
   "execution_count": 58,
   "metadata": {},
   "outputs": [],
   "source": [
    "### python"
   ]
  },
  {
   "cell_type": "code",
   "execution_count": 59,
   "metadata": {},
   "outputs": [],
   "source": [
    "# data types: int, str, float, bool\n",
    "# data structures: list, tuple, set, dict\n",
    "# iterator, generators\n",
    "# lambda, functionsm sum, max, sorted, min, filter, map\n",
    "# exceptions\n",
    "# classes"
   ]
  },
  {
   "cell_type": "code",
   "execution_count": 60,
   "metadata": {},
   "outputs": [
    {
     "data": {
      "text/plain": [
       "['alb3', 'b4a', 'm2n3', 'x2z5', 'c9d']"
      ]
     },
     "execution_count": 60,
     "metadata": {},
     "output_type": "execute_result"
    }
   ],
   "source": [
    "### exercise\n",
    "data = ['alb3', 'x2z5', 'c9d', 'b4a', 'm2n3']\n",
    "# sort data based on the digits\n",
    "\n",
    "sorted(data, key = lambda t: sum([int(c) for c in t if c.isdigit()]))"
   ]
  },
  {
   "cell_type": "code",
   "execution_count": 61,
   "metadata": {},
   "outputs": [
    {
     "data": {
      "text/plain": [
       "12"
      ]
     },
     "execution_count": 61,
     "metadata": {},
     "output_type": "execute_result"
    }
   ],
   "source": [
    "# given this list:\n",
    "L = [10, 7, 8, 8, 9, 12, 14, 5]\n",
    "# find the second largest value\n",
    "\n",
    "sorted(set(L), reverse = True)[1]"
   ]
  },
  {
   "cell_type": "code",
   "execution_count": 62,
   "metadata": {},
   "outputs": [
    {
     "data": {
      "text/plain": [
       "[1, 2, 3, 4, 5, 6, 7, 8]"
      ]
     },
     "execution_count": 62,
     "metadata": {},
     "output_type": "execute_result"
    }
   ],
   "source": [
    "# flatten the following list\n",
    "L = [[1,2,3], [4,5,6], [7,8]]\n",
    "\n",
    "[i for s in L for i in s]"
   ]
  },
  {
   "cell_type": "code",
   "execution_count": 63,
   "metadata": {},
   "outputs": [
    {
     "data": {
      "text/plain": [
       "{10: 'james', 20: 'mike', 500: 112, 70: 'sarah'}"
      ]
     },
     "execution_count": 63,
     "metadata": {},
     "output_type": "execute_result"
    }
   ],
   "source": [
    "# reverse the following dictinonary (swap keys and values)\n",
    "\n",
    "d = {'james': 10, 'mike': 20, 112: 500, 'sarah': 70}\n",
    "\n",
    "\n",
    "dict([(v,k) for k,v in d.items()])\n",
    "# or\n",
    "{v:k for k,v in d.items()}"
   ]
  },
  {
   "cell_type": "code",
   "execution_count": 64,
   "metadata": {},
   "outputs": [
    {
     "data": {
      "text/plain": [
       "['madam', 'racecar', 'refer']"
      ]
     },
     "execution_count": 64,
     "metadata": {},
     "output_type": "execute_result"
    }
   ],
   "source": [
    "# find palindromes\n",
    "\n",
    "words = ['madam', 'racecar', 'hello', 'world', 'refer']\n",
    "[w for w in words if w[::-1] == w]\n",
    "# or\n",
    "list(filter(lambda w: w==w[::-1], words))"
   ]
  },
  {
   "cell_type": "code",
   "execution_count": 65,
   "metadata": {},
   "outputs": [
    {
     "data": {
      "text/plain": [
       "['enlist', 'inlets', 'silent']"
      ]
     },
     "execution_count": 65,
     "metadata": {},
     "output_type": "execute_result"
    }
   ],
   "source": [
    "# find all anagrams of a given word\n",
    "word = 'listen'\n",
    "list_of_words = ['enlist', 'google', 'inlets', 'banana', 'silent']\n",
    "\n",
    "[i for i in list_of_words if sorted(i) == sorted(word)]"
   ]
  },
  {
   "cell_type": "code",
   "execution_count": 66,
   "metadata": {},
   "outputs": [],
   "source": [
    "### regular expressions"
   ]
  },
  {
   "cell_type": "code",
   "execution_count": 72,
   "metadata": {},
   "outputs": [
    {
     "data": {
      "text/plain": [
       "['#python', '#regex']"
      ]
     },
     "execution_count": 72,
     "metadata": {},
     "output_type": "execute_result"
    }
   ],
   "source": [
    "# exercise\n",
    "# using regular expression, extract all hashtags from a tweet\n",
    "tweet = 'loving the #python and #regex exercises!'\n",
    "\n",
    "import re\n",
    "\n",
    "re.findall(r'#\\w+', tweet)\n"
   ]
  },
  {
   "cell_type": "code",
   "execution_count": 80,
   "metadata": {},
   "outputs": [
    {
     "data": {
      "text/plain": [
       "['3.14', '-0.99', '1.2', '42.0']"
      ]
     },
     "execution_count": 80,
     "metadata": {},
     "output_type": "execute_result"
    }
   ],
   "source": [
    "# using re, extract all possible floats from a given text\n",
    "text = 'the values are 3.14, -0.99, 1.2 and 42.0' \n",
    "\n",
    "re.findall(r'-?\\d+.\\d+', text)\n",
    "\n",
    "# have to do the \\d+.\\d as if you don't it will split umbers that have . between them\n",
    "# the -?"
   ]
  },
  {
   "cell_type": "code",
   "execution_count": 81,
   "metadata": {},
   "outputs": [],
   "source": [
    "# files (text, binary)\n",
    "# webscraping\n",
    "# numpy arrays\n"
   ]
  },
  {
   "cell_type": "code",
   "execution_count": 89,
   "metadata": {},
   "outputs": [
    {
     "data": {
      "text/plain": [
       "array([[ 0,  1,  2,  3],\n",
       "       [ 4,  5,  6,  7],\n",
       "       [ 8,  9, 10, 11],\n",
       "       [12, 13, 14, 15],\n",
       "       [16, 17, 18, 19]])"
      ]
     },
     "execution_count": 89,
     "metadata": {},
     "output_type": "execute_result"
    }
   ],
   "source": [
    "import numpy as np\n",
    "\n",
    "a = np.arange(20).reshape(5,4)\n",
    "a"
   ]
  },
  {
   "cell_type": "code",
   "execution_count": 86,
   "metadata": {},
   "outputs": [
    {
     "data": {
      "text/plain": [
       "np.int64(190)"
      ]
     },
     "execution_count": 86,
     "metadata": {},
     "output_type": "execute_result"
    }
   ],
   "source": [
    "# total sum of values\n",
    "\n",
    "a.sum\n",
    "# or\n",
    "np.sum(a)"
   ]
  },
  {
   "cell_type": "code",
   "execution_count": 87,
   "metadata": {},
   "outputs": [
    {
     "data": {
      "text/plain": [
       "array([ 6, 22, 38, 54, 70])"
      ]
     },
     "execution_count": 87,
     "metadata": {},
     "output_type": "execute_result"
    }
   ],
   "source": [
    "# total sum of cols or rows\n",
    "# axis = 0 --> column-wise sum (sum of all rows in a column)\n",
    "# axis = 1 --> row-wise sum (sum of all columns in a row)\n",
    "\n",
    "np.sum(a, axis = 1)\n",
    "\n"
   ]
  },
  {
   "cell_type": "code",
   "execution_count": 90,
   "metadata": {},
   "outputs": [
    {
     "data": {
      "text/plain": [
       "array([ 3,  7, 11, 15, 19])"
      ]
     },
     "execution_count": 90,
     "metadata": {},
     "output_type": "execute_result"
    }
   ],
   "source": [
    "# find the maximum value of each row in an array\n",
    "# axis = 1 will find the max of each row, as it goes through all columns in 1 row\n",
    "np.max(a, axis = 1)"
   ]
  },
  {
   "cell_type": "code",
   "execution_count": 100,
   "metadata": {},
   "outputs": [
    {
     "data": {
      "text/plain": [
       "array([[1., 1., 1., 1., 1.],\n",
       "       [1., 0., 0., 0., 1.],\n",
       "       [1., 0., 0., 0., 1.],\n",
       "       [1., 0., 0., 0., 1.],\n",
       "       [1., 1., 1., 1., 1.]])"
      ]
     },
     "execution_count": 100,
     "metadata": {},
     "output_type": "execute_result"
    }
   ],
   "source": [
    "# exercise\n",
    "# create an array (10, 10) of zeros surrounded with ones\n",
    "\n",
    "b = np.zeros((5,5))\n",
    "b[:,[0,-1]] = 1\n",
    "b[[0,-1], :] = 1\n",
    "b\n"
   ]
  },
  {
   "cell_type": "code",
   "execution_count": null,
   "metadata": {},
   "outputs": [],
   "source": []
  }
 ],
 "metadata": {
  "kernelspec": {
   "display_name": "projectenv",
   "language": "python",
   "name": "python3"
  },
  "language_info": {
   "codemirror_mode": {
    "name": "ipython",
    "version": 3
   },
   "file_extension": ".py",
   "mimetype": "text/x-python",
   "name": "python",
   "nbconvert_exporter": "python",
   "pygments_lexer": "ipython3",
   "version": "3.10.16"
  }
 },
 "nbformat": 4,
 "nbformat_minor": 2
}
