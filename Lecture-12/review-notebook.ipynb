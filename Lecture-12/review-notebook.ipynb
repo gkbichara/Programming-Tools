{
 "cells": [
  {
   "cell_type": "code",
   "execution_count": null,
   "metadata": {},
   "outputs": [],
   "source": [
    "# shell\n",
    "\n",
    "# cd, mkdir, rm, ls, touch, cat, mv, chmod, nano, vim\n",
    "# wc, sort, cut, grep, uniq, paste, tr, sed\n",
    "# if, for, while\n",
    "# |, >, >>\n"
   ]
  },
  {
   "cell_type": "code",
   "execution_count": null,
   "metadata": {},
   "outputs": [],
   "source": [
    "#!!\n",
    "\n",
    "# Count the total number of lines in the file\n",
    "# sort the file by scores in descending order\n",
    "# extract names and display only the top names based on their scor\n",
    "\n",
    "wc -l 'data.txt'\n"
   ]
  },
  {
   "cell_type": "code",
   "execution_count": null,
   "metadata": {},
   "outputs": [],
   "source": []
  },
  {
   "cell_type": "code",
   "execution_count": null,
   "metadata": {},
   "outputs": [],
   "source": []
  }
 ],
 "metadata": {
  "kernelspec": {
   "display_name": "projectenv",
   "language": "python",
   "name": "python3"
  },
  "language_info": {
   "name": "python",
   "version": "3.10.16"
  }
 },
 "nbformat": 4,
 "nbformat_minor": 2
}
