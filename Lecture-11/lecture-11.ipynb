{
 "cells": [
  {
   "cell_type": "code",
   "execution_count": 166,
   "metadata": {},
   "outputs": [],
   "source": [
    "from bs4 import BeautifulSoup\n",
    "import requests\n",
    "import re\n",
    "from datetime import datetime"
   ]
  },
  {
   "cell_type": "code",
   "execution_count": 167,
   "metadata": {},
   "outputs": [
    {
     "data": {
      "text/plain": [
       "\"\\nurl = 'https://www.bbc.com/'\\n\\nresponse = requests.get(url)\\ndata = response.text\\n\\nsoup = BeautifulSoup(data)\\ntext = soup.find_all('h2')\\n\\nnews = [t.text for t in soup.find_all('h2', {'class': 'sc-87075214-3 eywmDE'})]\\n\\nf = open(str(datetime.now()) + '.txt', 'w')\\nf.write('\\n'.join(news))\\nf.close()\\n\""
      ]
     },
     "execution_count": 167,
     "metadata": {},
     "output_type": "execute_result"
    }
   ],
   "source": [
    "\"\"\"\n",
    "url = 'https://www.bbc.com/'\n",
    "\n",
    "response = requests.get(url)\n",
    "data = response.text\n",
    "\n",
    "soup = BeautifulSoup(data)\n",
    "text = soup.find_all('h2')\n",
    "\n",
    "news = [t.text for t in soup.find_all('h2', {'class': 'sc-87075214-3 eywmDE'})]\n",
    "\n",
    "f = open(str(datetime.now()) + '.txt', 'w')\n",
    "f.write('\\n'.join(news))\n",
    "f.close()\n",
    "\"\"\""
   ]
  },
  {
   "cell_type": "code",
   "execution_count": 168,
   "metadata": {},
   "outputs": [],
   "source": [
    "#\n"
   ]
  },
  {
   "cell_type": "code",
   "execution_count": 169,
   "metadata": {},
   "outputs": [],
   "source": [
    "class person:\n",
    "    # constructor\n",
    "    def __init__(self, n='none', a=0):\n",
    "        self.name = n\n",
    "        self.age = a\n",
    "    \n",
    "    # string representation\n",
    "    def __str__(self):\n",
    "        return 'I am a person: my name is: ' + self.name + ', and my age is: ' + str(self.age)"
   ]
  },
  {
   "cell_type": "code",
   "execution_count": 170,
   "metadata": {},
   "outputs": [],
   "source": [
    "p1 = person()\n",
    "p2 = person('james', 25)"
   ]
  },
  {
   "cell_type": "code",
   "execution_count": 171,
   "metadata": {},
   "outputs": [
    {
     "name": "stdout",
     "output_type": "stream",
     "text": [
      "I am a person: my name is: none, and my age is: 0\n"
     ]
    }
   ],
   "source": [
    "print(p1)"
   ]
  },
  {
   "cell_type": "markdown",
   "metadata": {},
   "source": [
    "### Numpy\n"
   ]
  },
  {
   "cell_type": "code",
   "execution_count": 172,
   "metadata": {},
   "outputs": [],
   "source": [
    "import numpy as np"
   ]
  },
  {
   "cell_type": "code",
   "execution_count": 173,
   "metadata": {},
   "outputs": [
    {
     "data": {
      "text/plain": [
       "array([0., 0., 0., 0., 0., 0., 0., 0., 0., 0.])"
      ]
     },
     "execution_count": 173,
     "metadata": {},
     "output_type": "execute_result"
    }
   ],
   "source": [
    "# creating arrays\n",
    "\n",
    "a = np.array([10,20,30,40])\n",
    "\n",
    "np.arange(2,10,.5)                  # np.arange(start, end, step)\n",
    "\n",
    "np.linspace(2,10,50)                # np.linspace(start, end, # of values)\n",
    "\n",
    "np.ones(10)\n",
    "np.zeros(10)"
   ]
  },
  {
   "cell_type": "code",
   "execution_count": 174,
   "metadata": {},
   "outputs": [],
   "source": [
    "# shape\n",
    "\n",
    "a = np.array([10,20,30,40,50,60])\n",
    "a.shape\n",
    "a.reshape(2,3)                              # creates a copy, does not reshape\n",
    "# another way of reshaping\n",
    "a.shape = [2,3]\n"
   ]
  },
  {
   "cell_type": "code",
   "execution_count": 175,
   "metadata": {},
   "outputs": [
    {
     "data": {
      "text/plain": [
       "numpy.ndarray"
      ]
     },
     "execution_count": 175,
     "metadata": {},
     "output_type": "execute_result"
    }
   ],
   "source": [
    "# array vs list\n",
    "L = [10,20,30,40,50,60,'hasan']\n",
    "a = np.array([10,20,30,40,50,60])       # cannot have more than 1 datatype\n",
    "\n",
    "# returns type of data inside array\n",
    "a.dtype\n",
    "# returns type of list/array\n",
    "type(a)\n"
   ]
  },
  {
   "cell_type": "code",
   "execution_count": 176,
   "metadata": {},
   "outputs": [],
   "source": [
    "# arithmetic operations\n",
    "# when doing operations such as +, -, /, * on a numpy array\n",
    "# it will do the operation on every item in the array\n",
    "# regular list will not do that\n",
    "# same with comparisons, only with array not lists\n",
    "\n",
    "L = [10,20,30,40,50,60]\n",
    "a1 = np.array([10,20,30,40,50,60])\n",
    "a2 = np.array([10,20,30,40,50,60])\n",
    "a3 = np.array([True, False, True])\n",
    "a4 = np.array([False, False, True])"
   ]
  },
  {
   "cell_type": "code",
   "execution_count": 177,
   "metadata": {},
   "outputs": [
    {
     "data": {
      "text/plain": [
       "array([100, 200, 300, 400, 500, 600])"
      ]
     },
     "execution_count": 177,
     "metadata": {},
     "output_type": "execute_result"
    }
   ],
   "source": [
    "a1 * 10"
   ]
  },
  {
   "cell_type": "code",
   "execution_count": 178,
   "metadata": {},
   "outputs": [
    {
     "data": {
      "text/plain": [
       "array([ 100,  400,  900, 1600, 2500, 3600])"
      ]
     },
     "execution_count": 178,
     "metadata": {},
     "output_type": "execute_result"
    }
   ],
   "source": [
    "a1+a2           # add each of the elements to the other in respective position\n",
    "a1*a2           # have to be same length"
   ]
  },
  {
   "cell_type": "code",
   "execution_count": 179,
   "metadata": {},
   "outputs": [
    {
     "data": {
      "text/plain": [
       "np.True_"
      ]
     },
     "execution_count": 179,
     "metadata": {},
     "output_type": "execute_result"
    }
   ],
   "source": [
    "# same with comparisons, only with array not lists\n",
    "\n",
    "a1 == 30\n",
    "a1 == a2\n",
    "a1 > a2\n",
    "\n",
    "# check if all values are True\n",
    "(a1 == a2).all()\n",
    "# check if any values are True\n",
    "(a1 == a2).any()"
   ]
  },
  {
   "cell_type": "code",
   "execution_count": 180,
   "metadata": {},
   "outputs": [
    {
     "data": {
      "text/plain": [
       "array([False, False,  True])"
      ]
     },
     "execution_count": 180,
     "metadata": {},
     "output_type": "execute_result"
    }
   ],
   "source": [
    "# same with logiccal operators &, ^, ~, if they contain booleans\n",
    "\n",
    "# negate all elements in a3\n",
    "~a3\n",
    "\n",
    "# does them element wise, so if like the following code\n",
    "a3&a4\n",
    "# will compare each element in the same place, and do the operation between them"
   ]
  },
  {
   "cell_type": "code",
   "execution_count": 181,
   "metadata": {},
   "outputs": [
    {
     "data": {
      "text/plain": [
       "array([1, 3, 5, 0, 2, 4])"
      ]
     },
     "execution_count": 181,
     "metadata": {},
     "output_type": "execute_result"
    }
   ],
   "source": [
    "# functions\n",
    "# np.mean(), np.median, std, var, sum, max, min, argmax, argmin, argsort\n",
    "\n",
    "# value of min value\n",
    "np.min(a1)\n",
    "# position of min value\n",
    "np.argmin(a1)\n",
    "\n",
    "# gives you positions of where they should be when sorted\n",
    "np.argsort(a1)\n",
    "\n",
    "# so in the example belowm it will give you 1 at position zero, meaning\n",
    "# that the element in position 1 in original array is the first in sorted\n",
    "a5 = np.array([100,20,300,40,500,60])\n",
    "np.argsort(a5)"
   ]
  },
  {
   "cell_type": "code",
   "execution_count": 182,
   "metadata": {},
   "outputs": [
    {
     "data": {
      "text/plain": [
       "array([[10, 20, 30],\n",
       "       [40, 50, 60]])"
      ]
     },
     "execution_count": 182,
     "metadata": {},
     "output_type": "execute_result"
    }
   ],
   "source": [
    "# indexing\n",
    "\n",
    "a = np.array([10,20,30,40,50,60]).reshape(2,3)\n",
    "a"
   ]
  },
  {
   "cell_type": "code",
   "execution_count": 183,
   "metadata": {},
   "outputs": [
    {
     "data": {
      "text/plain": [
       "np.int64(20)"
      ]
     },
     "execution_count": 183,
     "metadata": {},
     "output_type": "execute_result"
    }
   ],
   "source": [
    "# both the same for now\n",
    "a[0][1]         # a[row][col]\n",
    "a[0,1]          # a[row, col]\n",
    "\n"
   ]
  },
  {
   "cell_type": "code",
   "execution_count": 184,
   "metadata": {},
   "outputs": [
    {
     "data": {
      "text/plain": [
       "array([[ 0,  1,  2,  3,  4],\n",
       "       [ 5,  6,  7,  8,  9],\n",
       "       [10, 11, 12, 13, 14],\n",
       "       [15, 16, 17, 18, 19]])"
      ]
     },
     "execution_count": 184,
     "metadata": {},
     "output_type": "execute_result"
    }
   ],
   "source": [
    "# slicing\n",
    "a = np.arange(20).reshape(4, 5)\n",
    "a"
   ]
  },
  {
   "cell_type": "code",
   "execution_count": 185,
   "metadata": {},
   "outputs": [
    {
     "data": {
      "text/plain": [
       "array([ 0,  5, 10, 15])"
      ]
     },
     "execution_count": 185,
     "metadata": {},
     "output_type": "execute_result"
    }
   ],
   "source": [
    "a[:, 1]                 # all rows in col 1\n",
    "a[:, [1,3]]             # all rows in col 1 and 3\n",
    "a[[0,-1], :]            # all columns in first and last row\n",
    "a[:, [0,-1]]            # all rows in first and last col\n",
    "\n",
    "# usually the same but not always\n",
    "# the following 2 are not the same\n",
    "a[:][0]                 # first row\n",
    "a[:, 0]                 # all rows, first column"
   ]
  },
  {
   "cell_type": "code",
   "execution_count": null,
   "metadata": {},
   "outputs": [],
   "source": []
  }
 ],
 "metadata": {
  "kernelspec": {
   "display_name": "projectenv",
   "language": "python",
   "name": "python3"
  },
  "language_info": {
   "codemirror_mode": {
    "name": "ipython",
    "version": 3
   },
   "file_extension": ".py",
   "mimetype": "text/x-python",
   "name": "python",
   "nbconvert_exporter": "python",
   "pygments_lexer": "ipython3",
   "version": "3.10.16"
  }
 },
 "nbformat": 4,
 "nbformat_minor": 2
}
