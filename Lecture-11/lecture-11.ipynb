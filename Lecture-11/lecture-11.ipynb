{
 "cells": [
  {
   "cell_type": "code",
   "execution_count": 121,
   "metadata": {},
   "outputs": [],
   "source": [
    "from bs4 import BeautifulSoup\n",
    "import requests\n",
    "import re\n",
    "from datetime import datetime"
   ]
  },
  {
   "cell_type": "code",
   "execution_count": 122,
   "metadata": {},
   "outputs": [
    {
     "data": {
      "text/plain": [
       "\"\\nurl = 'https://www.bbc.com/'\\n\\nresponse = requests.get(url)\\ndata = response.text\\n\\nsoup = BeautifulSoup(data)\\ntext = soup.find_all('h2')\\n\\nnews = [t.text for t in soup.find_all('h2', {'class': 'sc-87075214-3 eywmDE'})]\\n\\nf = open(str(datetime.now()) + '.txt', 'w')\\nf.write('\\n'.join(news))\\nf.close()\\n\""
      ]
     },
     "execution_count": 122,
     "metadata": {},
     "output_type": "execute_result"
    }
   ],
   "source": [
    "\"\"\"\n",
    "url = 'https://www.bbc.com/'\n",
    "\n",
    "response = requests.get(url)\n",
    "data = response.text\n",
    "\n",
    "soup = BeautifulSoup(data)\n",
    "text = soup.find_all('h2')\n",
    "\n",
    "news = [t.text for t in soup.find_all('h2', {'class': 'sc-87075214-3 eywmDE'})]\n",
    "\n",
    "f = open(str(datetime.now()) + '.txt', 'w')\n",
    "f.write('\\n'.join(news))\n",
    "f.close()\n",
    "\"\"\""
   ]
  },
  {
   "cell_type": "code",
   "execution_count": 123,
   "metadata": {},
   "outputs": [],
   "source": [
    "#\n"
   ]
  },
  {
   "cell_type": "code",
   "execution_count": 124,
   "metadata": {},
   "outputs": [],
   "source": [
    "class person:\n",
    "    # constructor\n",
    "    def __init__(self, n='none', a=0):\n",
    "        self.name = n\n",
    "        self.age = a\n",
    "    \n",
    "    # string representation\n",
    "    def __str__(self):\n",
    "        return 'I am a person: my name is: ' + self.name + ', and my age is: ' + str(self.age)"
   ]
  },
  {
   "cell_type": "code",
   "execution_count": 125,
   "metadata": {},
   "outputs": [],
   "source": [
    "p1 = person()\n",
    "p2 = person('james', 25)"
   ]
  },
  {
   "cell_type": "code",
   "execution_count": 126,
   "metadata": {},
   "outputs": [
    {
     "name": "stdout",
     "output_type": "stream",
     "text": [
      "I am a person: my name is: none, and my age is: 0\n"
     ]
    }
   ],
   "source": [
    "print(p1)"
   ]
  },
  {
   "cell_type": "markdown",
   "metadata": {},
   "source": [
    "### Numpy\n"
   ]
  },
  {
   "cell_type": "code",
   "execution_count": 127,
   "metadata": {},
   "outputs": [],
   "source": [
    "import numpy as np"
   ]
  },
  {
   "cell_type": "code",
   "execution_count": 128,
   "metadata": {},
   "outputs": [
    {
     "data": {
      "text/plain": [
       "array([0., 0., 0., 0., 0., 0., 0., 0., 0., 0.])"
      ]
     },
     "execution_count": 128,
     "metadata": {},
     "output_type": "execute_result"
    }
   ],
   "source": [
    "# creating arrays\n",
    "\n",
    "a = np.array([10,20,30,40])\n",
    "\n",
    "np.arange(2,10,.5)                  # np.arange(start, end, step)\n",
    "\n",
    "np.linspace(2,10,50)                # np.linspace(start, end, # of values)\n",
    "\n",
    "np.ones(10)\n",
    "np.zeros(10)"
   ]
  },
  {
   "cell_type": "code",
   "execution_count": 129,
   "metadata": {},
   "outputs": [],
   "source": [
    "# shape\n",
    "\n",
    "a = np.array([10,20,30,40,50,60])\n",
    "a.shape\n",
    "a.reshape(2,3)                              # creates a copy, does not reshape\n",
    "# another way of reshaping\n",
    "a.shape = [2,3]\n"
   ]
  },
  {
   "cell_type": "code",
   "execution_count": 130,
   "metadata": {},
   "outputs": [
    {
     "data": {
      "text/plain": [
       "numpy.ndarray"
      ]
     },
     "execution_count": 130,
     "metadata": {},
     "output_type": "execute_result"
    }
   ],
   "source": [
    "# array vs list\n",
    "L = [10,20,30,40,50,60,'hasan']\n",
    "a = np.array([10,20,30,40,50,60])       # cannot have more than 1 datatype\n",
    "\n",
    "# returns type of data inside array\n",
    "a.dtype\n",
    "# returns type of list/array\n",
    "type(a)\n"
   ]
  },
  {
   "cell_type": "code",
   "execution_count": 131,
   "metadata": {},
   "outputs": [],
   "source": [
    "# arithmetic operations\n",
    "# when doing operations such as +, -, /, * on a numpy array\n",
    "# it will do the operation on every item in the array\n",
    "# regular list will not do that\n",
    "# same with comparisons, only with array not lists\n",
    "\n",
    "L = [10,20,30,40,50,60]\n",
    "a1 = np.array([10,20,30,40,50,60])\n",
    "a2 = np.array([10,20,30,40,50,60])\n",
    "a3 = np.array([True, False, True])\n",
    "a4 = np.array([False, False, True])"
   ]
  },
  {
   "cell_type": "code",
   "execution_count": 132,
   "metadata": {},
   "outputs": [
    {
     "data": {
      "text/plain": [
       "array([100, 200, 300, 400, 500, 600])"
      ]
     },
     "execution_count": 132,
     "metadata": {},
     "output_type": "execute_result"
    }
   ],
   "source": [
    "a1 * 10"
   ]
  },
  {
   "cell_type": "code",
   "execution_count": 133,
   "metadata": {},
   "outputs": [
    {
     "data": {
      "text/plain": [
       "array([ 100,  400,  900, 1600, 2500, 3600])"
      ]
     },
     "execution_count": 133,
     "metadata": {},
     "output_type": "execute_result"
    }
   ],
   "source": [
    "a1+a2           # add each of the elements to the other in respective position\n",
    "a1*a2           # have to be same length"
   ]
  },
  {
   "cell_type": "code",
   "execution_count": 134,
   "metadata": {},
   "outputs": [
    {
     "data": {
      "text/plain": [
       "np.True_"
      ]
     },
     "execution_count": 134,
     "metadata": {},
     "output_type": "execute_result"
    }
   ],
   "source": [
    "# same with comparisons, only with array not lists\n",
    "\n",
    "a1 == 30\n",
    "a1 == a2\n",
    "a1 > a2\n",
    "\n",
    "# check if all values are True\n",
    "(a1 == a2).all()\n",
    "# check if any values are True\n",
    "(a1 == a2).any()"
   ]
  },
  {
   "cell_type": "code",
   "execution_count": 135,
   "metadata": {},
   "outputs": [
    {
     "data": {
      "text/plain": [
       "array([False, False,  True])"
      ]
     },
     "execution_count": 135,
     "metadata": {},
     "output_type": "execute_result"
    }
   ],
   "source": [
    "# same with logiccal operators &, ^, ~, if they contain booleans\n",
    "\n",
    "# negate all elements in a3\n",
    "~a3\n",
    "\n",
    "# does them element wise, so if like the following code\n",
    "a3&a4\n",
    "# will compare each element in the same place, and do the operation between them"
   ]
  },
  {
   "cell_type": "code",
   "execution_count": 136,
   "metadata": {},
   "outputs": [],
   "source": [
    "# functions\n",
    "# np.mean(), np.median, std, var, sum\n",
    "\n"
   ]
  },
  {
   "cell_type": "code",
   "execution_count": null,
   "metadata": {},
   "outputs": [],
   "source": []
  },
  {
   "cell_type": "code",
   "execution_count": null,
   "metadata": {},
   "outputs": [],
   "source": []
  },
  {
   "cell_type": "code",
   "execution_count": null,
   "metadata": {},
   "outputs": [],
   "source": []
  },
  {
   "cell_type": "code",
   "execution_count": null,
   "metadata": {},
   "outputs": [],
   "source": []
  },
  {
   "cell_type": "code",
   "execution_count": null,
   "metadata": {},
   "outputs": [],
   "source": []
  }
 ],
 "metadata": {
  "kernelspec": {
   "display_name": "projectenv",
   "language": "python",
   "name": "python3"
  },
  "language_info": {
   "codemirror_mode": {
    "name": "ipython",
    "version": 3
   },
   "file_extension": ".py",
   "mimetype": "text/x-python",
   "name": "python",
   "nbconvert_exporter": "python",
   "pygments_lexer": "ipython3",
   "version": "3.10.16"
  }
 },
 "nbformat": 4,
 "nbformat_minor": 2
}
