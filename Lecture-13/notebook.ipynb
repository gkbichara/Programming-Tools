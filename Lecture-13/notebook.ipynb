{
 "cells": [
  {
   "cell_type": "code",
   "execution_count": 2,
   "metadata": {},
   "outputs": [],
   "source": [
    "import numpy as np"
   ]
  },
  {
   "cell_type": "code",
   "execution_count": null,
   "metadata": {},
   "outputs": [],
   "source": [
    "m1 = np.matrix([10,20,30])\n",
    "m2 = np.matrix([40,50,60])\n"
   ]
  },
  {
   "cell_type": "code",
   "execution_count": null,
   "metadata": {},
   "outputs": [],
   "source": [
    "a1 = np."
   ]
  },
  {
   "cell_type": "code",
   "execution_count": null,
   "metadata": {},
   "outputs": [],
   "source": []
  },
  {
   "cell_type": "code",
   "execution_count": null,
   "metadata": {},
   "outputs": [],
   "source": []
  },
  {
   "cell_type": "code",
   "execution_count": null,
   "metadata": {},
   "outputs": [],
   "source": []
  },
  {
   "cell_type": "code",
   "execution_count": 4,
   "metadata": {},
   "outputs": [],
   "source": [
    "### Randomization"
   ]
  },
  {
   "cell_type": "code",
   "execution_count": null,
   "metadata": {},
   "outputs": [],
   "source": []
  },
  {
   "cell_type": "code",
   "execution_count": 5,
   "metadata": {},
   "outputs": [],
   "source": [
    "### stats"
   ]
  },
  {
   "cell_type": "code",
   "execution_count": 11,
   "metadata": {},
   "outputs": [],
   "source": [
    "from scipy import stats"
   ]
  },
  {
   "cell_type": "code",
   "execution_count": 12,
   "metadata": {},
   "outputs": [
    {
     "name": "stderr",
     "output_type": "stream",
     "text": [
      "/Users/gkb/Desktop/anaconda3/envs/projectenv/lib/python3.10/site-packages/scipy/stats/_axis_nan_policy.py:430: UserWarning: `kurtosistest` p-value may be inaccurate with fewer than 20 observations; only n=9 observations were given.\n",
      "  return hypotest_fun_in(*args, **kwds)\n",
      "/Users/gkb/Desktop/anaconda3/envs/projectenv/lib/python3.10/site-packages/scipy/stats/_axis_nan_policy.py:586: UserWarning: `kurtosistest` p-value may be inaccurate with fewer than 20 observations; only n=9 observations were given.\n",
      "  res = hypotest_fun_out(*samples, **kwds)\n"
     ]
    },
    {
     "data": {
      "text/plain": [
       "KurtosistestResult(statistic=np.float64(-1.2758141570711392), pvalue=np.float64(0.20202122186329674))"
      ]
     },
     "execution_count": 12,
     "metadata": {},
     "output_type": "execute_result"
    }
   ],
   "source": [
    "data = [10,20,30,40,50,60,55,56,24]\n",
    "\n",
    "# check the histogram of the data\n",
    "stats.normaltest(data)      # check if normally distributed\n",
    "stats.skewtest(data)        # check if data is not skewed\n",
    "stats.kurtosistest(data)    # check how flat the data is "
   ]
  },
  {
   "cell_type": "code",
   "execution_count": 16,
   "metadata": {},
   "outputs": [
    {
     "data": {
      "text/plain": [
       "np.float64(38.333333333333336)"
      ]
     },
     "execution_count": 16,
     "metadata": {},
     "output_type": "execute_result"
    }
   ],
   "source": [
    "stats.mode(data)\n",
    "stats.describe(data)\n",
    "np.median(data)\n",
    "np.mean(data)"
   ]
  },
  {
   "cell_type": "code",
   "execution_count": 18,
   "metadata": {},
   "outputs": [],
   "source": [
    "### distributions"
   ]
  },
  {
   "cell_type": "code",
   "execution_count": 28,
   "metadata": {},
   "outputs": [
    {
     "data": {
      "text/plain": [
       "np.float64(2.129653370149015e-05)"
      ]
     },
     "execution_count": 28,
     "metadata": {},
     "output_type": "execute_result"
    }
   ],
   "source": [
    "# stats.norm(mean, std)\n",
    "my_dist = stats.norm(100000, 15000)\n",
    "\n",
    "my_dist.rvs(10) # give me 10 random values\n",
    "my_dist.cdf(10000) # find the prob of all values until the value given\n",
    "my_dist.pdf(90000) # prob of someone getting 90000 exactly"
   ]
  },
  {
   "cell_type": "code",
   "execution_count": 33,
   "metadata": {},
   "outputs": [
    {
     "data": {
      "text/plain": [
       "np.float64(1.499696813895631e-241)"
      ]
     },
     "execution_count": 33,
     "metadata": {},
     "output_type": "execute_result"
    }
   ],
   "source": [
    "# stats.binom(n_trials, probability)\n",
    "\n",
    "my_dist = stats.binom(800, 0.5)\n",
    "my_dist.rvs(10)\n",
    "my_dist.pmf(800) # prob of 800 people saying yes"
   ]
  },
  {
   "cell_type": "code",
   "execution_count": 34,
   "metadata": {},
   "outputs": [],
   "source": [
    "### Hypothesis Tests"
   ]
  },
  {
   "cell_type": "code",
   "execution_count": 38,
   "metadata": {},
   "outputs": [
    {
     "data": {
      "text/plain": [
       "F_onewayResult(statistic=np.float64(0.1156919954332107), pvalue=np.float64(0.8912432677923844))"
      ]
     },
     "execution_count": 38,
     "metadata": {},
     "output_type": "execute_result"
    }
   ],
   "source": [
    "# one sample t-test\n",
    "data = [10,20,30,40,50,60,55,56,24]\n",
    "stats.ttest_1samp(data, 50)\n",
    "\n",
    "# two sample t-test\n",
    "data1 = [10,20,30,40,50,60,55,56,24]\n",
    "data2 = [11,44,30,40,50,61,54,57,26]\n",
    "stats.ttest_ind(data1, data2)\n",
    "\n",
    "# ANOVA (t-test for more than 2 samples)\n",
    "data1 = [10,20,30,40,50,60,55,56,24]\n",
    "data2 = [11,44,30,40,50,61,54,57,26]\n",
    "data3 = [9,44,35,40,50,62,54,57,26]\n",
    "stats.f_oneway(data1, data2, data3)\n",
    "\n",
    "# stats.chisquare(observed, expected)       Check if there is a significant difference between expectation and observation"
   ]
  },
  {
   "cell_type": "code",
   "execution_count": null,
   "metadata": {},
   "outputs": [],
   "source": [
    "### Pandas"
   ]
  },
  {
   "cell_type": "code",
   "execution_count": 45,
   "metadata": {},
   "outputs": [],
   "source": [
    "import pandas as pd\n",
    "\n",
    "# Series\n",
    "s = pd.Series([10,20,30,40,50])\n",
    "s = pd.Series([10,20,30,40,50], index = [0,1,0,'james', 5])     # can create yort own indexes\n",
    "# all data have to be the same \n",
    "# if you insert a string all values will be strings\n",
    "# if you insert a float into a series of ints they all become floats\n",
    "s = pd.Series({0: [10,30,6,2]})"
   ]
  },
  {
   "cell_type": "code",
   "execution_count": 43,
   "metadata": {},
   "outputs": [
    {
     "data": {
      "text/plain": [
       "array([10, 20, 30, 40, 50])"
      ]
     },
     "execution_count": 43,
     "metadata": {},
     "output_type": "execute_result"
    }
   ],
   "source": [
    "s.index\n",
    "s.values"
   ]
  },
  {
   "cell_type": "code",
   "execution_count": 46,
   "metadata": {},
   "outputs": [],
   "source": [
    "### DataFrame"
   ]
  },
  {
   "cell_type": "code",
   "execution_count": 49,
   "metadata": {},
   "outputs": [],
   "source": [
    "# can create from dictionaries\n",
    "df = pd.DataFrame({'name': ['james', 'maya', 'alma'],\n",
    "               'age': [20,30,19],\n",
    "               'salary': [10000,20000,15000]})\n",
    "\n",
    "\n"
   ]
  },
  {
   "cell_type": "code",
   "execution_count": 50,
   "metadata": {},
   "outputs": [],
   "source": [
    "# can create from nested lists\n",
    "df = pd.DataFrame([['ali', 10, 4000],\n",
    "                   ['selim', 20, 24444],\n",
    "                   ['fahmy', 43, 2400320]])"
   ]
  },
  {
   "cell_type": "code",
   "execution_count": 51,
   "metadata": {},
   "outputs": [],
   "source": [
    "# will almost never create from scratch, usually just read in data\n",
    "\n",
    "# pd.read_csv('FileName.csv', sep=',', header = None, names = ['abc', 'population', 'area'])\n",
    "\n",
    "# header = None means it's all data, no header\n",
    "# if there is a header just don't write anything\n",
    "# can also assign your own names by names = []"
   ]
  },
  {
   "cell_type": "code",
   "execution_count": 54,
   "metadata": {},
   "outputs": [
    {
     "data": {
      "text/plain": [
       "<bound method NDFrame.describe of        0   1        2\n",
       "0    ali  10     4000\n",
       "1  selim  20    24444\n",
       "2  fahmy  43  2400320>"
      ]
     },
     "execution_count": 54,
     "metadata": {},
     "output_type": "execute_result"
    }
   ],
   "source": [
    "# dataframe functions\n",
    "\n",
    "df.index\n",
    "df.columns\n",
    "df.values\n",
    "\n",
    "# get the individual series by writing df.colName, as such\n",
    "\"\"\"\n",
    "df.boro\n",
    "df.area\n",
    "df.density\n",
    "\"\"\"\n",
    "\n",
    "# overview\n",
    "df.info\n",
    "df.describe"
   ]
  },
  {
   "cell_type": "code",
   "execution_count": null,
   "metadata": {},
   "outputs": [
    {
     "data": {
      "text/plain": [
       "<bound method DataFrame.reset_index of        0   1        2\n",
       "0    ali  10     4000\n",
       "1  selim  20    24444\n",
       "2  fahmy  43  2400320>"
      ]
     },
     "execution_count": 56,
     "metadata": {},
     "output_type": "execute_result"
    }
   ],
   "source": [
    "df.set_index('xyz') \n",
    "# sets one of the columns as an index\n",
    "# everytime you do this you lose all the columns you set as index\n",
    "\n",
    "df.reset_index\n",
    "# sets it to what it used to be before the reset"
   ]
  },
  {
   "cell_type": "code",
   "execution_count": null,
   "metadata": {},
   "outputs": [],
   "source": [
    "# can change all columns by \n",
    "df.columns = ['a', 'b', 'c']\n",
    "\n",
    "# or can change one specific one by\n",
    "df.columns = df.columns.str.replace('pop', 'population') # changes pop to population"
   ]
  },
  {
   "cell_type": "code",
   "execution_count": null,
   "metadata": {},
   "outputs": [],
   "source": [
    "# delete a column/row\n",
    "# changes not applied to df directly unless instruced explicitly\n",
    "df.drop([0,3], axis = 0)\n",
    "df.drop('area', axis = 1)\n",
    "# to delete in df\n",
    "df.drop('area', axis = 1, inplace = true)\n",
    "\n",
    "\n",
    "# this one also changes in place, not recommended\n",
    "del "
   ]
  },
  {
   "cell_type": "code",
   "execution_count": 57,
   "metadata": {},
   "outputs": [
    {
     "data": {
      "text/plain": [
       "'\\ndf[col_name][row_name]\\ndf.loc[row_name, col_name]\\ndf.iloc[row_id, col_id]\\n'"
      ]
     },
     "execution_count": 57,
     "metadata": {},
     "output_type": "execute_result"
    }
   ],
   "source": [
    "# select data\n",
    "\n",
    "\"\"\"\n",
    "df[col_name][row_name]\n",
    "df.loc[row_name, col_name]\n",
    "df.iloc[row_id, col_id]\n",
    "\"\"\""
   ]
  },
  {
   "cell_type": "code",
   "execution_count": null,
   "metadata": {},
   "outputs": [],
   "source": [
    "df['area'][4]           # gives you the area of the row with index name 4\n",
    "\n",
    "# if boroughs were the index\n",
    "df['area']['Manhattan']"
   ]
  }
 ],
 "metadata": {
  "kernelspec": {
   "display_name": "projectenv",
   "language": "python",
   "name": "python3"
  },
  "language_info": {
   "codemirror_mode": {
    "name": "ipython",
    "version": 3
   },
   "file_extension": ".py",
   "mimetype": "text/x-python",
   "name": "python",
   "nbconvert_exporter": "python",
   "pygments_lexer": "ipython3",
   "version": "3.10.16"
  }
 },
 "nbformat": 4,
 "nbformat_minor": 2
}
