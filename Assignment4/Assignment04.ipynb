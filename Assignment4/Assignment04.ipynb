{
 "cells": [
  {
   "cell_type": "markdown",
   "metadata": {},
   "source": [
    "## Question-1"
   ]
  },
  {
   "cell_type": "markdown",
   "metadata": {},
   "source": [
    "In this question, we will use the csv file **bank.csv**. \n",
    "- a. Read it into a data frame, call it `df`. (Import the packages you think you need).\n",
    "- b. Drop the following columns:\n",
    "    ['default','poutcome','y','housing','contact','day','month','duration','campaign','pdays','previous']"
   ]
  },
  {
   "cell_type": "code",
   "execution_count": 1,
   "metadata": {
    "scrolled": true
   },
   "outputs": [],
   "source": [
    "#### (a) Your code here\n",
    "import pandas as pd\n",
    "import numpy as np\n",
    "\n",
    "df = pd.read_csv('bank.csv', sep=';')"
   ]
  },
  {
   "cell_type": "code",
   "execution_count": 2,
   "metadata": {},
   "outputs": [],
   "source": [
    "#### (b) Your code here\n",
    "\n",
    "df = df.drop(['default','poutcome','y','housing','contact','day','month','duration','campaign','pdays','previous'], axis = 1)\n",
    "\n"
   ]
  },
  {
   "cell_type": "markdown",
   "metadata": {},
   "source": [
    "## Question-2\n",
    "Try to discover this data:\n",
    "- a. Find the number of rows and columns.\n",
    "- b. Find the data type of each one of the columns.\n",
    "- c. Find the total number of missing values and the number of missing values in each column if any (Note that \"unknown\" is considerd as missing value).\n",
    "- d. Replace all missing values with the most common value in each columns \n",
    "- e. Find all unique values of each categorical column.\n",
    "- f. Find the mean, min, max of each numerical column."
   ]
  },
  {
   "cell_type": "code",
   "execution_count": 3,
   "metadata": {},
   "outputs": [
    {
     "name": "stdout",
     "output_type": "stream",
     "text": [
      "Rows: 45211 Columns: 6\n"
     ]
    }
   ],
   "source": [
    "#### (a) Your code here\n",
    "rows, columns = df.shape\n",
    "\n",
    "print(\"Rows:\", rows, \"Columns:\", columns)\n"
   ]
  },
  {
   "cell_type": "code",
   "execution_count": 4,
   "metadata": {},
   "outputs": [
    {
     "data": {
      "text/plain": [
       "age           int64\n",
       "job          object\n",
       "marital      object\n",
       "education    object\n",
       "balance       int64\n",
       "loan         object\n",
       "dtype: object"
      ]
     },
     "execution_count": 4,
     "metadata": {},
     "output_type": "execute_result"
    }
   ],
   "source": [
    "#### (b) Your code here\n",
    "df.dtypes"
   ]
  },
  {
   "cell_type": "code",
   "execution_count": 5,
   "metadata": {},
   "outputs": [],
   "source": [
    "#### (c) Your code here\n",
    "df = df.replace(\"unknown\", pd.NA)\n",
    "\n",
    "total = df.isna().sum().sum()\n",
    "perCol = df.isna().sum()"
   ]
  },
  {
   "cell_type": "code",
   "execution_count": 6,
   "metadata": {},
   "outputs": [],
   "source": [
    "#### (d) Your code here\n",
    "for col in df.columns:\n",
    "    df[col] = df[col].fillna(df[col].mode()[0])"
   ]
  },
  {
   "cell_type": "code",
   "execution_count": 7,
   "metadata": {},
   "outputs": [
    {
     "name": "stdout",
     "output_type": "stream",
     "text": [
      "['management' 'technician' 'entrepreneur' 'blue-collar' 'retired' 'admin.'\n",
      " 'services' 'self-employed' 'unemployed' 'housemaid' 'student']\n",
      "['married' 'single' 'divorced']\n",
      "['tertiary' 'secondary' 'primary']\n",
      "['no' 'yes']\n"
     ]
    }
   ],
   "source": [
    "#### (e) Your code here\n",
    "for col in ['job', 'marital', 'education', 'loan']:\n",
    "    print(df[col].unique())"
   ]
  },
  {
   "cell_type": "code",
   "execution_count": 8,
   "metadata": {},
   "outputs": [
    {
     "name": "stdout",
     "output_type": "stream",
     "text": [
      "Age:\n",
      "Max: 95 Min: 18 Mean: 40.93621021432837\n",
      "Balance:\n",
      "Max: 102127 Min: -8019 Mean: 1362.2720576850766\n"
     ]
    }
   ],
   "source": [
    "#### (f) Your code here\n",
    "for col in ['age', 'balance']:\n",
    "    print(col.title() + \":\")\n",
    "    print(\"Max:\", df[col].max(), \"Min:\", df[col].min(), \"Mean:\", df[col].mean())"
   ]
  },
  {
   "cell_type": "markdown",
   "metadata": {},
   "source": [
    "## Question-3\n",
    "\n",
    "- a. We learned that there is one more record. Add the information of the following record to the DataFrame:\n",
    "        0,42,management,married,secondary,3266,no\n",
    "- b. Verify that the new record was added to the end of the dataframe\n",
    "- c. Drop all rows where education is primary.\n",
    "- d. Reset the index and remove the new created column (index)\n"
   ]
  },
  {
   "cell_type": "code",
   "execution_count": 9,
   "metadata": {
    "scrolled": true
   },
   "outputs": [
    {
     "data": {
      "application/vnd.microsoft.datawrangler.viewer.v0+json": {
       "columns": [
        {
         "name": "index",
         "rawType": "int64",
         "type": "integer"
        },
        {
         "name": "age",
         "rawType": "float64",
         "type": "float"
        },
        {
         "name": "job",
         "rawType": "object",
         "type": "string"
        },
        {
         "name": "marital",
         "rawType": "object",
         "type": "string"
        },
        {
         "name": "education",
         "rawType": "object",
         "type": "string"
        },
        {
         "name": "balance",
         "rawType": "float64",
         "type": "float"
        },
        {
         "name": "loan",
         "rawType": "object",
         "type": "string"
        }
       ],
       "conversionMethod": "pd.DataFrame",
       "ref": "655a6248-62fb-49c5-a30f-06fe6d31327b",
       "rows": [
        [
         "0",
         "58.0",
         "management",
         "married",
         "tertiary",
         "2143.0",
         "no"
        ],
        [
         "1",
         "44.0",
         "technician",
         "single",
         "secondary",
         "29.0",
         "no"
        ],
        [
         "2",
         "33.0",
         "entrepreneur",
         "married",
         "secondary",
         "2.0",
         "yes"
        ],
        [
         "3",
         "47.0",
         "blue-collar",
         "married",
         "secondary",
         "1506.0",
         "no"
        ],
        [
         "4",
         "33.0",
         "blue-collar",
         "single",
         "secondary",
         "1.0",
         "no"
        ],
        [
         "5",
         "35.0",
         "management",
         "married",
         "tertiary",
         "231.0",
         "no"
        ],
        [
         "6",
         "28.0",
         "management",
         "single",
         "tertiary",
         "447.0",
         "yes"
        ],
        [
         "7",
         "42.0",
         "entrepreneur",
         "divorced",
         "tertiary",
         "2.0",
         "no"
        ],
        [
         "8",
         "58.0",
         "retired",
         "married",
         "primary",
         "121.0",
         "no"
        ],
        [
         "9",
         "43.0",
         "technician",
         "single",
         "secondary",
         "593.0",
         "no"
        ],
        [
         "10",
         "41.0",
         "admin.",
         "divorced",
         "secondary",
         "270.0",
         "no"
        ],
        [
         "11",
         "29.0",
         "admin.",
         "single",
         "secondary",
         "390.0",
         "no"
        ],
        [
         "12",
         "53.0",
         "technician",
         "married",
         "secondary",
         "6.0",
         "no"
        ],
        [
         "13",
         "58.0",
         "technician",
         "married",
         "secondary",
         "71.0",
         "no"
        ],
        [
         "14",
         "57.0",
         "services",
         "married",
         "secondary",
         "162.0",
         "no"
        ],
        [
         "15",
         "51.0",
         "retired",
         "married",
         "primary",
         "229.0",
         "no"
        ],
        [
         "16",
         "45.0",
         "admin.",
         "single",
         "secondary",
         "13.0",
         "no"
        ],
        [
         "17",
         "57.0",
         "blue-collar",
         "married",
         "primary",
         "52.0",
         "no"
        ],
        [
         "18",
         "60.0",
         "retired",
         "married",
         "primary",
         "60.0",
         "no"
        ],
        [
         "19",
         "33.0",
         "services",
         "married",
         "secondary",
         "0.0",
         "no"
        ],
        [
         "20",
         "28.0",
         "blue-collar",
         "married",
         "secondary",
         "723.0",
         "yes"
        ],
        [
         "21",
         "56.0",
         "management",
         "married",
         "tertiary",
         "779.0",
         "no"
        ],
        [
         "22",
         "32.0",
         "blue-collar",
         "single",
         "primary",
         "23.0",
         "yes"
        ],
        [
         "23",
         "25.0",
         "services",
         "married",
         "secondary",
         "50.0",
         "no"
        ],
        [
         "24",
         "40.0",
         "retired",
         "married",
         "primary",
         "0.0",
         "yes"
        ],
        [
         "25",
         "44.0",
         "admin.",
         "married",
         "secondary",
         "-372.0",
         "no"
        ],
        [
         "26",
         "39.0",
         "management",
         "single",
         "tertiary",
         "255.0",
         "no"
        ],
        [
         "27",
         "52.0",
         "entrepreneur",
         "married",
         "secondary",
         "113.0",
         "yes"
        ],
        [
         "28",
         "46.0",
         "management",
         "single",
         "secondary",
         "-246.0",
         "no"
        ],
        [
         "29",
         "36.0",
         "technician",
         "single",
         "secondary",
         "265.0",
         "yes"
        ],
        [
         "30",
         "57.0",
         "technician",
         "married",
         "secondary",
         "839.0",
         "yes"
        ],
        [
         "31",
         "49.0",
         "management",
         "married",
         "tertiary",
         "378.0",
         "no"
        ],
        [
         "32",
         "60.0",
         "admin.",
         "married",
         "secondary",
         "39.0",
         "yes"
        ],
        [
         "33",
         "59.0",
         "blue-collar",
         "married",
         "secondary",
         "0.0",
         "no"
        ],
        [
         "34",
         "51.0",
         "management",
         "married",
         "tertiary",
         "10635.0",
         "no"
        ],
        [
         "35",
         "57.0",
         "technician",
         "divorced",
         "secondary",
         "63.0",
         "no"
        ],
        [
         "36",
         "25.0",
         "blue-collar",
         "married",
         "secondary",
         "-7.0",
         "no"
        ],
        [
         "37",
         "53.0",
         "technician",
         "married",
         "secondary",
         "-3.0",
         "no"
        ],
        [
         "38",
         "36.0",
         "admin.",
         "divorced",
         "secondary",
         "506.0",
         "no"
        ],
        [
         "39",
         "37.0",
         "admin.",
         "single",
         "secondary",
         "0.0",
         "no"
        ],
        [
         "40",
         "44.0",
         "services",
         "divorced",
         "secondary",
         "2586.0",
         "no"
        ],
        [
         "41",
         "50.0",
         "management",
         "married",
         "secondary",
         "49.0",
         "no"
        ],
        [
         "42",
         "60.0",
         "blue-collar",
         "married",
         "secondary",
         "104.0",
         "no"
        ],
        [
         "43",
         "54.0",
         "retired",
         "married",
         "secondary",
         "529.0",
         "no"
        ],
        [
         "44",
         "58.0",
         "retired",
         "married",
         "secondary",
         "96.0",
         "no"
        ],
        [
         "45",
         "36.0",
         "admin.",
         "single",
         "primary",
         "-171.0",
         "no"
        ],
        [
         "46",
         "58.0",
         "self-employed",
         "married",
         "tertiary",
         "-364.0",
         "no"
        ],
        [
         "47",
         "44.0",
         "technician",
         "married",
         "secondary",
         "0.0",
         "no"
        ],
        [
         "48",
         "55.0",
         "technician",
         "divorced",
         "secondary",
         "0.0",
         "no"
        ],
        [
         "49",
         "29.0",
         "management",
         "single",
         "tertiary",
         "0.0",
         "no"
        ]
       ],
       "shape": {
        "columns": 6,
        "rows": 45212
       }
      },
      "text/html": [
       "<div>\n",
       "<style scoped>\n",
       "    .dataframe tbody tr th:only-of-type {\n",
       "        vertical-align: middle;\n",
       "    }\n",
       "\n",
       "    .dataframe tbody tr th {\n",
       "        vertical-align: top;\n",
       "    }\n",
       "\n",
       "    .dataframe thead th {\n",
       "        text-align: right;\n",
       "    }\n",
       "</style>\n",
       "<table border=\"1\" class=\"dataframe\">\n",
       "  <thead>\n",
       "    <tr style=\"text-align: right;\">\n",
       "      <th></th>\n",
       "      <th>age</th>\n",
       "      <th>job</th>\n",
       "      <th>marital</th>\n",
       "      <th>education</th>\n",
       "      <th>balance</th>\n",
       "      <th>loan</th>\n",
       "    </tr>\n",
       "  </thead>\n",
       "  <tbody>\n",
       "    <tr>\n",
       "      <th>0</th>\n",
       "      <td>58.0</td>\n",
       "      <td>management</td>\n",
       "      <td>married</td>\n",
       "      <td>tertiary</td>\n",
       "      <td>2143.0</td>\n",
       "      <td>no</td>\n",
       "    </tr>\n",
       "    <tr>\n",
       "      <th>1</th>\n",
       "      <td>44.0</td>\n",
       "      <td>technician</td>\n",
       "      <td>single</td>\n",
       "      <td>secondary</td>\n",
       "      <td>29.0</td>\n",
       "      <td>no</td>\n",
       "    </tr>\n",
       "    <tr>\n",
       "      <th>2</th>\n",
       "      <td>33.0</td>\n",
       "      <td>entrepreneur</td>\n",
       "      <td>married</td>\n",
       "      <td>secondary</td>\n",
       "      <td>2.0</td>\n",
       "      <td>yes</td>\n",
       "    </tr>\n",
       "    <tr>\n",
       "      <th>3</th>\n",
       "      <td>47.0</td>\n",
       "      <td>blue-collar</td>\n",
       "      <td>married</td>\n",
       "      <td>secondary</td>\n",
       "      <td>1506.0</td>\n",
       "      <td>no</td>\n",
       "    </tr>\n",
       "    <tr>\n",
       "      <th>4</th>\n",
       "      <td>33.0</td>\n",
       "      <td>blue-collar</td>\n",
       "      <td>single</td>\n",
       "      <td>secondary</td>\n",
       "      <td>1.0</td>\n",
       "      <td>no</td>\n",
       "    </tr>\n",
       "    <tr>\n",
       "      <th>...</th>\n",
       "      <td>...</td>\n",
       "      <td>...</td>\n",
       "      <td>...</td>\n",
       "      <td>...</td>\n",
       "      <td>...</td>\n",
       "      <td>...</td>\n",
       "    </tr>\n",
       "    <tr>\n",
       "      <th>45207</th>\n",
       "      <td>71.0</td>\n",
       "      <td>retired</td>\n",
       "      <td>divorced</td>\n",
       "      <td>primary</td>\n",
       "      <td>1729.0</td>\n",
       "      <td>no</td>\n",
       "    </tr>\n",
       "    <tr>\n",
       "      <th>45208</th>\n",
       "      <td>72.0</td>\n",
       "      <td>retired</td>\n",
       "      <td>married</td>\n",
       "      <td>secondary</td>\n",
       "      <td>5715.0</td>\n",
       "      <td>no</td>\n",
       "    </tr>\n",
       "    <tr>\n",
       "      <th>45209</th>\n",
       "      <td>57.0</td>\n",
       "      <td>blue-collar</td>\n",
       "      <td>married</td>\n",
       "      <td>secondary</td>\n",
       "      <td>668.0</td>\n",
       "      <td>no</td>\n",
       "    </tr>\n",
       "    <tr>\n",
       "      <th>45210</th>\n",
       "      <td>37.0</td>\n",
       "      <td>entrepreneur</td>\n",
       "      <td>married</td>\n",
       "      <td>secondary</td>\n",
       "      <td>2971.0</td>\n",
       "      <td>no</td>\n",
       "    </tr>\n",
       "    <tr>\n",
       "      <th>45211</th>\n",
       "      <td>42.0</td>\n",
       "      <td>management</td>\n",
       "      <td>married</td>\n",
       "      <td>secondary</td>\n",
       "      <td>3266.0</td>\n",
       "      <td>no</td>\n",
       "    </tr>\n",
       "  </tbody>\n",
       "</table>\n",
       "<p>45212 rows × 6 columns</p>\n",
       "</div>"
      ],
      "text/plain": [
       "        age           job   marital  education  balance loan\n",
       "0      58.0    management   married   tertiary   2143.0   no\n",
       "1      44.0    technician    single  secondary     29.0   no\n",
       "2      33.0  entrepreneur   married  secondary      2.0  yes\n",
       "3      47.0   blue-collar   married  secondary   1506.0   no\n",
       "4      33.0   blue-collar    single  secondary      1.0   no\n",
       "...     ...           ...       ...        ...      ...  ...\n",
       "45207  71.0       retired  divorced    primary   1729.0   no\n",
       "45208  72.0       retired   married  secondary   5715.0   no\n",
       "45209  57.0   blue-collar   married  secondary    668.0   no\n",
       "45210  37.0  entrepreneur   married  secondary   2971.0   no\n",
       "45211  42.0    management   married  secondary   3266.0   no\n",
       "\n",
       "[45212 rows x 6 columns]"
      ]
     },
     "execution_count": 9,
     "metadata": {},
     "output_type": "execute_result"
    }
   ],
   "source": [
    "#### (a) Your code here\n",
    "\n",
    "needed = '42,management,married,secondary,3266,no'\n",
    "adding = needed.split(',')\n",
    "adding[0] = float(adding[0])\n",
    "adding[-2] = float(adding[-2])\n",
    "\n",
    "\n",
    "df.loc[len(df)] = adding\n",
    "\n",
    "\n",
    "df\n"
   ]
  },
  {
   "cell_type": "code",
   "execution_count": 10,
   "metadata": {},
   "outputs": [
    {
     "data": {
      "text/plain": [
       "age                42.0\n",
       "job          management\n",
       "marital         married\n",
       "education     secondary\n",
       "balance          3266.0\n",
       "loan                 no\n",
       "Name: 45211, dtype: object"
      ]
     },
     "execution_count": 10,
     "metadata": {},
     "output_type": "execute_result"
    }
   ],
   "source": [
    "#### (b) Your code here\n",
    "\n",
    "df.iloc[-1, :]\n"
   ]
  },
  {
   "cell_type": "code",
   "execution_count": 11,
   "metadata": {},
   "outputs": [],
   "source": [
    "#### (c) Your code here\n",
    "\n",
    "df = df.loc[df['education'] != 'primary']"
   ]
  },
  {
   "cell_type": "code",
   "execution_count": 12,
   "metadata": {
    "scrolled": true
   },
   "outputs": [
    {
     "data": {
      "application/vnd.microsoft.datawrangler.viewer.v0+json": {
       "columns": [
        {
         "name": "index",
         "rawType": "int64",
         "type": "integer"
        },
        {
         "name": "age",
         "rawType": "float64",
         "type": "float"
        },
        {
         "name": "job",
         "rawType": "object",
         "type": "string"
        },
        {
         "name": "marital",
         "rawType": "object",
         "type": "string"
        },
        {
         "name": "education",
         "rawType": "object",
         "type": "string"
        },
        {
         "name": "balance",
         "rawType": "float64",
         "type": "float"
        },
        {
         "name": "loan",
         "rawType": "object",
         "type": "string"
        }
       ],
       "conversionMethod": "pd.DataFrame",
       "ref": "7cf7a945-2022-417e-a03d-c1e3fc4ad719",
       "rows": [
        [
         "0",
         "58.0",
         "management",
         "married",
         "tertiary",
         "2143.0",
         "no"
        ],
        [
         "1",
         "44.0",
         "technician",
         "single",
         "secondary",
         "29.0",
         "no"
        ],
        [
         "2",
         "33.0",
         "entrepreneur",
         "married",
         "secondary",
         "2.0",
         "yes"
        ],
        [
         "3",
         "47.0",
         "blue-collar",
         "married",
         "secondary",
         "1506.0",
         "no"
        ],
        [
         "4",
         "33.0",
         "blue-collar",
         "single",
         "secondary",
         "1.0",
         "no"
        ],
        [
         "5",
         "35.0",
         "management",
         "married",
         "tertiary",
         "231.0",
         "no"
        ],
        [
         "6",
         "28.0",
         "management",
         "single",
         "tertiary",
         "447.0",
         "yes"
        ],
        [
         "7",
         "42.0",
         "entrepreneur",
         "divorced",
         "tertiary",
         "2.0",
         "no"
        ],
        [
         "9",
         "43.0",
         "technician",
         "single",
         "secondary",
         "593.0",
         "no"
        ],
        [
         "10",
         "41.0",
         "admin.",
         "divorced",
         "secondary",
         "270.0",
         "no"
        ],
        [
         "11",
         "29.0",
         "admin.",
         "single",
         "secondary",
         "390.0",
         "no"
        ],
        [
         "12",
         "53.0",
         "technician",
         "married",
         "secondary",
         "6.0",
         "no"
        ],
        [
         "13",
         "58.0",
         "technician",
         "married",
         "secondary",
         "71.0",
         "no"
        ],
        [
         "14",
         "57.0",
         "services",
         "married",
         "secondary",
         "162.0",
         "no"
        ],
        [
         "16",
         "45.0",
         "admin.",
         "single",
         "secondary",
         "13.0",
         "no"
        ],
        [
         "19",
         "33.0",
         "services",
         "married",
         "secondary",
         "0.0",
         "no"
        ],
        [
         "20",
         "28.0",
         "blue-collar",
         "married",
         "secondary",
         "723.0",
         "yes"
        ],
        [
         "21",
         "56.0",
         "management",
         "married",
         "tertiary",
         "779.0",
         "no"
        ],
        [
         "23",
         "25.0",
         "services",
         "married",
         "secondary",
         "50.0",
         "no"
        ],
        [
         "25",
         "44.0",
         "admin.",
         "married",
         "secondary",
         "-372.0",
         "no"
        ],
        [
         "26",
         "39.0",
         "management",
         "single",
         "tertiary",
         "255.0",
         "no"
        ],
        [
         "27",
         "52.0",
         "entrepreneur",
         "married",
         "secondary",
         "113.0",
         "yes"
        ],
        [
         "28",
         "46.0",
         "management",
         "single",
         "secondary",
         "-246.0",
         "no"
        ],
        [
         "29",
         "36.0",
         "technician",
         "single",
         "secondary",
         "265.0",
         "yes"
        ],
        [
         "30",
         "57.0",
         "technician",
         "married",
         "secondary",
         "839.0",
         "yes"
        ],
        [
         "31",
         "49.0",
         "management",
         "married",
         "tertiary",
         "378.0",
         "no"
        ],
        [
         "32",
         "60.0",
         "admin.",
         "married",
         "secondary",
         "39.0",
         "yes"
        ],
        [
         "33",
         "59.0",
         "blue-collar",
         "married",
         "secondary",
         "0.0",
         "no"
        ],
        [
         "34",
         "51.0",
         "management",
         "married",
         "tertiary",
         "10635.0",
         "no"
        ],
        [
         "35",
         "57.0",
         "technician",
         "divorced",
         "secondary",
         "63.0",
         "no"
        ],
        [
         "36",
         "25.0",
         "blue-collar",
         "married",
         "secondary",
         "-7.0",
         "no"
        ],
        [
         "37",
         "53.0",
         "technician",
         "married",
         "secondary",
         "-3.0",
         "no"
        ],
        [
         "38",
         "36.0",
         "admin.",
         "divorced",
         "secondary",
         "506.0",
         "no"
        ],
        [
         "39",
         "37.0",
         "admin.",
         "single",
         "secondary",
         "0.0",
         "no"
        ],
        [
         "40",
         "44.0",
         "services",
         "divorced",
         "secondary",
         "2586.0",
         "no"
        ],
        [
         "41",
         "50.0",
         "management",
         "married",
         "secondary",
         "49.0",
         "no"
        ],
        [
         "42",
         "60.0",
         "blue-collar",
         "married",
         "secondary",
         "104.0",
         "no"
        ],
        [
         "43",
         "54.0",
         "retired",
         "married",
         "secondary",
         "529.0",
         "no"
        ],
        [
         "44",
         "58.0",
         "retired",
         "married",
         "secondary",
         "96.0",
         "no"
        ],
        [
         "46",
         "58.0",
         "self-employed",
         "married",
         "tertiary",
         "-364.0",
         "no"
        ],
        [
         "47",
         "44.0",
         "technician",
         "married",
         "secondary",
         "0.0",
         "no"
        ],
        [
         "48",
         "55.0",
         "technician",
         "divorced",
         "secondary",
         "0.0",
         "no"
        ],
        [
         "49",
         "29.0",
         "management",
         "single",
         "tertiary",
         "0.0",
         "no"
        ],
        [
         "50",
         "54.0",
         "blue-collar",
         "married",
         "secondary",
         "1291.0",
         "no"
        ],
        [
         "51",
         "48.0",
         "management",
         "divorced",
         "tertiary",
         "-244.0",
         "no"
        ],
        [
         "52",
         "32.0",
         "management",
         "married",
         "tertiary",
         "0.0",
         "no"
        ],
        [
         "53",
         "42.0",
         "admin.",
         "single",
         "secondary",
         "-76.0",
         "no"
        ],
        [
         "54",
         "24.0",
         "technician",
         "single",
         "secondary",
         "-103.0",
         "yes"
        ],
        [
         "55",
         "38.0",
         "entrepreneur",
         "single",
         "tertiary",
         "243.0",
         "yes"
        ],
        [
         "56",
         "38.0",
         "management",
         "single",
         "tertiary",
         "424.0",
         "no"
        ]
       ],
       "shape": {
        "columns": 6,
        "rows": 38361
       }
      },
      "text/html": [
       "<div>\n",
       "<style scoped>\n",
       "    .dataframe tbody tr th:only-of-type {\n",
       "        vertical-align: middle;\n",
       "    }\n",
       "\n",
       "    .dataframe tbody tr th {\n",
       "        vertical-align: top;\n",
       "    }\n",
       "\n",
       "    .dataframe thead th {\n",
       "        text-align: right;\n",
       "    }\n",
       "</style>\n",
       "<table border=\"1\" class=\"dataframe\">\n",
       "  <thead>\n",
       "    <tr style=\"text-align: right;\">\n",
       "      <th></th>\n",
       "      <th>age</th>\n",
       "      <th>job</th>\n",
       "      <th>marital</th>\n",
       "      <th>education</th>\n",
       "      <th>balance</th>\n",
       "      <th>loan</th>\n",
       "    </tr>\n",
       "  </thead>\n",
       "  <tbody>\n",
       "    <tr>\n",
       "      <th>0</th>\n",
       "      <td>58.0</td>\n",
       "      <td>management</td>\n",
       "      <td>married</td>\n",
       "      <td>tertiary</td>\n",
       "      <td>2143.0</td>\n",
       "      <td>no</td>\n",
       "    </tr>\n",
       "    <tr>\n",
       "      <th>1</th>\n",
       "      <td>44.0</td>\n",
       "      <td>technician</td>\n",
       "      <td>single</td>\n",
       "      <td>secondary</td>\n",
       "      <td>29.0</td>\n",
       "      <td>no</td>\n",
       "    </tr>\n",
       "    <tr>\n",
       "      <th>2</th>\n",
       "      <td>33.0</td>\n",
       "      <td>entrepreneur</td>\n",
       "      <td>married</td>\n",
       "      <td>secondary</td>\n",
       "      <td>2.0</td>\n",
       "      <td>yes</td>\n",
       "    </tr>\n",
       "    <tr>\n",
       "      <th>3</th>\n",
       "      <td>47.0</td>\n",
       "      <td>blue-collar</td>\n",
       "      <td>married</td>\n",
       "      <td>secondary</td>\n",
       "      <td>1506.0</td>\n",
       "      <td>no</td>\n",
       "    </tr>\n",
       "    <tr>\n",
       "      <th>4</th>\n",
       "      <td>33.0</td>\n",
       "      <td>blue-collar</td>\n",
       "      <td>single</td>\n",
       "      <td>secondary</td>\n",
       "      <td>1.0</td>\n",
       "      <td>no</td>\n",
       "    </tr>\n",
       "    <tr>\n",
       "      <th>...</th>\n",
       "      <td>...</td>\n",
       "      <td>...</td>\n",
       "      <td>...</td>\n",
       "      <td>...</td>\n",
       "      <td>...</td>\n",
       "      <td>...</td>\n",
       "    </tr>\n",
       "    <tr>\n",
       "      <th>45206</th>\n",
       "      <td>51.0</td>\n",
       "      <td>technician</td>\n",
       "      <td>married</td>\n",
       "      <td>tertiary</td>\n",
       "      <td>825.0</td>\n",
       "      <td>no</td>\n",
       "    </tr>\n",
       "    <tr>\n",
       "      <th>45208</th>\n",
       "      <td>72.0</td>\n",
       "      <td>retired</td>\n",
       "      <td>married</td>\n",
       "      <td>secondary</td>\n",
       "      <td>5715.0</td>\n",
       "      <td>no</td>\n",
       "    </tr>\n",
       "    <tr>\n",
       "      <th>45209</th>\n",
       "      <td>57.0</td>\n",
       "      <td>blue-collar</td>\n",
       "      <td>married</td>\n",
       "      <td>secondary</td>\n",
       "      <td>668.0</td>\n",
       "      <td>no</td>\n",
       "    </tr>\n",
       "    <tr>\n",
       "      <th>45210</th>\n",
       "      <td>37.0</td>\n",
       "      <td>entrepreneur</td>\n",
       "      <td>married</td>\n",
       "      <td>secondary</td>\n",
       "      <td>2971.0</td>\n",
       "      <td>no</td>\n",
       "    </tr>\n",
       "    <tr>\n",
       "      <th>45211</th>\n",
       "      <td>42.0</td>\n",
       "      <td>management</td>\n",
       "      <td>married</td>\n",
       "      <td>secondary</td>\n",
       "      <td>3266.0</td>\n",
       "      <td>no</td>\n",
       "    </tr>\n",
       "  </tbody>\n",
       "</table>\n",
       "<p>38361 rows × 6 columns</p>\n",
       "</div>"
      ],
      "text/plain": [
       "        age           job  marital  education  balance loan\n",
       "0      58.0    management  married   tertiary   2143.0   no\n",
       "1      44.0    technician   single  secondary     29.0   no\n",
       "2      33.0  entrepreneur  married  secondary      2.0  yes\n",
       "3      47.0   blue-collar  married  secondary   1506.0   no\n",
       "4      33.0   blue-collar   single  secondary      1.0   no\n",
       "...     ...           ...      ...        ...      ...  ...\n",
       "45206  51.0    technician  married   tertiary    825.0   no\n",
       "45208  72.0       retired  married  secondary   5715.0   no\n",
       "45209  57.0   blue-collar  married  secondary    668.0   no\n",
       "45210  37.0  entrepreneur  married  secondary   2971.0   no\n",
       "45211  42.0    management  married  secondary   3266.0   no\n",
       "\n",
       "[38361 rows x 6 columns]"
      ]
     },
     "execution_count": 12,
     "metadata": {},
     "output_type": "execute_result"
    }
   ],
   "source": [
    "#### (d) Your code here\n",
    "\n",
    "df.reset_index()\n",
    "df"
   ]
  },
  {
   "cell_type": "markdown",
   "metadata": {},
   "source": [
    "## Question-4\n",
    "\n",
    "- a. Find the number of people of 'secondary' education level.\n",
    "- b. Compare between the average of the balance of married and single people\n",
    "- c. Find the mean and the standard deviation of the balance of each education level.\n",
    "- d. Find the mean and the standard deviation of the balance of each job.\n",
    "- e. What is the average balance for different education groups and marital status?\n",
    "- f. Compare between the number of people who had loan (married vs single)\n",
    "- g. Which job has the lowest mean balance?\n",
    "- h. Which job has the highest number of loans?\n"
   ]
  },
  {
   "cell_type": "code",
   "execution_count": 13,
   "metadata": {},
   "outputs": [
    {
     "data": {
      "text/plain": [
       "25060"
      ]
     },
     "execution_count": 13,
     "metadata": {},
     "output_type": "execute_result"
    }
   ],
   "source": [
    "#### (a) Your code here\n",
    "\n",
    "df.loc[df['education'] == 'secondary'].shape[0]"
   ]
  },
  {
   "cell_type": "code",
   "execution_count": 14,
   "metadata": {},
   "outputs": [
    {
     "data": {
      "application/vnd.microsoft.datawrangler.viewer.v0+json": {
       "columns": [
        {
         "name": "marital",
         "rawType": "object",
         "type": "string"
        },
        {
         "name": "balance",
         "rawType": "float64",
         "type": "float"
        }
       ],
       "conversionMethod": "pd.DataFrame",
       "ref": "d055e5ae-1a6f-484d-aa6d-74f3d2ac6f82",
       "rows": [
        [
         "divorced",
         "1185.825364758698"
        ],
        [
         "married",
         "1459.2657836041694"
        ],
        [
         "single",
         "1313.665745162101"
        ]
       ],
       "shape": {
        "columns": 1,
        "rows": 3
       }
      },
      "text/html": [
       "<div>\n",
       "<style scoped>\n",
       "    .dataframe tbody tr th:only-of-type {\n",
       "        vertical-align: middle;\n",
       "    }\n",
       "\n",
       "    .dataframe tbody tr th {\n",
       "        vertical-align: top;\n",
       "    }\n",
       "\n",
       "    .dataframe thead th {\n",
       "        text-align: right;\n",
       "    }\n",
       "</style>\n",
       "<table border=\"1\" class=\"dataframe\">\n",
       "  <thead>\n",
       "    <tr style=\"text-align: right;\">\n",
       "      <th></th>\n",
       "      <th>balance</th>\n",
       "    </tr>\n",
       "    <tr>\n",
       "      <th>marital</th>\n",
       "      <th></th>\n",
       "    </tr>\n",
       "  </thead>\n",
       "  <tbody>\n",
       "    <tr>\n",
       "      <th>divorced</th>\n",
       "      <td>1185.825365</td>\n",
       "    </tr>\n",
       "    <tr>\n",
       "      <th>married</th>\n",
       "      <td>1459.265784</td>\n",
       "    </tr>\n",
       "    <tr>\n",
       "      <th>single</th>\n",
       "      <td>1313.665745</td>\n",
       "    </tr>\n",
       "  </tbody>\n",
       "</table>\n",
       "</div>"
      ],
      "text/plain": [
       "              balance\n",
       "marital              \n",
       "divorced  1185.825365\n",
       "married   1459.265784\n",
       "single    1313.665745"
      ]
     },
     "execution_count": 14,
     "metadata": {},
     "output_type": "execute_result"
    }
   ],
   "source": [
    "#### (b) Your code here\n",
    "\n",
    "df[['marital', 'balance']].groupby('marital').mean()"
   ]
  },
  {
   "cell_type": "code",
   "execution_count": 15,
   "metadata": {},
   "outputs": [
    {
     "data": {
      "application/vnd.microsoft.datawrangler.viewer.v0+json": {
       "columns": [
        {
         "name": "education",
         "rawType": "object",
         "type": "string"
        },
        {
         "name": "('balance', 'mean')",
         "rawType": "float64",
         "type": "float"
        },
        {
         "name": "('balance', 'std')",
         "rawType": "float64",
         "type": "float"
        }
       ],
       "conversionMethod": "pd.DataFrame",
       "ref": "65026199-407d-4787-8494-fac4970032c2",
       "rows": [
        [
         "secondary",
         "1182.5216679968078",
         "2608.6464347638866"
        ],
        [
         "tertiary",
         "1758.4164348545223",
         "3839.0883045265346"
        ]
       ],
       "shape": {
        "columns": 2,
        "rows": 2
       }
      },
      "text/html": [
       "<div>\n",
       "<style scoped>\n",
       "    .dataframe tbody tr th:only-of-type {\n",
       "        vertical-align: middle;\n",
       "    }\n",
       "\n",
       "    .dataframe tbody tr th {\n",
       "        vertical-align: top;\n",
       "    }\n",
       "\n",
       "    .dataframe thead tr th {\n",
       "        text-align: left;\n",
       "    }\n",
       "\n",
       "    .dataframe thead tr:last-of-type th {\n",
       "        text-align: right;\n",
       "    }\n",
       "</style>\n",
       "<table border=\"1\" class=\"dataframe\">\n",
       "  <thead>\n",
       "    <tr>\n",
       "      <th></th>\n",
       "      <th colspan=\"2\" halign=\"left\">balance</th>\n",
       "    </tr>\n",
       "    <tr>\n",
       "      <th></th>\n",
       "      <th>mean</th>\n",
       "      <th>std</th>\n",
       "    </tr>\n",
       "    <tr>\n",
       "      <th>education</th>\n",
       "      <th></th>\n",
       "      <th></th>\n",
       "    </tr>\n",
       "  </thead>\n",
       "  <tbody>\n",
       "    <tr>\n",
       "      <th>secondary</th>\n",
       "      <td>1182.521668</td>\n",
       "      <td>2608.646435</td>\n",
       "    </tr>\n",
       "    <tr>\n",
       "      <th>tertiary</th>\n",
       "      <td>1758.416435</td>\n",
       "      <td>3839.088305</td>\n",
       "    </tr>\n",
       "  </tbody>\n",
       "</table>\n",
       "</div>"
      ],
      "text/plain": [
       "               balance             \n",
       "                  mean          std\n",
       "education                          \n",
       "secondary  1182.521668  2608.646435\n",
       "tertiary   1758.416435  3839.088305"
      ]
     },
     "execution_count": 15,
     "metadata": {},
     "output_type": "execute_result"
    }
   ],
   "source": [
    "#### (c) Your code here\n",
    "\n",
    "df[['education', 'balance']].groupby('education').agg(['mean', 'std'])"
   ]
  },
  {
   "cell_type": "code",
   "execution_count": 16,
   "metadata": {},
   "outputs": [
    {
     "data": {
      "application/vnd.microsoft.datawrangler.viewer.v0+json": {
       "columns": [
        {
         "name": "job",
         "rawType": "object",
         "type": "string"
        },
        {
         "name": "('balance', 'mean')",
         "rawType": "float64",
         "type": "float"
        },
        {
         "name": "('balance', 'std')",
         "rawType": "float64",
         "type": "float"
        }
       ],
       "conversionMethod": "pd.DataFrame",
       "ref": "db982f5d-746a-441f-a4bb-fc673afe4515",
       "rows": [
        [
         "admin.",
         "1144.4887142281339",
         "2673.2691193164737"
        ],
        [
         "blue-collar",
         "1101.0685879890516",
         "2241.948530338342"
        ],
        [
         "entrepreneur",
         "1499.3113496932515",
         "4052.855185793854"
        ],
        [
         "housemaid",
         "1662.5611745513866",
         "3595.2061743664362"
        ],
        [
         "management",
         "1766.7118385160938",
         "3843.5391698357585"
        ],
        [
         "retired",
         "2040.860449285228",
         "4557.8341709596425"
        ],
        [
         "self-employed",
         "1676.4334023464457",
         "3792.7585039043497"
        ],
        [
         "services",
         "999.8521921764243",
         "2194.8946424691953"
        ],
        [
         "student",
         "1395.1744966442952",
         "2470.1522897542995"
        ],
        [
         "technician",
         "1247.6495496706546",
         "2549.988592980619"
        ],
        [
         "unemployed",
         "1505.4206500956022",
         "3233.7336420707625"
        ]
       ],
       "shape": {
        "columns": 2,
        "rows": 11
       }
      },
      "text/html": [
       "<div>\n",
       "<style scoped>\n",
       "    .dataframe tbody tr th:only-of-type {\n",
       "        vertical-align: middle;\n",
       "    }\n",
       "\n",
       "    .dataframe tbody tr th {\n",
       "        vertical-align: top;\n",
       "    }\n",
       "\n",
       "    .dataframe thead tr th {\n",
       "        text-align: left;\n",
       "    }\n",
       "\n",
       "    .dataframe thead tr:last-of-type th {\n",
       "        text-align: right;\n",
       "    }\n",
       "</style>\n",
       "<table border=\"1\" class=\"dataframe\">\n",
       "  <thead>\n",
       "    <tr>\n",
       "      <th></th>\n",
       "      <th colspan=\"2\" halign=\"left\">balance</th>\n",
       "    </tr>\n",
       "    <tr>\n",
       "      <th></th>\n",
       "      <th>mean</th>\n",
       "      <th>std</th>\n",
       "    </tr>\n",
       "    <tr>\n",
       "      <th>job</th>\n",
       "      <th></th>\n",
       "      <th></th>\n",
       "    </tr>\n",
       "  </thead>\n",
       "  <tbody>\n",
       "    <tr>\n",
       "      <th>admin.</th>\n",
       "      <td>1144.488714</td>\n",
       "      <td>2673.269119</td>\n",
       "    </tr>\n",
       "    <tr>\n",
       "      <th>blue-collar</th>\n",
       "      <td>1101.068588</td>\n",
       "      <td>2241.948530</td>\n",
       "    </tr>\n",
       "    <tr>\n",
       "      <th>entrepreneur</th>\n",
       "      <td>1499.311350</td>\n",
       "      <td>4052.855186</td>\n",
       "    </tr>\n",
       "    <tr>\n",
       "      <th>housemaid</th>\n",
       "      <td>1662.561175</td>\n",
       "      <td>3595.206174</td>\n",
       "    </tr>\n",
       "    <tr>\n",
       "      <th>management</th>\n",
       "      <td>1766.711839</td>\n",
       "      <td>3843.539170</td>\n",
       "    </tr>\n",
       "    <tr>\n",
       "      <th>retired</th>\n",
       "      <td>2040.860449</td>\n",
       "      <td>4557.834171</td>\n",
       "    </tr>\n",
       "    <tr>\n",
       "      <th>self-employed</th>\n",
       "      <td>1676.433402</td>\n",
       "      <td>3792.758504</td>\n",
       "    </tr>\n",
       "    <tr>\n",
       "      <th>services</th>\n",
       "      <td>999.852192</td>\n",
       "      <td>2194.894642</td>\n",
       "    </tr>\n",
       "    <tr>\n",
       "      <th>student</th>\n",
       "      <td>1395.174497</td>\n",
       "      <td>2470.152290</td>\n",
       "    </tr>\n",
       "    <tr>\n",
       "      <th>technician</th>\n",
       "      <td>1247.649550</td>\n",
       "      <td>2549.988593</td>\n",
       "    </tr>\n",
       "    <tr>\n",
       "      <th>unemployed</th>\n",
       "      <td>1505.420650</td>\n",
       "      <td>3233.733642</td>\n",
       "    </tr>\n",
       "  </tbody>\n",
       "</table>\n",
       "</div>"
      ],
      "text/plain": [
       "                   balance             \n",
       "                      mean          std\n",
       "job                                    \n",
       "admin.         1144.488714  2673.269119\n",
       "blue-collar    1101.068588  2241.948530\n",
       "entrepreneur   1499.311350  4052.855186\n",
       "housemaid      1662.561175  3595.206174\n",
       "management     1766.711839  3843.539170\n",
       "retired        2040.860449  4557.834171\n",
       "self-employed  1676.433402  3792.758504\n",
       "services        999.852192  2194.894642\n",
       "student        1395.174497  2470.152290\n",
       "technician     1247.649550  2549.988593\n",
       "unemployed     1505.420650  3233.733642"
      ]
     },
     "execution_count": 16,
     "metadata": {},
     "output_type": "execute_result"
    }
   ],
   "source": [
    "#### (d) Your code here\n",
    "\n",
    "df[['job', 'balance']].groupby('job').agg(['mean', 'std'])"
   ]
  },
  {
   "cell_type": "code",
   "execution_count": 17,
   "metadata": {},
   "outputs": [
    {
     "data": {
      "application/vnd.microsoft.datawrangler.viewer.v0+json": {
       "columns": [
        {
         "name": "('education', 'marital')",
         "rawType": "object",
         "type": "unknown"
        },
        {
         "name": "('balance', 'mean')",
         "rawType": "float64",
         "type": "float"
        },
        {
         "name": "('balance', 'std')",
         "rawType": "float64",
         "type": "float"
        }
       ],
       "conversionMethod": "pd.DataFrame",
       "ref": "c529c2e5-d0f0-4706-9072-3a1287a7ab3f",
       "rows": [
        [
         "('secondary', 'divorced')",
         "931.904490616622",
         "2086.4545689711927"
        ],
        [
         "('secondary', 'married')",
         "1275.6614426361261",
         "2808.0059582546487"
        ],
        [
         "('secondary', 'single')",
         "1092.5526941917424",
         "2349.776272033767"
        ],
        [
         "('tertiary', 'divorced')",
         "1700.9170632222977",
         "4252.286796847155"
        ],
        [
         "('tertiary', 'married')",
         "1848.779340721796",
         "3937.5211350872896"
        ],
        [
         "('tertiary', 'single')",
         "1643.3512103505843",
         "3545.187121985532"
        ]
       ],
       "shape": {
        "columns": 2,
        "rows": 6
       }
      },
      "text/html": [
       "<div>\n",
       "<style scoped>\n",
       "    .dataframe tbody tr th:only-of-type {\n",
       "        vertical-align: middle;\n",
       "    }\n",
       "\n",
       "    .dataframe tbody tr th {\n",
       "        vertical-align: top;\n",
       "    }\n",
       "\n",
       "    .dataframe thead tr th {\n",
       "        text-align: left;\n",
       "    }\n",
       "\n",
       "    .dataframe thead tr:last-of-type th {\n",
       "        text-align: right;\n",
       "    }\n",
       "</style>\n",
       "<table border=\"1\" class=\"dataframe\">\n",
       "  <thead>\n",
       "    <tr>\n",
       "      <th></th>\n",
       "      <th></th>\n",
       "      <th colspan=\"2\" halign=\"left\">balance</th>\n",
       "    </tr>\n",
       "    <tr>\n",
       "      <th></th>\n",
       "      <th></th>\n",
       "      <th>mean</th>\n",
       "      <th>std</th>\n",
       "    </tr>\n",
       "    <tr>\n",
       "      <th>education</th>\n",
       "      <th>marital</th>\n",
       "      <th></th>\n",
       "      <th></th>\n",
       "    </tr>\n",
       "  </thead>\n",
       "  <tbody>\n",
       "    <tr>\n",
       "      <th rowspan=\"3\" valign=\"top\">secondary</th>\n",
       "      <th>divorced</th>\n",
       "      <td>931.904491</td>\n",
       "      <td>2086.454569</td>\n",
       "    </tr>\n",
       "    <tr>\n",
       "      <th>married</th>\n",
       "      <td>1275.661443</td>\n",
       "      <td>2808.005958</td>\n",
       "    </tr>\n",
       "    <tr>\n",
       "      <th>single</th>\n",
       "      <td>1092.552694</td>\n",
       "      <td>2349.776272</td>\n",
       "    </tr>\n",
       "    <tr>\n",
       "      <th rowspan=\"3\" valign=\"top\">tertiary</th>\n",
       "      <th>divorced</th>\n",
       "      <td>1700.917063</td>\n",
       "      <td>4252.286797</td>\n",
       "    </tr>\n",
       "    <tr>\n",
       "      <th>married</th>\n",
       "      <td>1848.779341</td>\n",
       "      <td>3937.521135</td>\n",
       "    </tr>\n",
       "    <tr>\n",
       "      <th>single</th>\n",
       "      <td>1643.351210</td>\n",
       "      <td>3545.187122</td>\n",
       "    </tr>\n",
       "  </tbody>\n",
       "</table>\n",
       "</div>"
      ],
      "text/plain": [
       "                        balance             \n",
       "                           mean          std\n",
       "education marital                           \n",
       "secondary divorced   931.904491  2086.454569\n",
       "          married   1275.661443  2808.005958\n",
       "          single    1092.552694  2349.776272\n",
       "tertiary  divorced  1700.917063  4252.286797\n",
       "          married   1848.779341  3937.521135\n",
       "          single    1643.351210  3545.187122"
      ]
     },
     "execution_count": 17,
     "metadata": {},
     "output_type": "execute_result"
    }
   ],
   "source": [
    "#### (e) Your code here\n",
    "\n",
    "df[['education', 'balance', 'marital']].groupby(['education', 'marital']).agg(['mean', 'std'])"
   ]
  },
  {
   "cell_type": "code",
   "execution_count": 27,
   "metadata": {},
   "outputs": [
    {
     "name": "stderr",
     "output_type": "stream",
     "text": [
      "/var/folders/kx/58cjbwzx5jjgn5w_sjz3qk0w0000gn/T/ipykernel_28239/2380327563.py:3: DeprecationWarning: DataFrameGroupBy.apply operated on the grouping columns. This behavior is deprecated, and in a future version of pandas the grouping columns will be excluded from the operation. Either pass `include_groups=False` to exclude the groupings or explicitly select the grouping columns after groupby to silence this warning.\n",
      "  df[['loan', 'marital']].groupby(['marital']).apply(lambda x: (x['loan'] == 'yes').sum())\n"
     ]
    },
    {
     "data": {
      "text/plain": [
       "marital\n",
       "divorced     821\n",
       "married     3844\n",
       "single      1555\n",
       "dtype: int64"
      ]
     },
     "execution_count": 27,
     "metadata": {},
     "output_type": "execute_result"
    }
   ],
   "source": [
    "#### (f) Your code here\n",
    "\n",
    "df[['loan', 'marital']].groupby(['marital']).apply(lambda x: (x['loan'] == 'yes').sum())"
   ]
  },
  {
   "cell_type": "code",
   "execution_count": 25,
   "metadata": {},
   "outputs": [
    {
     "name": "stderr",
     "output_type": "stream",
     "text": [
      "/var/folders/kx/58cjbwzx5jjgn5w_sjz3qk0w0000gn/T/ipykernel_28239/3674948425.py:3: FutureWarning: Series.__getitem__ treating keys as positions is deprecated. In a future version, integer keys will always be treated as labels (consistent with DataFrame behavior). To access a value by position, use `ser.iloc[pos]`\n",
      "  df[['job', 'balance']].groupby('job').mean().idxmin()[0]\n"
     ]
    },
    {
     "data": {
      "text/plain": [
       "'services'"
      ]
     },
     "execution_count": 25,
     "metadata": {},
     "output_type": "execute_result"
    }
   ],
   "source": [
    "#### (g) Your code here\n",
    "\n",
    "df[['job', 'balance']].groupby('job').mean().idxmin()[0]"
   ]
  },
  {
   "cell_type": "code",
   "execution_count": 28,
   "metadata": {},
   "outputs": [
    {
     "data": {
      "text/plain": [
       "balance  mean     (tertiary, married)\n",
       "         std     (tertiary, divorced)\n",
       "dtype: object"
      ]
     },
     "execution_count": 28,
     "metadata": {},
     "output_type": "execute_result"
    }
   ],
   "source": [
    "#### (h) Your code here\n",
    "\n",
    "df[['education', 'balance', 'marital']].groupby(['education', 'marital']).agg(['mean', 'std']).idxmax()"
   ]
  },
  {
   "cell_type": "code",
   "execution_count": null,
   "metadata": {},
   "outputs": [],
   "source": []
  }
 ],
 "metadata": {
  "kernelspec": {
   "display_name": "projectenv",
   "language": "python",
   "name": "python3"
  },
  "language_info": {
   "codemirror_mode": {
    "name": "ipython",
    "version": 3
   },
   "file_extension": ".py",
   "mimetype": "text/x-python",
   "name": "python",
   "nbconvert_exporter": "python",
   "pygments_lexer": "ipython3",
   "version": "3.10.16"
  }
 },
 "nbformat": 4,
 "nbformat_minor": 1
}
